{
 "cells": [
  {
   "cell_type": "code",
   "execution_count": 1,
   "metadata": {},
   "outputs": [],
   "source": [
    "import numpy as np\n",
    "import pandas as pd\n",
    "import nltk\n",
    "import matplotlib.pyplot as plt\n",
    "import seaborn as sns\n",
    "from sklearn.feature_extraction.text import TfidfVectorizer\n",
    "from sklearn.cluster import KMeans\n",
    "from sklearn.metrics import adjusted_rand_score\n",
    "from sklearn.feature_extraction.text import TfidfVectorizer\n",
    "from sklearn.decomposition import PCA\n",
    "from sklearn.cluster import KMeans\n",
    "from sklearn import metrics\n",
    "from scipy.spatial.distance import cdist\n",
    "from sklearn.manifold import TSNE"
   ]
  },
  {
   "cell_type": "code",
   "execution_count": 2,
   "metadata": {},
   "outputs": [],
   "source": [
    "strategy=pd.read_csv('FCM_Problems_and_Strategies_with_labels0730.csv')"
   ]
  },
  {
   "cell_type": "code",
   "execution_count": 3,
   "metadata": {},
   "outputs": [
    {
     "data": {
      "text/plain": [
       "(4039, 5)"
      ]
     },
     "execution_count": 3,
     "metadata": {},
     "output_type": "execute_result"
    }
   ],
   "source": [
    "problem=pd.read_csv('Problems_and_Strategies_with_labels.csv')\n",
    "problem=problem.loc[:,['ID','Problem','Problem_Label']]\n",
    "problem['Strategy']=strategy['Strategy']\n",
    "problem['Strategy_Label']=strategy['Strategy_Label']\n",
    "full=problem\n",
    "full.shape"
   ]
  },
  {
   "cell_type": "code",
   "execution_count": 4,
   "metadata": {},
   "outputs": [
    {
     "data": {
      "text/html": [
       "<div>\n",
       "<style scoped>\n",
       "    .dataframe tbody tr th:only-of-type {\n",
       "        vertical-align: middle;\n",
       "    }\n",
       "\n",
       "    .dataframe tbody tr th {\n",
       "        vertical-align: top;\n",
       "    }\n",
       "\n",
       "    .dataframe thead th {\n",
       "        text-align: right;\n",
       "    }\n",
       "</style>\n",
       "<table border=\"1\" class=\"dataframe\">\n",
       "  <thead>\n",
       "    <tr style=\"text-align: right;\">\n",
       "      <th></th>\n",
       "      <th>ID</th>\n",
       "      <th>Problem</th>\n",
       "      <th>Problem_Label</th>\n",
       "      <th>Strategy</th>\n",
       "      <th>Strategy_Label</th>\n",
       "    </tr>\n",
       "  </thead>\n",
       "  <tbody>\n",
       "    <tr>\n",
       "      <th>0</th>\n",
       "      <td>77th 1-16-40-2</td>\n",
       "      <td>wants to expunge her record</td>\n",
       "      <td>Emotional/behavior issues</td>\n",
       "      <td>cm will contact past employers with client to ...</td>\n",
       "      <td>Mentorship for school/job readiness</td>\n",
       "    </tr>\n",
       "    <tr>\n",
       "      <th>1</th>\n",
       "      <td>77th 1-16-45-1</td>\n",
       "      <td>needs a job client is a foster kid and her fos...</td>\n",
       "      <td>Emotional/behavior issues</td>\n",
       "      <td>speak to teacher about mother and refer client...</td>\n",
       "      <td>Mentorship for school/job readiness</td>\n",
       "    </tr>\n",
       "    <tr>\n",
       "      <th>2</th>\n",
       "      <td>77th 1-16-47-2</td>\n",
       "      <td>has poor grades and want to get better grades</td>\n",
       "      <td>Emotional/behavior issues</td>\n",
       "      <td>cm will work on getting tutoring services alon...</td>\n",
       "      <td>Mentorship for school/job readiness</td>\n",
       "    </tr>\n",
       "    <tr>\n",
       "      <th>3</th>\n",
       "      <td>77th 1-16-50-2</td>\n",
       "      <td>client don't believe in herself</td>\n",
       "      <td>Emotional/behavior issues</td>\n",
       "      <td>to mentor client with basic life skills and se...</td>\n",
       "      <td>Substance abuse/Anger management/Life skill class</td>\n",
       "    </tr>\n",
       "    <tr>\n",
       "      <th>4</th>\n",
       "      <td>77th 1-16-64-1</td>\n",
       "      <td>client has a lot of issues he is a foster kid ...</td>\n",
       "      <td>Emotional/behavior issues</td>\n",
       "      <td>referred him to in-house services through sea ...</td>\n",
       "      <td>Mentorship for school/job readiness</td>\n",
       "    </tr>\n",
       "  </tbody>\n",
       "</table>\n",
       "</div>"
      ],
      "text/plain": [
       "               ID                                            Problem  \\\n",
       "0  77th 1-16-40-2                        wants to expunge her record   \n",
       "1  77th 1-16-45-1  needs a job client is a foster kid and her fos...   \n",
       "2  77th 1-16-47-2      has poor grades and want to get better grades   \n",
       "3  77th 1-16-50-2                    client don't believe in herself   \n",
       "4  77th 1-16-64-1  client has a lot of issues he is a foster kid ...   \n",
       "\n",
       "               Problem_Label  \\\n",
       "0  Emotional/behavior issues   \n",
       "1  Emotional/behavior issues   \n",
       "2  Emotional/behavior issues   \n",
       "3  Emotional/behavior issues   \n",
       "4  Emotional/behavior issues   \n",
       "\n",
       "                                            Strategy  \\\n",
       "0  cm will contact past employers with client to ...   \n",
       "1  speak to teacher about mother and refer client...   \n",
       "2  cm will work on getting tutoring services alon...   \n",
       "3  to mentor client with basic life skills and se...   \n",
       "4  referred him to in-house services through sea ...   \n",
       "\n",
       "                                      Strategy_Label  \n",
       "0                Mentorship for school/job readiness  \n",
       "1                Mentorship for school/job readiness  \n",
       "2                Mentorship for school/job readiness  \n",
       "3  Substance abuse/Anger management/Life skill class  \n",
       "4                Mentorship for school/job readiness  "
      ]
     },
     "execution_count": 4,
     "metadata": {},
     "output_type": "execute_result"
    }
   ],
   "source": [
    "full.head()"
   ]
  },
  {
   "cell_type": "code",
   "execution_count": 5,
   "metadata": {},
   "outputs": [],
   "source": [
    "score=pd.read_csv('full_embeddedness.csv')"
   ]
  },
  {
   "cell_type": "code",
   "execution_count": 6,
   "metadata": {},
   "outputs": [],
   "source": [
    "df = pd.merge(left=full, right=score, left_on='ID', right_on='ID',how='inner')\n",
    "df=df.drop_duplicates()"
   ]
  },
  {
   "cell_type": "code",
   "execution_count": 13,
   "metadata": {
    "scrolled": true
   },
   "outputs": [],
   "source": [
    "df.loc[df['Problem_Label'] == 'Need assistance with school enrollment/improving school grades', 'Problem_Label'] = 'school-related issues'"
   ]
  },
  {
   "cell_type": "code",
   "execution_count": 15,
   "metadata": {},
   "outputs": [],
   "source": [
    "df.loc[df['Problem_Label'] == 'Need to complete community service hours for probation requirements', 'Problem_Label'] = 'probation-related issues'"
   ]
  },
  {
   "cell_type": "code",
   "execution_count": 30,
   "metadata": {},
   "outputs": [],
   "source": [
    "df.loc[df['Problem_Label'] == 'Need work ready documents/California id', 'Problem_Label'] = 'Lack work documents/CA ID'"
   ]
  },
  {
   "cell_type": "code",
   "execution_count": 32,
   "metadata": {},
   "outputs": [],
   "source": [
    "df.loc[df['Problem_Label'] == 'Need assistance with employment search', 'Problem_Label'] = 'employment-related issues'"
   ]
  },
  {
   "cell_type": "code",
   "execution_count": 38,
   "metadata": {},
   "outputs": [],
   "source": [
    "df.loc[df['Problem_Label'] == 'Need mentoring from CM/CIW to navagate interpersonal relationships', 'Problem_Label'] = 'interpersonal relationship issues'"
   ]
  },
  {
   "cell_type": "code",
   "execution_count": 39,
   "metadata": {
    "scrolled": false
   },
   "outputs": [
    {
     "data": {
      "text/plain": [
       "Text(0.5, 1.0, 'Problem vs Score')"
      ]
     },
     "execution_count": 39,
     "metadata": {},
     "output_type": "execute_result"
    },
    {
     "data": {
      "image/png": "[encoded data removed]",
      "text/plain": [
       "<Figure size 432x288 with 1 Axes>"
      ]
     },
     "metadata": {
      "needs_background": "light"
     },
     "output_type": "display_data"
    }
   ],
   "source": [
    "ch=sns.boxplot(x='Problem_Label',y='risk',data=df,palette='rainbow')\n",
    "ch.set_xticklabels(ch.get_xticklabels(), rotation=45, horizontalalignment='right')\n",
    "plt.title('Problem vs Score')\n"
   ]
  },
  {
   "cell_type": "code",
   "execution_count": null,
   "metadata": {},
   "outputs": [],
   "source": [
    "df.loc[df['Problem_Label'] == 'Need mentoring from CM/CIW to navagate interpersonal relationships', 'Problem_Label'] = 'interpersonal relationship issues'"
   ]
  },
  {
   "cell_type": "code",
   "execution_count": null,
   "metadata": {},
   "outputs": [],
   "source": []
  },
  {
   "cell_type": "code",
   "execution_count": null,
   "metadata": {},
   "outputs": [],
   "source": []
  },
  {
   "cell_type": "code",
   "execution_count": null,
   "metadata": {},
   "outputs": [],
   "source": []
  },
  {
   "cell_type": "code",
   "execution_count": null,
   "metadata": {},
   "outputs": [],
   "source": []
  },
  {
   "cell_type": "code",
   "execution_count": null,
   "metadata": {},
   "outputs": [],
   "source": []
  },
  {
   "cell_type": "code",
   "execution_count": 40,
   "metadata": {},
   "outputs": [
    {
     "data": {
      "text/plain": [
       "Text(0.5, 1.0, 'Strategy vs Score')"
      ]
     },
     "execution_count": 40,
     "metadata": {},
     "output_type": "execute_result"
    },
    {
     "data": {
      "image/png": "[encoded data removed]",
      "text/plain": [
       "<Figure size 432x288 with 1 Axes>"
      ]
     },
     "metadata": {
      "needs_background": "light"
     },
     "output_type": "display_data"
    }
   ],
   "source": [
    "ch=sns.boxplot(x='Strategy_Label',y='risk',data=df,palette='rainbow')\n",
    "ch.set_xticklabels(ch.get_xticklabels(), rotation=45, horizontalalignment='right')\n",
    "plt.title('Strategy vs Score')"
   ]
  },
  {
   "cell_type": "code",
   "execution_count": 10,
   "metadata": {},
   "outputs": [],
   "source": [
    "df.to_csv('problem,strategy.csv', index = False)"
   ]
  },
  {
   "cell_type": "code",
   "execution_count": 11,
   "metadata": {},
   "outputs": [
    {
     "data": {
      "text/plain": [
       "(3058, 13)"
      ]
     },
     "execution_count": 11,
     "metadata": {},
     "output_type": "execute_result"
    }
   ],
   "source": [
    "df.shape"
   ]
  },
  {
   "cell_type": "code",
   "execution_count": 12,
   "metadata": {},
   "outputs": [
    {
     "data": {
      "text/html": [
       "<div>\n",
       "<style scoped>\n",
       "    .dataframe tbody tr th:only-of-type {\n",
       "        vertical-align: middle;\n",
       "    }\n",
       "\n",
       "    .dataframe tbody tr th {\n",
       "        vertical-align: top;\n",
       "    }\n",
       "\n",
       "    .dataframe thead th {\n",
       "        text-align: right;\n",
       "    }\n",
       "</style>\n",
       "<table border=\"1\" class=\"dataframe\">\n",
       "  <thead>\n",
       "    <tr style=\"text-align: right;\">\n",
       "      <th></th>\n",
       "      <th>ID</th>\n",
       "      <th>Problem</th>\n",
       "      <th>Problem_Label</th>\n",
       "      <th>Strategy</th>\n",
       "      <th>Strategy_Label</th>\n",
       "      <th>admin</th>\n",
       "      <th>age</th>\n",
       "      <th>sex</th>\n",
       "      <th>zone</th>\n",
       "      <th>gang</th>\n",
       "      <th>family</th>\n",
       "      <th>other</th>\n",
       "      <th>risk</th>\n",
       "    </tr>\n",
       "  </thead>\n",
       "  <tbody>\n",
       "    <tr>\n",
       "      <th>0</th>\n",
       "      <td>77th 1-16-64-1</td>\n",
       "      <td>client has a lot of issues he is a foster kid ...</td>\n",
       "      <td>Emotional/behavior issues</td>\n",
       "      <td>referred him to in-house services through sea ...</td>\n",
       "      <td>Mentorship for school/job readiness</td>\n",
       "      <td>1</td>\n",
       "      <td>17.0</td>\n",
       "      <td>1</td>\n",
       "      <td>1.0</td>\n",
       "      <td>-0.014132</td>\n",
       "      <td>-1.606012</td>\n",
       "      <td>-0.178780</td>\n",
       "      <td>2.276122</td>\n",
       "    </tr>\n",
       "    <tr>\n",
       "      <th>1</th>\n",
       "      <td>77th 1-16-64-1</td>\n",
       "      <td>client has a lot of issues he is a foster kid ...</td>\n",
       "      <td>Emotional/behavior issues</td>\n",
       "      <td>referred him to in-house services through sea ...</td>\n",
       "      <td>Mentorship for school/job readiness</td>\n",
       "      <td>2</td>\n",
       "      <td>17.0</td>\n",
       "      <td>1</td>\n",
       "      <td>1.0</td>\n",
       "      <td>-1.619353</td>\n",
       "      <td>-0.649773</td>\n",
       "      <td>0.524949</td>\n",
       "      <td>-1.745610</td>\n",
       "    </tr>\n",
       "    <tr>\n",
       "      <th>2</th>\n",
       "      <td>77th 1-16-81-1</td>\n",
       "      <td>low self esteem</td>\n",
       "      <td>Emotional/behavior issues</td>\n",
       "      <td>life skills- self love</td>\n",
       "      <td>Substance abuse/Anger management/Life skill class</td>\n",
       "      <td>1</td>\n",
       "      <td>18.0</td>\n",
       "      <td>2</td>\n",
       "      <td>1.0</td>\n",
       "      <td>0.564769</td>\n",
       "      <td>1.581231</td>\n",
       "      <td>NaN</td>\n",
       "      <td>-0.432885</td>\n",
       "    </tr>\n",
       "    <tr>\n",
       "      <th>3</th>\n",
       "      <td>77th 1-16-81-1</td>\n",
       "      <td>low self esteem</td>\n",
       "      <td>Emotional/behavior issues</td>\n",
       "      <td>life skills- self love</td>\n",
       "      <td>Substance abuse/Anger management/Life skill class</td>\n",
       "      <td>2</td>\n",
       "      <td>18.0</td>\n",
       "      <td>2</td>\n",
       "      <td>1.0</td>\n",
       "      <td>-2.870912</td>\n",
       "      <td>-0.007304</td>\n",
       "      <td>-1.015941</td>\n",
       "      <td>-2.667042</td>\n",
       "    </tr>\n",
       "    <tr>\n",
       "      <th>4</th>\n",
       "      <td>77th 1-16-95-1</td>\n",
       "      <td>client has girl drama at school with gossiping...</td>\n",
       "      <td>Emotional/behavior issues</td>\n",
       "      <td>one on one anger management skills</td>\n",
       "      <td>Substance abuse/Anger management/Life skill class</td>\n",
       "      <td>1</td>\n",
       "      <td>17.0</td>\n",
       "      <td>2</td>\n",
       "      <td>1.0</td>\n",
       "      <td>1.874593</td>\n",
       "      <td>-1.282688</td>\n",
       "      <td>NaN</td>\n",
       "      <td>2.209041</td>\n",
       "    </tr>\n",
       "    <tr>\n",
       "      <th>...</th>\n",
       "      <td>...</td>\n",
       "      <td>...</td>\n",
       "      <td>...</td>\n",
       "      <td>...</td>\n",
       "      <td>...</td>\n",
       "      <td>...</td>\n",
       "      <td>...</td>\n",
       "      <td>...</td>\n",
       "      <td>...</td>\n",
       "      <td>...</td>\n",
       "      <td>...</td>\n",
       "      <td>...</td>\n",
       "      <td>...</td>\n",
       "    </tr>\n",
       "    <tr>\n",
       "      <th>3059</th>\n",
       "      <td>Southwest 2-23-277-1</td>\n",
       "      <td>client is currently on probation.</td>\n",
       "      <td>Emotional/behavior issues</td>\n",
       "      <td>cm developed a plan that client is to attend a...</td>\n",
       "      <td>Mentorship for school/job readiness</td>\n",
       "      <td>1</td>\n",
       "      <td>18.0</td>\n",
       "      <td>1</td>\n",
       "      <td>23.0</td>\n",
       "      <td>NaN</td>\n",
       "      <td>-1.701536</td>\n",
       "      <td>NaN</td>\n",
       "      <td>0.870485</td>\n",
       "    </tr>\n",
       "    <tr>\n",
       "      <th>3060</th>\n",
       "      <td>Southwest 2-23-278-1</td>\n",
       "      <td>client is currently on probation.</td>\n",
       "      <td>Emotional/behavior issues</td>\n",
       "      <td>cm has developed a plan for client to attend a...</td>\n",
       "      <td>Mentorship for school/job readiness</td>\n",
       "      <td>1</td>\n",
       "      <td>15.0</td>\n",
       "      <td>1</td>\n",
       "      <td>23.0</td>\n",
       "      <td>NaN</td>\n",
       "      <td>-3.189209</td>\n",
       "      <td>NaN</td>\n",
       "      <td>0.674581</td>\n",
       "    </tr>\n",
       "    <tr>\n",
       "      <th>3061</th>\n",
       "      <td>Southwest 2-23-279-1</td>\n",
       "      <td>client is currently on probation.</td>\n",
       "      <td>Emotional/behavior issues</td>\n",
       "      <td>cm will conducted workshops needed for client ...</td>\n",
       "      <td>Mentorship for school/job readiness</td>\n",
       "      <td>1</td>\n",
       "      <td>18.0</td>\n",
       "      <td>2</td>\n",
       "      <td>23.0</td>\n",
       "      <td>NaN</td>\n",
       "      <td>-0.818635</td>\n",
       "      <td>NaN</td>\n",
       "      <td>2.572766</td>\n",
       "    </tr>\n",
       "    <tr>\n",
       "      <th>3062</th>\n",
       "      <td>Southwest 2-23-280-1</td>\n",
       "      <td>client is currently on probation.</td>\n",
       "      <td>Emotional/behavior issues</td>\n",
       "      <td>cm will provide client with substance abuse wo...</td>\n",
       "      <td>Substance abuse/Anger management/Life skill class</td>\n",
       "      <td>1</td>\n",
       "      <td>15.0</td>\n",
       "      <td>2</td>\n",
       "      <td>23.0</td>\n",
       "      <td>NaN</td>\n",
       "      <td>-1.823371</td>\n",
       "      <td>NaN</td>\n",
       "      <td>-2.667042</td>\n",
       "    </tr>\n",
       "    <tr>\n",
       "      <th>3063</th>\n",
       "      <td>Southwest 2-23-281-1</td>\n",
       "      <td>client is currently on probation.</td>\n",
       "      <td>Emotional/behavior issues</td>\n",
       "      <td>cm will conduct substance abuse workshops that...</td>\n",
       "      <td>Substance abuse/Anger management/Life skill class</td>\n",
       "      <td>1</td>\n",
       "      <td>18.0</td>\n",
       "      <td>1</td>\n",
       "      <td>23.0</td>\n",
       "      <td>NaN</td>\n",
       "      <td>-1.442802</td>\n",
       "      <td>NaN</td>\n",
       "      <td>0.756585</td>\n",
       "    </tr>\n",
       "  </tbody>\n",
       "</table>\n",
       "<p>3058 rows × 13 columns</p>\n",
       "</div>"
      ],
      "text/plain": [
       "                        ID                                            Problem  \\\n",
       "0           77th 1-16-64-1  client has a lot of issues he is a foster kid ...   \n",
       "1           77th 1-16-64-1  client has a lot of issues he is a foster kid ...   \n",
       "2           77th 1-16-81-1                                    low self esteem   \n",
       "3           77th 1-16-81-1                                    low self esteem   \n",
       "4           77th 1-16-95-1  client has girl drama at school with gossiping...   \n",
       "...                    ...                                                ...   \n",
       "3059  Southwest 2-23-277-1                  client is currently on probation.   \n",
       "3060  Southwest 2-23-278-1                  client is currently on probation.   \n",
       "3061  Southwest 2-23-279-1                  client is currently on probation.   \n",
       "3062  Southwest 2-23-280-1                  client is currently on probation.   \n",
       "3063  Southwest 2-23-281-1                  client is currently on probation.   \n",
       "\n",
       "                  Problem_Label  \\\n",
       "0     Emotional/behavior issues   \n",
       "1     Emotional/behavior issues   \n",
       "2     Emotional/behavior issues   \n",
       "3     Emotional/behavior issues   \n",
       "4     Emotional/behavior issues   \n",
       "...                         ...   \n",
       "3059  Emotional/behavior issues   \n",
       "3060  Emotional/behavior issues   \n",
       "3061  Emotional/behavior issues   \n",
       "3062  Emotional/behavior issues   \n",
       "3063  Emotional/behavior issues   \n",
       "\n",
       "                                               Strategy  \\\n",
       "0     referred him to in-house services through sea ...   \n",
       "1     referred him to in-house services through sea ...   \n",
       "2                                life skills- self love   \n",
       "3                                life skills- self love   \n",
       "4                    one on one anger management skills   \n",
       "...                                                 ...   \n",
       "3059  cm developed a plan that client is to attend a...   \n",
       "3060  cm has developed a plan for client to attend a...   \n",
       "3061  cm will conducted workshops needed for client ...   \n",
       "3062  cm will provide client with substance abuse wo...   \n",
       "3063  cm will conduct substance abuse workshops that...   \n",
       "\n",
       "                                         Strategy_Label  admin   age  sex  \\\n",
       "0                   Mentorship for school/job readiness      1  17.0    1   \n",
       "1                   Mentorship for school/job readiness      2  17.0    1   \n",
       "2     Substance abuse/Anger management/Life skill class      1  18.0    2   \n",
       "3     Substance abuse/Anger management/Life skill class      2  18.0    2   \n",
       "4     Substance abuse/Anger management/Life skill class      1  17.0    2   \n",
       "...                                                 ...    ...   ...  ...   \n",
       "3059                Mentorship for school/job readiness      1  18.0    1   \n",
       "3060                Mentorship for school/job readiness      1  15.0    1   \n",
       "3061                Mentorship for school/job readiness      1  18.0    2   \n",
       "3062  Substance abuse/Anger management/Life skill class      1  15.0    2   \n",
       "3063  Substance abuse/Anger management/Life skill class      1  18.0    1   \n",
       "\n",
       "      zone      gang    family     other      risk  \n",
       "0      1.0 -0.014132 -1.606012 -0.178780  2.276122  \n",
       "1      1.0 -1.619353 -0.649773  0.524949 -1.745610  \n",
       "2      1.0  0.564769  1.581231       NaN -0.432885  \n",
       "3      1.0 -2.870912 -0.007304 -1.015941 -2.667042  \n",
       "4      1.0  1.874593 -1.282688       NaN  2.209041  \n",
       "...    ...       ...       ...       ...       ...  \n",
       "3059  23.0       NaN -1.701536       NaN  0.870485  \n",
       "3060  23.0       NaN -3.189209       NaN  0.674581  \n",
       "3061  23.0       NaN -0.818635       NaN  2.572766  \n",
       "3062  23.0       NaN -1.823371       NaN -2.667042  \n",
       "3063  23.0       NaN -1.442802       NaN  0.756585  \n",
       "\n",
       "[3058 rows x 13 columns]"
      ]
     },
     "execution_count": 12,
     "metadata": {},
     "output_type": "execute_result"
    }
   ],
   "source": [
    "df"
   ]
  },
  {
   "cell_type": "code",
   "execution_count": null,
   "metadata": {},
   "outputs": [],
   "source": []
  }
 ],
 "metadata": {
  "kernelspec": {
   "display_name": "Python 3",
   "language": "python",
   "name": "python3"
  },
  "language_info": {
   "codemirror_mode": {
    "name": "ipython",
    "version": 3
   },
   "file_extension": ".py",
   "mimetype": "text/x-python",
   "name": "python",
   "nbconvert_exporter": "python",
   "pygments_lexer": "ipython3",
   "version": "3.7.6"
  }
 },
 "nbformat": 4,
 "nbformat_minor": 4
}

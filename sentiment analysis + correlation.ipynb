{
 "cells": [
  {
   "cell_type": "code",
   "execution_count": 1,
   "metadata": {},
   "outputs": [
    {
     "name": "stdout",
     "output_type": "stream",
     "text": [
      "!\"#$%&'()*+,-./:;<=>?@[\\]^_`{|}~\n"
     ]
    }
   ],
   "source": [
    "import numpy as np\n",
    "import pandas as pd\n",
    "import matplotlib.pyplot as plt\n",
    "import seaborn as sns\n",
    "import nltk\n",
    "from nltk.corpus import stopwords\n",
    "from string import punctuation\n",
    "print(punctuation)\n",
    "from nltk.tag import pos_tag\n",
    "from nltk.stem.wordnet import WordNetLemmatizer"
   ]
  },
  {
   "cell_type": "markdown",
   "metadata": {},
   "source": [
    "clean the original data"
   ]
  },
  {
   "cell_type": "code",
   "execution_count": 2,
   "metadata": {},
   "outputs": [],
   "source": [
    "df = pd.read_csv(\"SET_processed_latest_version.csv\")\n",
    "for i in range(df.shape[1]):\n",
    "    df.iloc[:,i]= df.iloc[:,i].replace([555, 777,888,999,'555','777','888','999' ], np.nan)\n",
    "text=df.loc[:,['GRYD_ETO_ID','S6b_Other_Activities','S11a_Comments','A1_Description','A2_Description','A3_Description','O1_other_group_name','Group_name_part1','PUSH_1','PULL_1']]\n",
    "text[\"text_all\"] = text.apply(lambda x: ','.join(x.dropna()), axis=1)\n"
   ]
  },
  {
   "cell_type": "markdown",
   "metadata": {},
   "source": [
    "normalize function"
   ]
  },
  {
   "cell_type": "code",
   "execution_count": 3,
   "metadata": {},
   "outputs": [],
   "source": [
    "import re, string\n",
    "\n",
    "def remove_noise(tweet_tokens, stop_words = ()):\n",
    "\n",
    "    cleaned_tokens = []\n",
    "\n",
    "    for token, tag in pos_tag(tweet_tokens):\n",
    "        token = re.sub('http[s]?://(?:[a-zA-Z]|[0-9]|[$-_@.&+#]|[!*\\(\\),]|'\\\n",
    "                       '(?:%[0-9a-fA-F][0-9a-fA-F]))+','', token)\n",
    "        token = re.sub(\"(@[A-Za-z0-9_]+)\",\"\", token)\n",
    "\n",
    "        if tag.startswith(\"NN\"):\n",
    "            pos = 'n'\n",
    "        elif tag.startswith('VB'):\n",
    "            pos = 'v'\n",
    "        else:\n",
    "            pos = 'a'\n",
    "\n",
    "        lemmatizer = WordNetLemmatizer()\n",
    "        token = lemmatizer.lemmatize(token, pos)\n",
    "\n",
    "        if len(token) > 0 and token not in string.punctuation and token.lower() not in stop_words:\n",
    "            cleaned_tokens.append(token.lower())\n",
    "    return cleaned_tokens"
   ]
  },
  {
   "cell_type": "code",
   "execution_count": 4,
   "metadata": {},
   "outputs": [],
   "source": [
    "from nltk.corpus import stopwords\n",
    "sw = stopwords.words('english')\n",
    "\n",
    "def  normalize (df):\n",
    "    contents=df.dropna().values\n",
    "    \n",
    "\n",
    "    \n",
    "    \n",
    "    for i in range (contents.shape[0]):\n",
    "        contents[i]=contents[i].replace(\",\", \" \")\n",
    "        \n",
    "    all_contents = [''.join([c for c in i if c not in punctuation]) for i in contents]\n",
    "    all_contents = [i.lower() for i in all_contents]\n",
    "    all_contents= [i.split() for i in all_contents]\n",
    "    \n",
    "    for i in range (len(all_contents)):\n",
    "        all_contents[i]=remove_noise(all_contents[i],sw)\n",
    "    \n",
    "    \n",
    "    clean_tokens = [[] for _ in range(len(all_contents))]\n",
    "    other_trash = ['im','a','u','2','wont','thats','dont', 'cant', 'didnt','isnt','ive','doesnt']\n",
    "    trash_tokens = sw + other_trash\n",
    "    for i in range(len(all_contents)):\n",
    "        for token in all_contents[i]:\n",
    "            if token not in trash_tokens:\n",
    "                clean_tokens[i].append(token)\n",
    "       \n",
    "    \n",
    "\n",
    "    \n",
    "    return clean_tokens"
   ]
  },
  {
   "cell_type": "code",
   "execution_count": 5,
   "metadata": {},
   "outputs": [],
   "source": [
    "original = normalize(text['S11a_Comments'])"
   ]
  },
  {
   "cell_type": "markdown",
   "metadata": {},
   "source": [
    "combine data + sample data exploration"
   ]
  },
  {
   "cell_type": "code",
   "execution_count": 6,
   "metadata": {},
   "outputs": [],
   "source": [
    "df=pd.read_csv(\"tweet_dataset.csv\")"
   ]
  },
  {
   "cell_type": "code",
   "execution_count": 7,
   "metadata": {},
   "outputs": [],
   "source": [
    "df=df.loc[:,['sentiment','selected_text']]"
   ]
  },
  {
   "cell_type": "code",
   "execution_count": 8,
   "metadata": {},
   "outputs": [],
   "source": [
    "df1=pd.read_csv('data_train.csv')"
   ]
  },
  {
   "cell_type": "code",
   "execution_count": 9,
   "metadata": {},
   "outputs": [],
   "source": [
    "df2=pd.read_csv('data_test.csv')"
   ]
  },
  {
   "cell_type": "code",
   "execution_count": 10,
   "metadata": {
    "scrolled": true
   },
   "outputs": [
    {
     "data": {
      "text/plain": [
       "(40000, 2)"
      ]
     },
     "execution_count": 10,
     "metadata": {},
     "output_type": "execute_result"
    }
   ],
   "source": [
    "df.shape"
   ]
  },
  {
   "cell_type": "code",
   "execution_count": 11,
   "metadata": {},
   "outputs": [],
   "source": [
    "dfnew=pd.concat([df1, df2], ignore_index=True)"
   ]
  },
  {
   "cell_type": "code",
   "execution_count": 12,
   "metadata": {},
   "outputs": [],
   "source": [
    "dfnew=dfnew.rename(columns={'Emotion':'sentiment','Text':'selected_text'})"
   ]
  },
  {
   "cell_type": "code",
   "execution_count": 13,
   "metadata": {},
   "outputs": [],
   "source": [
    "df=pd.concat([df, dfnew], ignore_index=True)"
   ]
  },
  {
   "cell_type": "code",
   "execution_count": 14,
   "metadata": {},
   "outputs": [
    {
     "data": {
      "text/plain": [
       "(51327, 2)"
      ]
     },
     "execution_count": 14,
     "metadata": {},
     "output_type": "execute_result"
    }
   ],
   "source": [
    "df.shape"
   ]
  },
  {
   "cell_type": "markdown",
   "metadata": {},
   "source": [
    "seperate to train_test"
   ]
  },
  {
   "cell_type": "code",
   "execution_count": 15,
   "metadata": {
    "scrolled": false
   },
   "outputs": [
    {
     "data": {
      "text/html": [
       "<div>\n",
       "<style scoped>\n",
       "    .dataframe tbody tr th:only-of-type {\n",
       "        vertical-align: middle;\n",
       "    }\n",
       "\n",
       "    .dataframe tbody tr th {\n",
       "        vertical-align: top;\n",
       "    }\n",
       "\n",
       "    .dataframe thead th {\n",
       "        text-align: right;\n",
       "    }\n",
       "</style>\n",
       "<table border=\"1\" class=\"dataframe\">\n",
       "  <thead>\n",
       "    <tr style=\"text-align: right;\">\n",
       "      <th></th>\n",
       "      <th>sentiment</th>\n",
       "      <th>selected_text</th>\n",
       "    </tr>\n",
       "  </thead>\n",
       "  <tbody>\n",
       "    <tr>\n",
       "      <th>31596</th>\n",
       "      <td>neutral</td>\n",
       "      <td>If you don`t like them I`ll blame the kitties.</td>\n",
       "    </tr>\n",
       "    <tr>\n",
       "      <th>49552</th>\n",
       "      <td>sadness</td>\n",
       "      <td>My dog, whom I had had for eleven years, died....</td>\n",
       "    </tr>\n",
       "    <tr>\n",
       "      <th>12960</th>\n",
       "      <td>worry</td>\n",
       "      <td>only an hour left with my iPod touch</td>\n",
       "    </tr>\n",
       "    <tr>\n",
       "      <th>33861</th>\n",
       "      <td>happiness</td>\n",
       "      <td>NaN</td>\n",
       "    </tr>\n",
       "    <tr>\n",
       "      <th>26288</th>\n",
       "      <td>happiness</td>\n",
       "      <td>make me happy  Perfect running weather!</td>\n",
       "    </tr>\n",
       "    <tr>\n",
       "      <th>...</th>\n",
       "      <td>...</td>\n",
       "      <td>...</td>\n",
       "    </tr>\n",
       "    <tr>\n",
       "      <th>12525</th>\n",
       "      <td>worry</td>\n",
       "      <td>say a hi to me tom  please please</td>\n",
       "    </tr>\n",
       "    <tr>\n",
       "      <th>5208</th>\n",
       "      <td>sadness</td>\n",
       "      <td>NaN</td>\n",
       "    </tr>\n",
       "    <tr>\n",
       "      <th>40391</th>\n",
       "      <td>sadness</td>\n",
       "      <td>Hey , Cindy , I ’ m so sorry about yesterday ....</td>\n",
       "    </tr>\n",
       "    <tr>\n",
       "      <th>49823</th>\n",
       "      <td>sadness</td>\n",
       "      <td>I went to the library and lost my bag .</td>\n",
       "    </tr>\n",
       "    <tr>\n",
       "      <th>36510</th>\n",
       "      <td>worry</td>\n",
       "      <td>ignore</td>\n",
       "    </tr>\n",
       "  </tbody>\n",
       "</table>\n",
       "<p>51327 rows × 2 columns</p>\n",
       "</div>"
      ],
      "text/plain": [
       "       sentiment                                      selected_text\n",
       "31596    neutral     If you don`t like them I`ll blame the kitties.\n",
       "49552    sadness  My dog, whom I had had for eleven years, died....\n",
       "12960      worry               only an hour left with my iPod touch\n",
       "33861  happiness                                                NaN\n",
       "26288  happiness            make me happy  Perfect running weather!\n",
       "...          ...                                                ...\n",
       "12525      worry                  say a hi to me tom  please please\n",
       "5208     sadness                                                NaN\n",
       "40391    sadness  Hey , Cindy , I ’ m so sorry about yesterday ....\n",
       "49823    sadness           I went to the library and lost my bag . \n",
       "36510      worry                                             ignore\n",
       "\n",
       "[51327 rows x 2 columns]"
      ]
     },
     "execution_count": 15,
     "metadata": {},
     "output_type": "execute_result"
    }
   ],
   "source": [
    "df.sample(frac=1)"
   ]
  },
  {
   "cell_type": "code",
   "execution_count": 16,
   "metadata": {},
   "outputs": [],
   "source": [
    "df=pd.concat([df.loc[df['sentiment']=='fear'], df.loc[df['sentiment']=='sadness'],df.loc[df['sentiment']=='neutral'],df.loc[df['sentiment']=='worry'],df.loc[df['sentiment']=='boredom'],df.loc[df['sentiment']=='anger']], ignore_index=True)\n",
    "df=df.sample(frac=1)\n",
    "train=df.iloc[:25000,]\n",
    "train.to_csv('emotion_train.csv',index=False)\n",
    "test=df.iloc[25000:,]\n",
    "test.to_csv('emotion_test.csv',index=False)"
   ]
  },
  {
   "cell_type": "code",
   "execution_count": 17,
   "metadata": {},
   "outputs": [],
   "source": [
    "df.to_csv('emotion.csv', index = False)"
   ]
  },
  {
   "cell_type": "markdown",
   "metadata": {},
   "source": [
    ".....\n"
   ]
  },
  {
   "cell_type": "code",
   "execution_count": 18,
   "metadata": {},
   "outputs": [],
   "source": [
    "fear = normalize(df.loc[df['sentiment']=='fear']['selected_text'])\n",
    "sadness = normalize(df.loc[df['sentiment']=='sadness']['selected_text'])\n",
    "neutral = normalize(df.loc[df['sentiment']=='neutral']['selected_text'])\n",
    "worry = normalize(df.loc[df['sentiment']=='worry']['selected_text'])\n",
    "\n",
    "boredom = normalize(df.loc[df['sentiment']=='boredom']['selected_text'])\n",
    "anger = normalize(df.loc[df['sentiment']=='anger']['selected_text'])"
   ]
  },
  {
   "cell_type": "code",
   "execution_count": 19,
   "metadata": {},
   "outputs": [
    {
     "data": {
      "text/plain": [
       "['lose']"
      ]
     },
     "execution_count": 19,
     "metadata": {},
     "output_type": "execute_result"
    }
   ],
   "source": [
    "boredom[100]"
   ]
  },
  {
   "cell_type": "markdown",
   "metadata": {},
   "source": [
    "most common tokens for sadness categories"
   ]
  },
  {
   "cell_type": "code",
   "execution_count": 20,
   "metadata": {},
   "outputs": [],
   "source": [
    "def get_all_words(cleaned_tokens_list):\n",
    "    for tokens in cleaned_tokens_list:\n",
    "        for token in tokens:\n",
    "            yield token\n",
    "sadness_words = get_all_words(worry)"
   ]
  },
  {
   "cell_type": "code",
   "execution_count": 21,
   "metadata": {
    "scrolled": true
   },
   "outputs": [
    {
     "name": "stdout",
     "output_type": "stream",
     "text": [
      "[('get', 424), ('go', 376), ('good', 283), ('miss', 216), ('sorry', 200), ('day', 193), ('feel', 189), ('work', 185), ('bad', 175), ('like', 173), ('think', 168), ('hope', 153), ('want', 142), ('sad', 142), ('know', 139), ('time', 134), ('today', 134), ('one', 126), ('really', 124), ('need', 122), ('make', 119), ('well', 108), ('sick', 107), ('hurt', 105), ('back', 104), ('wish', 98), ('still', 98), ('lol', 95), ('love', 93), ('see', 91), ('look', 91), ('oh', 90), ('come', 84), ('much', 84), ('home', 83), ('find', 76), ('happy', 75), ('try', 74), ('take', 73), ('night', 73), ('thing', 71), ('sleep', 71), ('suck', 69), ('ill', 68), ('last', 65), ('great', 64), ('say', 64), ('wait', 62), ('right', 61), ('would', 61), ('fun', 60), ('though', 60), ('new', 59), ('gonna', 59), ('leave', 58), ('poor', 57), ('week', 57), ('hate', 56), ('soon', 56), ('tomorrow', 55), ('lose', 54), ('watch', 53), ('thanks', 53), ('hard', 53), ('tire', 52), ('please', 51), ('never', 51), ('way', 50), ('could', 49), ('twitter', 49), ('tonight', 48), ('morning', 48), ('late', 48), ('nice', 45), ('little', 45), ('next', 45), ('call', 45), ('people', 44), ('start', 43), ('long', 43), ('bit', 42), ('ok', 41), ('phone', 41), ('weekend', 40), ('keep', 40), ('lot', 40), ('guy', 39), ('happen', 39), ('headache', 39), ('help', 39), ('hour', 39), ('hear', 38), ('tell', 38), ('yet', 38), ('let', 37), ('even', 37), ('job', 37), ('break', 36), ('ugh', 35), ('die', 35)]\n"
     ]
    }
   ],
   "source": [
    "from nltk import FreqDist\n",
    "\n",
    "freq_dist_pos = FreqDist(sadness_words)\n",
    "print(freq_dist_pos.most_common(100))"
   ]
  },
  {
   "cell_type": "markdown",
   "metadata": {},
   "source": [
    "change the data type to fit the naive bayes model"
   ]
  },
  {
   "cell_type": "code",
   "execution_count": 22,
   "metadata": {},
   "outputs": [],
   "source": [
    "def get_tweets_for_model(cleaned_tokens_list):\n",
    "    \n",
    "    for tweet_tokens in cleaned_tokens_list:\n",
    "        yield dict([token, True] for token in tweet_tokens)\n",
    "\n"
   ]
  },
  {
   "cell_type": "code",
   "execution_count": 23,
   "metadata": {},
   "outputs": [],
   "source": [
    "fear_new = get_tweets_for_model(fear)\n",
    "sadness_new = get_tweets_for_model(sadness)\n",
    "neutral_new = get_tweets_for_model(neutral)\n",
    "worry_new = get_tweets_for_model(worry)\n",
    "\n",
    "boredom_new = get_tweets_for_model(boredom)\n",
    "anger_new = get_tweets_for_model(anger)"
   ]
  },
  {
   "cell_type": "code",
   "execution_count": 24,
   "metadata": {},
   "outputs": [],
   "source": [
    "import random\n",
    "fear_data = [(i, \"fear\")for i in fear_new]\n",
    "sadness_data = [(i, \"sadness\")for i in sadness_new]\n",
    "neutral_data = [(i, \"neutral\")for i in neutral_new]\n",
    "worry_data = [(i, \"worry\")for i in worry_new]\n",
    "\n",
    "boredom_data = [(i, \"boredom\")for i in boredom_new]\n",
    "anger_data = [(i, \"anger\")for i in anger_new]"
   ]
  },
  {
   "cell_type": "code",
   "execution_count": 25,
   "metadata": {
    "scrolled": true
   },
   "outputs": [
    {
     "data": {
      "text/plain": [
       "({'mr': True, 'friar': True, 'look': True, 'offended': True, 'continue': True},\n",
       " 'anger')"
      ]
     },
     "execution_count": 25,
     "metadata": {},
     "output_type": "execute_result"
    }
   ],
   "source": [
    "anger_data[0]"
   ]
  },
  {
   "cell_type": "markdown",
   "metadata": {},
   "source": [
    "train test split, fit naive bayes model"
   ]
  },
  {
   "cell_type": "code",
   "execution_count": 26,
   "metadata": {},
   "outputs": [
    {
     "data": {
      "text/plain": [
       "24574"
      ]
     },
     "execution_count": 26,
     "metadata": {},
     "output_type": "execute_result"
    }
   ],
   "source": [
    "dataset = fear_data+ sadness_data +neutral_data+worry_data+boredom_data+anger_data\n",
    "\n",
    "len(dataset)\n"
   ]
  },
  {
   "cell_type": "code",
   "execution_count": 27,
   "metadata": {},
   "outputs": [],
   "source": [
    "random.shuffle(dataset)\n",
    "\n",
    "train_data = dataset[:20000]\n",
    "test_data = dataset[20000:]"
   ]
  },
  {
   "cell_type": "code",
   "execution_count": 28,
   "metadata": {
    "scrolled": true
   },
   "outputs": [
    {
     "name": "stdout",
     "output_type": "stream",
     "text": [
      "Accuracy is: 0.3546130301705291\n",
      "Most Informative Features\n",
      "                   angry = True            anger : neutra =    250.9 : 1.0\n",
      "                  horror = True             fear : neutra =    153.0 : 1.0\n",
      "                    fear = True             fear : neutra =    123.7 : 1.0\n",
      "                frighten = True             fear : neutra =     91.8 : 1.0\n",
      "                    felt = True             fear : neutra =     87.6 : 1.0\n",
      "                   anger = True            anger : sadnes =     83.5 : 1.0\n",
      "              girlfriend = True            anger : neutra =     79.0 : 1.0\n",
      "                 nervous = True             fear : sadnes =     77.5 : 1.0\n",
      "                    bore = True           boredo : worry  =     74.1 : 1.0\n",
      "                cleaning = True           boredo : worry  =     74.1 : 1.0\n",
      "None\n"
     ]
    }
   ],
   "source": [
    "from nltk import classify\n",
    "from nltk import NaiveBayesClassifier\n",
    "classifier = NaiveBayesClassifier.train(train_data)\n",
    "\n",
    "print(\"Accuracy is:\", classify.accuracy(classifier, test_data))\n",
    "\n",
    "print(classifier.show_most_informative_features(10))"
   ]
  },
  {
   "cell_type": "code",
   "execution_count": 29,
   "metadata": {},
   "outputs": [
    {
     "name": "stdout",
     "output_type": "stream",
     "text": [
      "sadness\n"
     ]
    }
   ],
   "source": [
    "print(classifier.classify(dict([token, True] for token in original[10])))"
   ]
  },
  {
   "cell_type": "markdown",
   "metadata": {},
   "source": [
    "add sentiment column to original text df"
   ]
  },
  {
   "cell_type": "code",
   "execution_count": 30,
   "metadata": {},
   "outputs": [],
   "source": [
    "sentiment=list()\n",
    "for i in range (len(original)):\n",
    "    sentiment.append(classifier.classify(dict([token, True] for token in original[i])))"
   ]
  },
  {
   "cell_type": "code",
   "execution_count": 87,
   "metadata": {},
   "outputs": [],
   "source": [
    "text['sentiment']=np.nan\n",
    "text=text[text.S11a_Comments.notna()]"
   ]
  },
  {
   "cell_type": "code",
   "execution_count": 88,
   "metadata": {},
   "outputs": [
    {
     "data": {
      "text/plain": [
       "(991, 12)"
      ]
     },
     "execution_count": 88,
     "metadata": {},
     "output_type": "execute_result"
    }
   ],
   "source": [
    "text.shape"
   ]
  },
  {
   "cell_type": "code",
   "execution_count": 92,
   "metadata": {
    "scrolled": false
   },
   "outputs": [
    {
     "data": {
      "text/html": [
       "<div>\n",
       "<style scoped>\n",
       "    .dataframe tbody tr th:only-of-type {\n",
       "        vertical-align: middle;\n",
       "    }\n",
       "\n",
       "    .dataframe tbody tr th {\n",
       "        vertical-align: top;\n",
       "    }\n",
       "\n",
       "    .dataframe thead th {\n",
       "        text-align: right;\n",
       "    }\n",
       "</style>\n",
       "<table border=\"1\" class=\"dataframe\">\n",
       "  <thead>\n",
       "    <tr style=\"text-align: right;\">\n",
       "      <th></th>\n",
       "      <th>S6b_Other_Activities</th>\n",
       "      <th>Unnamed: 1</th>\n",
       "      <th>A1_Description</th>\n",
       "      <th>A2_Description</th>\n",
       "      <th>A3_Description</th>\n",
       "      <th>O1_other_group_name</th>\n",
       "      <th>Group_name_part1</th>\n",
       "      <th>PUSH_1</th>\n",
       "      <th>PULL_1</th>\n",
       "      <th>Emotion</th>\n",
       "      <th>S11a_Comments</th>\n",
       "    </tr>\n",
       "  </thead>\n",
       "  <tbody>\n",
       "    <tr>\n",
       "      <th>0</th>\n",
       "      <td>Working out, CBT, boxing</td>\n",
       "      <td>NaN</td>\n",
       "      <td>School</td>\n",
       "      <td>NaN</td>\n",
       "      <td>School</td>\n",
       "      <td>Other group</td>\n",
       "      <td>Group</td>\n",
       "      <td>Somebody got out of jail that brought a lot of...</td>\n",
       "      <td>School. work. moving</td>\n",
       "      <td>fear</td>\n",
       "      <td>School. Poor grades, car accident, not enough ...</td>\n",
       "    </tr>\n",
       "    <tr>\n",
       "      <th>1</th>\n",
       "      <td>Basketball</td>\n",
       "      <td>NaN</td>\n",
       "      <td>Basketball</td>\n",
       "      <td>NaN</td>\n",
       "      <td>NaN</td>\n",
       "      <td>No name</td>\n",
       "      <td>Money Gang</td>\n",
       "      <td>NaN</td>\n",
       "      <td>NaN</td>\n",
       "      <td>sadness</td>\n",
       "      <td>Mother died</td>\n",
       "    </tr>\n",
       "    <tr>\n",
       "      <th>2</th>\n",
       "      <td>Extra activities with children</td>\n",
       "      <td>NaN</td>\n",
       "      <td>Church, job and school</td>\n",
       "      <td>Church choir and praise team</td>\n",
       "      <td>NaN</td>\n",
       "      <td>Church group</td>\n",
       "      <td>No group</td>\n",
       "      <td>NaN</td>\n",
       "      <td>NaN</td>\n",
       "      <td>fear</td>\n",
       "      <td>Favor cousin was murder and never found his ki...</td>\n",
       "    </tr>\n",
       "    <tr>\n",
       "      <th>3</th>\n",
       "      <td>Actor/dance</td>\n",
       "      <td>NaN</td>\n",
       "      <td>Church, school and job</td>\n",
       "      <td>Church choir and praise team</td>\n",
       "      <td>NaN</td>\n",
       "      <td>No name</td>\n",
       "      <td>No name</td>\n",
       "      <td>NaN</td>\n",
       "      <td>NaN</td>\n",
       "      <td>sadness</td>\n",
       "      <td>Best friend brother was murder [sic] by 16 and...</td>\n",
       "    </tr>\n",
       "    <tr>\n",
       "      <th>4</th>\n",
       "      <td>Singing</td>\n",
       "      <td>NaN</td>\n",
       "      <td>Church, job, and school</td>\n",
       "      <td>Church choir and praise team</td>\n",
       "      <td>NaN</td>\n",
       "      <td>No name</td>\n",
       "      <td>No name</td>\n",
       "      <td>NaN</td>\n",
       "      <td>NaN</td>\n",
       "      <td>sadness</td>\n",
       "      <td>Best fried brother was murder [sic] by 18yr boy</td>\n",
       "    </tr>\n",
       "    <tr>\n",
       "      <th>...</th>\n",
       "      <td>...</td>\n",
       "      <td>...</td>\n",
       "      <td>...</td>\n",
       "      <td>...</td>\n",
       "      <td>...</td>\n",
       "      <td>...</td>\n",
       "      <td>...</td>\n",
       "      <td>...</td>\n",
       "      <td>...</td>\n",
       "      <td>...</td>\n",
       "      <td>...</td>\n",
       "    </tr>\n",
       "    <tr>\n",
       "      <th>986</th>\n",
       "      <td>NaN</td>\n",
       "      <td>NaN</td>\n",
       "      <td>Friends</td>\n",
       "      <td>NaN</td>\n",
       "      <td>NaN</td>\n",
       "      <td>Friends</td>\n",
       "      <td>No group</td>\n",
       "      <td>NaN</td>\n",
       "      <td>NaN</td>\n",
       "      <td>sadness</td>\n",
       "      <td>friends got shot</td>\n",
       "    </tr>\n",
       "    <tr>\n",
       "      <th>987</th>\n",
       "      <td>Wroking out playing basktball</td>\n",
       "      <td>NaN</td>\n",
       "      <td>NaN</td>\n",
       "      <td>NaN</td>\n",
       "      <td>NaN</td>\n",
       "      <td>No other group</td>\n",
       "      <td>Main street</td>\n",
       "      <td>I bang before - I dont want to do it like my o...</td>\n",
       "      <td>the people around right now are putting down I...</td>\n",
       "      <td>fear</td>\n",
       "      <td>Injured</td>\n",
       "    </tr>\n",
       "    <tr>\n",
       "      <th>988</th>\n",
       "      <td>Spend time with family</td>\n",
       "      <td>NaN</td>\n",
       "      <td>NaN</td>\n",
       "      <td>NaN</td>\n",
       "      <td>NaN</td>\n",
       "      <td>No other group</td>\n",
       "      <td>Aves Plug</td>\n",
       "      <td>Not really</td>\n",
       "      <td>My son</td>\n",
       "      <td>sadness</td>\n",
       "      <td>Mom left home</td>\n",
       "    </tr>\n",
       "    <tr>\n",
       "      <th>989</th>\n",
       "      <td>Drawing, makeup, video games</td>\n",
       "      <td>NaN</td>\n",
       "      <td>NaN</td>\n",
       "      <td>NaN</td>\n",
       "      <td>NaN</td>\n",
       "      <td>No other group</td>\n",
       "      <td>Group</td>\n",
       "      <td>No</td>\n",
       "      <td>Yes, work, school</td>\n",
       "      <td>fear</td>\n",
       "      <td>Moving back and forth</td>\n",
       "    </tr>\n",
       "    <tr>\n",
       "      <th>990</th>\n",
       "      <td>one on one</td>\n",
       "      <td>NaN</td>\n",
       "      <td>NaN</td>\n",
       "      <td>Community service</td>\n",
       "      <td>Helper</td>\n",
       "      <td>Helper</td>\n",
       "      <td>Homies</td>\n",
       "      <td>Going to jail</td>\n",
       "      <td>No</td>\n",
       "      <td>fear</td>\n",
       "      <td>Police keep raiding my house</td>\n",
       "    </tr>\n",
       "  </tbody>\n",
       "</table>\n",
       "<p>991 rows × 11 columns</p>\n",
       "</div>"
      ],
      "text/plain": [
       "               S6b_Other_Activities  Unnamed: 1           A1_Description  \\\n",
       "0          Working out, CBT, boxing         NaN                   School   \n",
       "1                        Basketball         NaN               Basketball   \n",
       "2    Extra activities with children         NaN   Church, job and school   \n",
       "3                       Actor/dance         NaN   Church, school and job   \n",
       "4                           Singing         NaN  Church, job, and school   \n",
       "..                              ...         ...                      ...   \n",
       "986                             NaN         NaN                  Friends   \n",
       "987   Wroking out playing basktball         NaN                      NaN   \n",
       "988          Spend time with family         NaN                      NaN   \n",
       "989    Drawing, makeup, video games         NaN                      NaN   \n",
       "990                      one on one         NaN                      NaN   \n",
       "\n",
       "                   A2_Description A3_Description O1_other_group_name  \\\n",
       "0                             NaN         School         Other group   \n",
       "1                             NaN            NaN             No name   \n",
       "2    Church choir and praise team            NaN        Church group   \n",
       "3    Church choir and praise team            NaN             No name   \n",
       "4    Church choir and praise team            NaN             No name   \n",
       "..                            ...            ...                 ...   \n",
       "986                           NaN            NaN             Friends   \n",
       "987                           NaN            NaN      No other group   \n",
       "988                           NaN            NaN      No other group   \n",
       "989                           NaN            NaN      No other group   \n",
       "990             Community service         Helper              Helper   \n",
       "\n",
       "    Group_name_part1                                             PUSH_1  \\\n",
       "0              Group  Somebody got out of jail that brought a lot of...   \n",
       "1         Money Gang                                                NaN   \n",
       "2           No group                                                NaN   \n",
       "3            No name                                                NaN   \n",
       "4            No name                                                NaN   \n",
       "..               ...                                                ...   \n",
       "986         No group                                                NaN   \n",
       "987      Main street  I bang before - I dont want to do it like my o...   \n",
       "988        Aves Plug                                         Not really   \n",
       "989            Group                                                 No   \n",
       "990           Homies                                      Going to jail   \n",
       "\n",
       "                                                PULL_1  Emotion  \\\n",
       "0                                 School. work. moving     fear   \n",
       "1                                                  NaN  sadness   \n",
       "2                                                  NaN     fear   \n",
       "3                                                  NaN  sadness   \n",
       "4                                                  NaN  sadness   \n",
       "..                                                 ...      ...   \n",
       "986                                                NaN  sadness   \n",
       "987  the people around right now are putting down I...     fear   \n",
       "988                                             My son  sadness   \n",
       "989                                  Yes, work, school     fear   \n",
       "990                                                 No     fear   \n",
       "\n",
       "                                         S11a_Comments  \n",
       "0    School. Poor grades, car accident, not enough ...  \n",
       "1                                          Mother died  \n",
       "2    Favor cousin was murder and never found his ki...  \n",
       "3    Best friend brother was murder [sic] by 16 and...  \n",
       "4      Best fried brother was murder [sic] by 18yr boy  \n",
       "..                                                 ...  \n",
       "986                                   friends got shot  \n",
       "987                                            Injured  \n",
       "988                                      Mom left home  \n",
       "989                              Moving back and forth  \n",
       "990                       Police keep raiding my house  \n",
       "\n",
       "[991 rows x 11 columns]"
      ]
     },
     "execution_count": 92,
     "metadata": {},
     "output_type": "execute_result"
    }
   ],
   "source": [
    "emo=pd.read_csv(\"activities_with_emotion_labels_ruofei.csv\")\n",
    "emo"
   ]
  },
  {
   "cell_type": "code",
   "execution_count": 98,
   "metadata": {},
   "outputs": [],
   "source": [
    "text=text.reset_index()"
   ]
  },
  {
   "cell_type": "code",
   "execution_count": 101,
   "metadata": {},
   "outputs": [],
   "source": [
    "text['sentiment']=emo.Emotion"
   ]
  },
  {
   "cell_type": "code",
   "execution_count": 102,
   "metadata": {
    "scrolled": true
   },
   "outputs": [
    {
     "data": {
      "text/html": [
       "<div>\n",
       "<style scoped>\n",
       "    .dataframe tbody tr th:only-of-type {\n",
       "        vertical-align: middle;\n",
       "    }\n",
       "\n",
       "    .dataframe tbody tr th {\n",
       "        vertical-align: top;\n",
       "    }\n",
       "\n",
       "    .dataframe thead th {\n",
       "        text-align: right;\n",
       "    }\n",
       "</style>\n",
       "<table border=\"1\" class=\"dataframe\">\n",
       "  <thead>\n",
       "    <tr style=\"text-align: right;\">\n",
       "      <th></th>\n",
       "      <th>index</th>\n",
       "      <th>GRYD_ETO_ID</th>\n",
       "      <th>S6b_Other_Activities</th>\n",
       "      <th>S11a_Comments</th>\n",
       "      <th>A1_Description</th>\n",
       "      <th>A2_Description</th>\n",
       "      <th>A3_Description</th>\n",
       "      <th>O1_other_group_name</th>\n",
       "      <th>Group_name_part1</th>\n",
       "      <th>PUSH_1</th>\n",
       "      <th>PULL_1</th>\n",
       "      <th>text_all</th>\n",
       "      <th>sentiment</th>\n",
       "      <th>Emotion</th>\n",
       "    </tr>\n",
       "  </thead>\n",
       "  <tbody>\n",
       "    <tr>\n",
       "      <th>0</th>\n",
       "      <td>0</td>\n",
       "      <td>BVCB-0-144-1</td>\n",
       "      <td>Working out, CBT, boxing</td>\n",
       "      <td>School. Poor grades, car accident, not enough ...</td>\n",
       "      <td>School</td>\n",
       "      <td>NaN</td>\n",
       "      <td>School</td>\n",
       "      <td>Other group</td>\n",
       "      <td>Group</td>\n",
       "      <td>Somebody got out of jail that brought a lot of...</td>\n",
       "      <td>School. work. moving</td>\n",
       "      <td>BVCB-0-144-1,Working out, CBT, boxing,School. ...</td>\n",
       "      <td>fear</td>\n",
       "      <td>fear</td>\n",
       "    </tr>\n",
       "    <tr>\n",
       "      <th>1</th>\n",
       "      <td>1</td>\n",
       "      <td>BVCB-0-174-1</td>\n",
       "      <td>Basketball</td>\n",
       "      <td>Mother died</td>\n",
       "      <td>Basketball</td>\n",
       "      <td>NaN</td>\n",
       "      <td>NaN</td>\n",
       "      <td>No name</td>\n",
       "      <td>Money Gang</td>\n",
       "      <td>NaN</td>\n",
       "      <td>NaN</td>\n",
       "      <td>BVCB-0-174-1,Basketball,Mother died,Basketball...</td>\n",
       "      <td>sadness</td>\n",
       "      <td>sadness</td>\n",
       "    </tr>\n",
       "    <tr>\n",
       "      <th>2</th>\n",
       "      <td>2</td>\n",
       "      <td>Southeast 3-10-24-1</td>\n",
       "      <td>Extra activities with children</td>\n",
       "      <td>Favor cousin was murder and never found his ki...</td>\n",
       "      <td>Church, job and school</td>\n",
       "      <td>Church choir and praise team</td>\n",
       "      <td>NaN</td>\n",
       "      <td>Church group</td>\n",
       "      <td>No group</td>\n",
       "      <td>NaN</td>\n",
       "      <td>NaN</td>\n",
       "      <td>Southeast 3-10-24-1,Extra activities with chil...</td>\n",
       "      <td>fear</td>\n",
       "      <td>fear</td>\n",
       "    </tr>\n",
       "    <tr>\n",
       "      <th>3</th>\n",
       "      <td>3</td>\n",
       "      <td>Southeast 3-10-18-1</td>\n",
       "      <td>Actor/dance</td>\n",
       "      <td>Best friend brother was murder [sic] by 16 and...</td>\n",
       "      <td>Church, school and job</td>\n",
       "      <td>Church choir and praise team</td>\n",
       "      <td>NaN</td>\n",
       "      <td>No name</td>\n",
       "      <td>No name</td>\n",
       "      <td>NaN</td>\n",
       "      <td>NaN</td>\n",
       "      <td>Southeast 3-10-18-1,Actor/dance,Best friend br...</td>\n",
       "      <td>sadness</td>\n",
       "      <td>sadness</td>\n",
       "    </tr>\n",
       "    <tr>\n",
       "      <th>4</th>\n",
       "      <td>4</td>\n",
       "      <td>Southeast 3-10-17-1</td>\n",
       "      <td>Singing</td>\n",
       "      <td>Best fried brother was murder [sic] by 18yr boy</td>\n",
       "      <td>Church, job, and school</td>\n",
       "      <td>Church choir and praise team</td>\n",
       "      <td>NaN</td>\n",
       "      <td>No name</td>\n",
       "      <td>No name</td>\n",
       "      <td>NaN</td>\n",
       "      <td>NaN</td>\n",
       "      <td>Southeast 3-10-17-1,Singing,Best fried brother...</td>\n",
       "      <td>sadness</td>\n",
       "      <td>sadness</td>\n",
       "    </tr>\n",
       "    <tr>\n",
       "      <th>...</th>\n",
       "      <td>...</td>\n",
       "      <td>...</td>\n",
       "      <td>...</td>\n",
       "      <td>...</td>\n",
       "      <td>...</td>\n",
       "      <td>...</td>\n",
       "      <td>...</td>\n",
       "      <td>...</td>\n",
       "      <td>...</td>\n",
       "      <td>...</td>\n",
       "      <td>...</td>\n",
       "      <td>...</td>\n",
       "      <td>...</td>\n",
       "      <td>...</td>\n",
       "    </tr>\n",
       "    <tr>\n",
       "      <th>986</th>\n",
       "      <td>2749</td>\n",
       "      <td>Rampart 1-12-391-3</td>\n",
       "      <td>NaN</td>\n",
       "      <td>friends got shot</td>\n",
       "      <td>Friends</td>\n",
       "      <td>NaN</td>\n",
       "      <td>NaN</td>\n",
       "      <td>Friends</td>\n",
       "      <td>No group</td>\n",
       "      <td>NaN</td>\n",
       "      <td>NaN</td>\n",
       "      <td>Rampart 1-12-391-3,friends got shot,Friends,Fr...</td>\n",
       "      <td>sadness</td>\n",
       "      <td>sadness</td>\n",
       "    </tr>\n",
       "    <tr>\n",
       "      <th>987</th>\n",
       "      <td>2750</td>\n",
       "      <td>Southeast 1-24-72-1</td>\n",
       "      <td>Wroking out playing basktball</td>\n",
       "      <td>Injured</td>\n",
       "      <td>NaN</td>\n",
       "      <td>NaN</td>\n",
       "      <td>NaN</td>\n",
       "      <td>No other group</td>\n",
       "      <td>Main street</td>\n",
       "      <td>I bang before - I dont want to do it like my o...</td>\n",
       "      <td>the people around right now are putting down I...</td>\n",
       "      <td>Southeast 1-24-72-1,Wroking out playing basktb...</td>\n",
       "      <td>fear</td>\n",
       "      <td>fear</td>\n",
       "    </tr>\n",
       "    <tr>\n",
       "      <th>988</th>\n",
       "      <td>2751</td>\n",
       "      <td>Northeast-25-68-2</td>\n",
       "      <td>Spend time with family</td>\n",
       "      <td>Mom left home</td>\n",
       "      <td>NaN</td>\n",
       "      <td>NaN</td>\n",
       "      <td>NaN</td>\n",
       "      <td>No other group</td>\n",
       "      <td>Aves Plug</td>\n",
       "      <td>Not really</td>\n",
       "      <td>My son</td>\n",
       "      <td>Northeast-25-68-2,Spend time with family,Mom l...</td>\n",
       "      <td>sadness</td>\n",
       "      <td>sadness</td>\n",
       "    </tr>\n",
       "    <tr>\n",
       "      <th>989</th>\n",
       "      <td>2757</td>\n",
       "      <td>Hollenbeck 3-20-298-1</td>\n",
       "      <td>Drawing, makeup, video games</td>\n",
       "      <td>Moving back and forth</td>\n",
       "      <td>NaN</td>\n",
       "      <td>NaN</td>\n",
       "      <td>NaN</td>\n",
       "      <td>No other group</td>\n",
       "      <td>Group</td>\n",
       "      <td>No</td>\n",
       "      <td>Yes, work, school</td>\n",
       "      <td>Hollenbeck 3-20-298-1,Drawing, makeup, video g...</td>\n",
       "      <td>fear</td>\n",
       "      <td>fear</td>\n",
       "    </tr>\n",
       "    <tr>\n",
       "      <th>990</th>\n",
       "      <td>2764</td>\n",
       "      <td>Pacific-18-110-2</td>\n",
       "      <td>one on one</td>\n",
       "      <td>Police keep raiding my house</td>\n",
       "      <td>NaN</td>\n",
       "      <td>Community service</td>\n",
       "      <td>Helper</td>\n",
       "      <td>Helper</td>\n",
       "      <td>Homies</td>\n",
       "      <td>Going to jail</td>\n",
       "      <td>No</td>\n",
       "      <td>Pacific-18-110-2,one on one,Police keep raidin...</td>\n",
       "      <td>fear</td>\n",
       "      <td>fear</td>\n",
       "    </tr>\n",
       "  </tbody>\n",
       "</table>\n",
       "<p>991 rows × 14 columns</p>\n",
       "</div>"
      ],
      "text/plain": [
       "     index            GRYD_ETO_ID            S6b_Other_Activities  \\\n",
       "0        0           BVCB-0-144-1        Working out, CBT, boxing   \n",
       "1        1           BVCB-0-174-1                      Basketball   \n",
       "2        2    Southeast 3-10-24-1  Extra activities with children   \n",
       "3        3    Southeast 3-10-18-1                     Actor/dance   \n",
       "4        4    Southeast 3-10-17-1                         Singing   \n",
       "..     ...                    ...                             ...   \n",
       "986   2749     Rampart 1-12-391-3                             NaN   \n",
       "987   2750    Southeast 1-24-72-1   Wroking out playing basktball   \n",
       "988   2751      Northeast-25-68-2          Spend time with family   \n",
       "989   2757  Hollenbeck 3-20-298-1    Drawing, makeup, video games   \n",
       "990   2764       Pacific-18-110-2                      one on one   \n",
       "\n",
       "                                         S11a_Comments  \\\n",
       "0    School. Poor grades, car accident, not enough ...   \n",
       "1                                          Mother died   \n",
       "2    Favor cousin was murder and never found his ki...   \n",
       "3    Best friend brother was murder [sic] by 16 and...   \n",
       "4      Best fried brother was murder [sic] by 18yr boy   \n",
       "..                                                 ...   \n",
       "986                                   friends got shot   \n",
       "987                                            Injured   \n",
       "988                                      Mom left home   \n",
       "989                              Moving back and forth   \n",
       "990                       Police keep raiding my house   \n",
       "\n",
       "              A1_Description                A2_Description A3_Description  \\\n",
       "0                     School                           NaN         School   \n",
       "1                 Basketball                           NaN            NaN   \n",
       "2     Church, job and school  Church choir and praise team            NaN   \n",
       "3     Church, school and job  Church choir and praise team            NaN   \n",
       "4    Church, job, and school  Church choir and praise team            NaN   \n",
       "..                       ...                           ...            ...   \n",
       "986                  Friends                           NaN            NaN   \n",
       "987                      NaN                           NaN            NaN   \n",
       "988                      NaN                           NaN            NaN   \n",
       "989                      NaN                           NaN            NaN   \n",
       "990                      NaN             Community service         Helper   \n",
       "\n",
       "    O1_other_group_name Group_name_part1  \\\n",
       "0           Other group            Group   \n",
       "1               No name       Money Gang   \n",
       "2          Church group         No group   \n",
       "3               No name          No name   \n",
       "4               No name          No name   \n",
       "..                  ...              ...   \n",
       "986             Friends         No group   \n",
       "987      No other group      Main street   \n",
       "988      No other group        Aves Plug   \n",
       "989      No other group            Group   \n",
       "990              Helper           Homies   \n",
       "\n",
       "                                                PUSH_1  \\\n",
       "0    Somebody got out of jail that brought a lot of...   \n",
       "1                                                  NaN   \n",
       "2                                                  NaN   \n",
       "3                                                  NaN   \n",
       "4                                                  NaN   \n",
       "..                                                 ...   \n",
       "986                                                NaN   \n",
       "987  I bang before - I dont want to do it like my o...   \n",
       "988                                         Not really   \n",
       "989                                                 No   \n",
       "990                                      Going to jail   \n",
       "\n",
       "                                                PULL_1  \\\n",
       "0                                 School. work. moving   \n",
       "1                                                  NaN   \n",
       "2                                                  NaN   \n",
       "3                                                  NaN   \n",
       "4                                                  NaN   \n",
       "..                                                 ...   \n",
       "986                                                NaN   \n",
       "987  the people around right now are putting down I...   \n",
       "988                                             My son   \n",
       "989                                  Yes, work, school   \n",
       "990                                                 No   \n",
       "\n",
       "                                              text_all sentiment  Emotion  \n",
       "0    BVCB-0-144-1,Working out, CBT, boxing,School. ...      fear     fear  \n",
       "1    BVCB-0-174-1,Basketball,Mother died,Basketball...   sadness  sadness  \n",
       "2    Southeast 3-10-24-1,Extra activities with chil...      fear     fear  \n",
       "3    Southeast 3-10-18-1,Actor/dance,Best friend br...   sadness  sadness  \n",
       "4    Southeast 3-10-17-1,Singing,Best fried brother...   sadness  sadness  \n",
       "..                                                 ...       ...      ...  \n",
       "986  Rampart 1-12-391-3,friends got shot,Friends,Fr...   sadness  sadness  \n",
       "987  Southeast 1-24-72-1,Wroking out playing basktb...      fear     fear  \n",
       "988  Northeast-25-68-2,Spend time with family,Mom l...   sadness  sadness  \n",
       "989  Hollenbeck 3-20-298-1,Drawing, makeup, video g...      fear     fear  \n",
       "990  Pacific-18-110-2,one on one,Police keep raidin...      fear     fear  \n",
       "\n",
       "[991 rows x 14 columns]"
      ]
     },
     "execution_count": 102,
     "metadata": {},
     "output_type": "execute_result"
    }
   ],
   "source": [
    "text"
   ]
  },
  {
   "cell_type": "code",
   "execution_count": null,
   "metadata": {},
   "outputs": [],
   "source": []
  },
  {
   "cell_type": "code",
   "execution_count": null,
   "metadata": {},
   "outputs": [],
   "source": []
  },
  {
   "cell_type": "code",
   "execution_count": null,
   "metadata": {},
   "outputs": [],
   "source": []
  },
  {
   "cell_type": "code",
   "execution_count": null,
   "metadata": {},
   "outputs": [],
   "source": []
  },
  {
   "cell_type": "code",
   "execution_count": null,
   "metadata": {},
   "outputs": [],
   "source": []
  },
  {
   "cell_type": "code",
   "execution_count": null,
   "metadata": {},
   "outputs": [],
   "source": []
  },
  {
   "cell_type": "code",
   "execution_count": null,
   "metadata": {},
   "outputs": [],
   "source": []
  },
  {
   "cell_type": "code",
   "execution_count": null,
   "metadata": {},
   "outputs": [],
   "source": []
  },
  {
   "cell_type": "code",
   "execution_count": null,
   "metadata": {},
   "outputs": [],
   "source": []
  },
  {
   "cell_type": "code",
   "execution_count": 32,
   "metadata": {},
   "outputs": [],
   "source": [
    "temp=0\n",
    "for i in range (text.shape[0]):\n",
    "    if (type(text.loc[i,'S11a_Comments'])==str):\n",
    "        text.loc[i,'sentiment']=sentiment[temp]\n",
    "        temp=temp+1\n"
   ]
  },
  {
   "cell_type": "code",
   "execution_count": 103,
   "metadata": {
    "scrolled": true
   },
   "outputs": [
    {
     "data": {
      "text/html": [
       "<div>\n",
       "<style scoped>\n",
       "    .dataframe tbody tr th:only-of-type {\n",
       "        vertical-align: middle;\n",
       "    }\n",
       "\n",
       "    .dataframe tbody tr th {\n",
       "        vertical-align: top;\n",
       "    }\n",
       "\n",
       "    .dataframe thead th {\n",
       "        text-align: right;\n",
       "    }\n",
       "</style>\n",
       "<table border=\"1\" class=\"dataframe\">\n",
       "  <thead>\n",
       "    <tr style=\"text-align: right;\">\n",
       "      <th></th>\n",
       "      <th>S11a_Comments</th>\n",
       "      <th>sentiment</th>\n",
       "    </tr>\n",
       "  </thead>\n",
       "  <tbody>\n",
       "    <tr>\n",
       "      <th>0</th>\n",
       "      <td>School. Poor grades, car accident, not enough ...</td>\n",
       "      <td>fear</td>\n",
       "    </tr>\n",
       "    <tr>\n",
       "      <th>1</th>\n",
       "      <td>Mother died</td>\n",
       "      <td>sadness</td>\n",
       "    </tr>\n",
       "    <tr>\n",
       "      <th>2</th>\n",
       "      <td>Favor cousin was murder and never found his ki...</td>\n",
       "      <td>fear</td>\n",
       "    </tr>\n",
       "    <tr>\n",
       "      <th>3</th>\n",
       "      <td>Best friend brother was murder [sic] by 16 and...</td>\n",
       "      <td>sadness</td>\n",
       "    </tr>\n",
       "    <tr>\n",
       "      <th>4</th>\n",
       "      <td>Best fried brother was murder [sic] by 18yr boy</td>\n",
       "      <td>sadness</td>\n",
       "    </tr>\n",
       "    <tr>\n",
       "      <th>5</th>\n",
       "      <td>Best friend brother was murder [sic] by 22yr m...</td>\n",
       "      <td>sadness</td>\n",
       "    </tr>\n",
       "    <tr>\n",
       "      <th>6</th>\n",
       "      <td>My mom going to jail</td>\n",
       "      <td>fear</td>\n",
       "    </tr>\n",
       "    <tr>\n",
       "      <th>7</th>\n",
       "      <td>Broke up with my long time boyfriend.</td>\n",
       "      <td>sadness</td>\n",
       "    </tr>\n",
       "    <tr>\n",
       "      <th>8</th>\n",
       "      <td>Family member killed</td>\n",
       "      <td>fear</td>\n",
       "    </tr>\n",
       "    <tr>\n",
       "      <th>9</th>\n",
       "      <td>Friend was shot</td>\n",
       "      <td>fear</td>\n",
       "    </tr>\n",
       "  </tbody>\n",
       "</table>\n",
       "</div>"
      ],
      "text/plain": [
       "                                       S11a_Comments sentiment\n",
       "0  School. Poor grades, car accident, not enough ...      fear\n",
       "1                                        Mother died   sadness\n",
       "2  Favor cousin was murder and never found his ki...      fear\n",
       "3  Best friend brother was murder [sic] by 16 and...   sadness\n",
       "4    Best fried brother was murder [sic] by 18yr boy   sadness\n",
       "5  Best friend brother was murder [sic] by 22yr m...   sadness\n",
       "6                               My mom going to jail      fear\n",
       "7              Broke up with my long time boyfriend.   sadness\n",
       "8                               Family member killed      fear\n",
       "9                                    Friend was shot      fear"
      ]
     },
     "execution_count": 103,
     "metadata": {},
     "output_type": "execute_result"
    }
   ],
   "source": [
    "text.loc[:,['S11a_Comments','sentiment']].head(10)"
   ]
  },
  {
   "cell_type": "code",
   "execution_count": 104,
   "metadata": {
    "scrolled": false
   },
   "outputs": [
    {
     "data": {
      "text/plain": [
       "<matplotlib.axes._subplots.AxesSubplot at 0x2146f22b648>"
      ]
     },
     "execution_count": 104,
     "metadata": {},
     "output_type": "execute_result"
    },
    {
     "data": {
      "image/png": "[encoded data removed]",
      "text/plain": [
       "<Figure size 432x288 with 1 Axes>"
      ]
     },
     "metadata": {
      "needs_background": "light"
     },
     "output_type": "display_data"
    }
   ],
   "source": [
    "sns.countplot(text['sentiment'])"
   ]
  },
  {
   "cell_type": "markdown",
   "metadata": {},
   "source": [
    "## correlation finding"
   ]
  },
  {
   "cell_type": "markdown",
   "metadata": {},
   "source": [
    "inner join two dataframe with key = id, value = sentiment and risk-score"
   ]
  },
  {
   "cell_type": "code",
   "execution_count": 112,
   "metadata": {},
   "outputs": [
    {
     "data": {
      "text/plain": [
       "(991, 14)"
      ]
     },
     "execution_count": 112,
     "metadata": {},
     "output_type": "execute_result"
    }
   ],
   "source": [
    "text.shape"
   ]
  },
  {
   "cell_type": "code",
   "execution_count": 124,
   "metadata": {},
   "outputs": [],
   "source": [
    "df=pd.read_csv('full_embeddedness.csv')"
   ]
  },
  {
   "cell_type": "code",
   "execution_count": 125,
   "metadata": {},
   "outputs": [
    {
     "data": {
      "text/html": [
       "<div>\n",
       "<style scoped>\n",
       "    .dataframe tbody tr th:only-of-type {\n",
       "        vertical-align: middle;\n",
       "    }\n",
       "\n",
       "    .dataframe tbody tr th {\n",
       "        vertical-align: top;\n",
       "    }\n",
       "\n",
       "    .dataframe thead th {\n",
       "        text-align: right;\n",
       "    }\n",
       "</style>\n",
       "<table border=\"1\" class=\"dataframe\">\n",
       "  <thead>\n",
       "    <tr style=\"text-align: right;\">\n",
       "      <th></th>\n",
       "      <th>ID</th>\n",
       "      <th>admin</th>\n",
       "      <th>age</th>\n",
       "      <th>sex</th>\n",
       "      <th>zone</th>\n",
       "      <th>gang</th>\n",
       "      <th>family</th>\n",
       "      <th>other</th>\n",
       "      <th>risk</th>\n",
       "    </tr>\n",
       "  </thead>\n",
       "  <tbody>\n",
       "    <tr>\n",
       "      <th>0</th>\n",
       "      <td>BVCB-0-144-1</td>\n",
       "      <td>3</td>\n",
       "      <td>20.0</td>\n",
       "      <td>2</td>\n",
       "      <td>22.0</td>\n",
       "      <td>-7.812395</td>\n",
       "      <td>-3.665696</td>\n",
       "      <td>0.127677</td>\n",
       "      <td>-5.196776</td>\n",
       "    </tr>\n",
       "    <tr>\n",
       "      <th>1</th>\n",
       "      <td>BVCB-0-174-1</td>\n",
       "      <td>2</td>\n",
       "      <td>21.0</td>\n",
       "      <td>1</td>\n",
       "      <td>22.0</td>\n",
       "      <td>2.103629</td>\n",
       "      <td>-1.267477</td>\n",
       "      <td>2.417171</td>\n",
       "      <td>9.762419</td>\n",
       "    </tr>\n",
       "    <tr>\n",
       "      <th>2</th>\n",
       "      <td>Southeast 3-10-24-1</td>\n",
       "      <td>1</td>\n",
       "      <td>NaN</td>\n",
       "      <td>2</td>\n",
       "      <td>21.0</td>\n",
       "      <td>NaN</td>\n",
       "      <td>6.626468</td>\n",
       "      <td>-0.225167</td>\n",
       "      <td>-2.651080</td>\n",
       "    </tr>\n",
       "    <tr>\n",
       "      <th>3</th>\n",
       "      <td>Southeast 3-10-18-1</td>\n",
       "      <td>1</td>\n",
       "      <td>25.0</td>\n",
       "      <td>1</td>\n",
       "      <td>21.0</td>\n",
       "      <td>-8.583601</td>\n",
       "      <td>6.626468</td>\n",
       "      <td>-0.225167</td>\n",
       "      <td>-2.073084</td>\n",
       "    </tr>\n",
       "    <tr>\n",
       "      <th>4</th>\n",
       "      <td>Southeast 3-10-17-1</td>\n",
       "      <td>1</td>\n",
       "      <td>24.0</td>\n",
       "      <td>2</td>\n",
       "      <td>21.0</td>\n",
       "      <td>-8.583601</td>\n",
       "      <td>6.626468</td>\n",
       "      <td>1.413228</td>\n",
       "      <td>-1.421399</td>\n",
       "    </tr>\n",
       "    <tr>\n",
       "      <th>...</th>\n",
       "      <td>...</td>\n",
       "      <td>...</td>\n",
       "      <td>...</td>\n",
       "      <td>...</td>\n",
       "      <td>...</td>\n",
       "      <td>...</td>\n",
       "      <td>...</td>\n",
       "      <td>...</td>\n",
       "      <td>...</td>\n",
       "    </tr>\n",
       "    <tr>\n",
       "      <th>2760</th>\n",
       "      <td>Southwest 2-23-280-1</td>\n",
       "      <td>1</td>\n",
       "      <td>15.0</td>\n",
       "      <td>2</td>\n",
       "      <td>23.0</td>\n",
       "      <td>NaN</td>\n",
       "      <td>-1.823371</td>\n",
       "      <td>NaN</td>\n",
       "      <td>-2.667042</td>\n",
       "    </tr>\n",
       "    <tr>\n",
       "      <th>2761</th>\n",
       "      <td>Northeast-25-64-1</td>\n",
       "      <td>1</td>\n",
       "      <td>16.0</td>\n",
       "      <td>1</td>\n",
       "      <td>NaN</td>\n",
       "      <td>NaN</td>\n",
       "      <td>0.584661</td>\n",
       "      <td>NaN</td>\n",
       "      <td>-4.329781</td>\n",
       "    </tr>\n",
       "    <tr>\n",
       "      <th>2762</th>\n",
       "      <td>Mission-14-413-1</td>\n",
       "      <td>1</td>\n",
       "      <td>16.0</td>\n",
       "      <td>1</td>\n",
       "      <td>NaN</td>\n",
       "      <td>NaN</td>\n",
       "      <td>5.223674</td>\n",
       "      <td>NaN</td>\n",
       "      <td>2.635519</td>\n",
       "    </tr>\n",
       "    <tr>\n",
       "      <th>2763</th>\n",
       "      <td>77th 3-20-376-1</td>\n",
       "      <td>1</td>\n",
       "      <td>14.0</td>\n",
       "      <td>2</td>\n",
       "      <td>NaN</td>\n",
       "      <td>NaN</td>\n",
       "      <td>2.935746</td>\n",
       "      <td>NaN</td>\n",
       "      <td>-2.884790</td>\n",
       "    </tr>\n",
       "    <tr>\n",
       "      <th>2764</th>\n",
       "      <td>Pacific-18-110-2</td>\n",
       "      <td>3</td>\n",
       "      <td>17.0</td>\n",
       "      <td>1</td>\n",
       "      <td>NaN</td>\n",
       "      <td>NaN</td>\n",
       "      <td>-2.527379</td>\n",
       "      <td>NaN</td>\n",
       "      <td>9.298474</td>\n",
       "    </tr>\n",
       "  </tbody>\n",
       "</table>\n",
       "<p>2765 rows × 9 columns</p>\n",
       "</div>"
      ],
      "text/plain": [
       "                        ID  admin   age  sex  zone      gang    family  \\\n",
       "0             BVCB-0-144-1      3  20.0    2  22.0 -7.812395 -3.665696   \n",
       "1             BVCB-0-174-1      2  21.0    1  22.0  2.103629 -1.267477   \n",
       "2      Southeast 3-10-24-1      1   NaN    2  21.0       NaN  6.626468   \n",
       "3      Southeast 3-10-18-1      1  25.0    1  21.0 -8.583601  6.626468   \n",
       "4      Southeast 3-10-17-1      1  24.0    2  21.0 -8.583601  6.626468   \n",
       "...                    ...    ...   ...  ...   ...       ...       ...   \n",
       "2760  Southwest 2-23-280-1      1  15.0    2  23.0       NaN -1.823371   \n",
       "2761     Northeast-25-64-1      1  16.0    1   NaN       NaN  0.584661   \n",
       "2762      Mission-14-413-1      1  16.0    1   NaN       NaN  5.223674   \n",
       "2763       77th 3-20-376-1      1  14.0    2   NaN       NaN  2.935746   \n",
       "2764      Pacific-18-110-2      3  17.0    1   NaN       NaN -2.527379   \n",
       "\n",
       "         other      risk  \n",
       "0     0.127677 -5.196776  \n",
       "1     2.417171  9.762419  \n",
       "2    -0.225167 -2.651080  \n",
       "3    -0.225167 -2.073084  \n",
       "4     1.413228 -1.421399  \n",
       "...        ...       ...  \n",
       "2760       NaN -2.667042  \n",
       "2761       NaN -4.329781  \n",
       "2762       NaN  2.635519  \n",
       "2763       NaN -2.884790  \n",
       "2764       NaN  9.298474  \n",
       "\n",
       "[2765 rows x 9 columns]"
      ]
     },
     "execution_count": 125,
     "metadata": {},
     "output_type": "execute_result"
    }
   ],
   "source": [
    "df.shape\n",
    "df"
   ]
  },
  {
   "cell_type": "code",
   "execution_count": 128,
   "metadata": {},
   "outputs": [
    {
     "data": {
      "text/html": [
       "<div>\n",
       "<style scoped>\n",
       "    .dataframe tbody tr th:only-of-type {\n",
       "        vertical-align: middle;\n",
       "    }\n",
       "\n",
       "    .dataframe tbody tr th {\n",
       "        vertical-align: top;\n",
       "    }\n",
       "\n",
       "    .dataframe thead th {\n",
       "        text-align: right;\n",
       "    }\n",
       "</style>\n",
       "<table border=\"1\" class=\"dataframe\">\n",
       "  <thead>\n",
       "    <tr style=\"text-align: right;\">\n",
       "      <th></th>\n",
       "      <th>ID</th>\n",
       "      <th>risk</th>\n",
       "    </tr>\n",
       "  </thead>\n",
       "  <tbody>\n",
       "    <tr>\n",
       "      <th>0</th>\n",
       "      <td>BVCB-0-144-1</td>\n",
       "      <td>-5.196776</td>\n",
       "    </tr>\n",
       "    <tr>\n",
       "      <th>1</th>\n",
       "      <td>BVCB-0-174-1</td>\n",
       "      <td>9.762419</td>\n",
       "    </tr>\n",
       "    <tr>\n",
       "      <th>2</th>\n",
       "      <td>Southeast 3-10-24-1</td>\n",
       "      <td>-2.651080</td>\n",
       "    </tr>\n",
       "    <tr>\n",
       "      <th>3</th>\n",
       "      <td>Southeast 3-10-18-1</td>\n",
       "      <td>-2.073084</td>\n",
       "    </tr>\n",
       "    <tr>\n",
       "      <th>4</th>\n",
       "      <td>Southeast 3-10-17-1</td>\n",
       "      <td>-1.421399</td>\n",
       "    </tr>\n",
       "  </tbody>\n",
       "</table>\n",
       "</div>"
      ],
      "text/plain": [
       "                    ID      risk\n",
       "0         BVCB-0-144-1 -5.196776\n",
       "1         BVCB-0-174-1  9.762419\n",
       "2  Southeast 3-10-24-1 -2.651080\n",
       "3  Southeast 3-10-18-1 -2.073084\n",
       "4  Southeast 3-10-17-1 -1.421399"
      ]
     },
     "execution_count": 128,
     "metadata": {},
     "output_type": "execute_result"
    }
   ],
   "source": [
    "risk=df.loc[:,['ID','risk']]\n",
    "risk.head()"
   ]
  },
  {
   "cell_type": "code",
   "execution_count": 129,
   "metadata": {},
   "outputs": [],
   "source": [
    "\n",
    "emotion=text.loc[:,['GRYD_ETO_ID','sentiment']]"
   ]
  },
  {
   "cell_type": "code",
   "execution_count": 130,
   "metadata": {},
   "outputs": [
    {
     "data": {
      "text/plain": [
       "(991, 2)"
      ]
     },
     "execution_count": 130,
     "metadata": {},
     "output_type": "execute_result"
    }
   ],
   "source": [
    "emotion=emotion.rename(columns={'GRYD_ETO_ID':'ID'})\n",
    "emotion.shape"
   ]
  },
  {
   "cell_type": "code",
   "execution_count": 131,
   "metadata": {},
   "outputs": [],
   "source": [
    "merged_inner = pd.merge(left=emotion, right=risk, left_on='ID', right_on='ID')"
   ]
  },
  {
   "cell_type": "code",
   "execution_count": 132,
   "metadata": {},
   "outputs": [
    {
     "data": {
      "text/plain": [
       "(1559, 3)"
      ]
     },
     "execution_count": 132,
     "metadata": {},
     "output_type": "execute_result"
    }
   ],
   "source": [
    "merged_inner.shape"
   ]
  },
  {
   "cell_type": "code",
   "execution_count": 133,
   "metadata": {},
   "outputs": [],
   "source": [
    "df=merged_inner.dropna()"
   ]
  },
  {
   "cell_type": "code",
   "execution_count": 134,
   "metadata": {},
   "outputs": [
    {
     "data": {
      "text/plain": [
       "(1541, 3)"
      ]
     },
     "execution_count": 134,
     "metadata": {},
     "output_type": "execute_result"
    }
   ],
   "source": [
    "df.shape"
   ]
  },
  {
   "cell_type": "code",
   "execution_count": 135,
   "metadata": {},
   "outputs": [
    {
     "data": {
      "text/html": [
       "<div>\n",
       "<style scoped>\n",
       "    .dataframe tbody tr th:only-of-type {\n",
       "        vertical-align: middle;\n",
       "    }\n",
       "\n",
       "    .dataframe tbody tr th {\n",
       "        vertical-align: top;\n",
       "    }\n",
       "\n",
       "    .dataframe thead th {\n",
       "        text-align: right;\n",
       "    }\n",
       "</style>\n",
       "<table border=\"1\" class=\"dataframe\">\n",
       "  <thead>\n",
       "    <tr style=\"text-align: right;\">\n",
       "      <th></th>\n",
       "      <th>ID</th>\n",
       "      <th>sentiment</th>\n",
       "      <th>risk</th>\n",
       "    </tr>\n",
       "  </thead>\n",
       "  <tbody>\n",
       "    <tr>\n",
       "      <th>0</th>\n",
       "      <td>BVCB-0-144-1</td>\n",
       "      <td>fear</td>\n",
       "      <td>-5.196776</td>\n",
       "    </tr>\n",
       "    <tr>\n",
       "      <th>1</th>\n",
       "      <td>BVCB-0-174-1</td>\n",
       "      <td>sadness</td>\n",
       "      <td>9.762419</td>\n",
       "    </tr>\n",
       "    <tr>\n",
       "      <th>3</th>\n",
       "      <td>Southeast 3-10-24-1</td>\n",
       "      <td>fear</td>\n",
       "      <td>-2.651080</td>\n",
       "    </tr>\n",
       "    <tr>\n",
       "      <th>4</th>\n",
       "      <td>Southeast 3-10-18-1</td>\n",
       "      <td>sadness</td>\n",
       "      <td>-2.073084</td>\n",
       "    </tr>\n",
       "    <tr>\n",
       "      <th>5</th>\n",
       "      <td>Southeast 3-10-17-1</td>\n",
       "      <td>sadness</td>\n",
       "      <td>-1.421399</td>\n",
       "    </tr>\n",
       "    <tr>\n",
       "      <th>...</th>\n",
       "      <td>...</td>\n",
       "      <td>...</td>\n",
       "      <td>...</td>\n",
       "    </tr>\n",
       "    <tr>\n",
       "      <th>1554</th>\n",
       "      <td>Rampart 1-12-391-3</td>\n",
       "      <td>sadness</td>\n",
       "      <td>-2.884790</td>\n",
       "    </tr>\n",
       "    <tr>\n",
       "      <th>1555</th>\n",
       "      <td>Southeast 1-24-72-1</td>\n",
       "      <td>fear</td>\n",
       "      <td>0.870485</td>\n",
       "    </tr>\n",
       "    <tr>\n",
       "      <th>1556</th>\n",
       "      <td>Northeast-25-68-2</td>\n",
       "      <td>sadness</td>\n",
       "      <td>3.560241</td>\n",
       "    </tr>\n",
       "    <tr>\n",
       "      <th>1557</th>\n",
       "      <td>Pacific-18-110-2</td>\n",
       "      <td>fear</td>\n",
       "      <td>-0.153241</td>\n",
       "    </tr>\n",
       "    <tr>\n",
       "      <th>1558</th>\n",
       "      <td>Pacific-18-110-2</td>\n",
       "      <td>fear</td>\n",
       "      <td>9.298474</td>\n",
       "    </tr>\n",
       "  </tbody>\n",
       "</table>\n",
       "<p>1541 rows × 3 columns</p>\n",
       "</div>"
      ],
      "text/plain": [
       "                       ID sentiment      risk\n",
       "0            BVCB-0-144-1      fear -5.196776\n",
       "1            BVCB-0-174-1   sadness  9.762419\n",
       "3     Southeast 3-10-24-1      fear -2.651080\n",
       "4     Southeast 3-10-18-1   sadness -2.073084\n",
       "5     Southeast 3-10-17-1   sadness -1.421399\n",
       "...                   ...       ...       ...\n",
       "1554   Rampart 1-12-391-3   sadness -2.884790\n",
       "1555  Southeast 1-24-72-1      fear  0.870485\n",
       "1556    Northeast-25-68-2   sadness  3.560241\n",
       "1557     Pacific-18-110-2      fear -0.153241\n",
       "1558     Pacific-18-110-2      fear  9.298474\n",
       "\n",
       "[1541 rows x 3 columns]"
      ]
     },
     "execution_count": 135,
     "metadata": {},
     "output_type": "execute_result"
    }
   ],
   "source": [
    "df=df.rename(columns={'gangid':'ID'})\n",
    "#df is the final one\n",
    "df"
   ]
  },
  {
   "cell_type": "code",
   "execution_count": 139,
   "metadata": {},
   "outputs": [
    {
     "data": {
      "text/plain": [
       "Text(0, 0.5, 'risk')"
      ]
     },
     "execution_count": 139,
     "metadata": {},
     "output_type": "execute_result"
    },
    {
     "data": {
      "image/png": "[encoded data removed]",
      "text/plain": [
       "<Figure size 432x288 with 1 Axes>"
      ]
     },
     "metadata": {
      "needs_background": "light"
     },
     "output_type": "display_data"
    }
   ],
   "source": [
    "sns.boxplot(x='sentiment',y='risk',data=df,palette='rainbow')\n",
    "plt.ylabel('risk')"
   ]
  },
  {
   "cell_type": "code",
   "execution_count": 47,
   "metadata": {},
   "outputs": [],
   "source": [
    "intake=pd.read_csv('full_intake.csv')\n",
    "retake=pd.read_csv('full_retake.csv')\n",
    "full = pd.merge(left=intake, right=retake, left_on='ID', right_on='ID')\n",
    "full=full.loc[:,['ID',\"gang_x\",'gang_y']]\n",
    "full=full.rename(columns={'gang_x':'gang_intake','gang_y':'gang_retake'})\n",
    "full=full[full['gang_intake'].notna()]\n",
    "\n",
    "df.to_csv('emotion.csv')"
   ]
  },
  {
   "cell_type": "code",
   "execution_count": 48,
   "metadata": {},
   "outputs": [],
   "source": [
    "score=pd.read_csv('full_embeddedness.csv')\n",
    "xx=pd.merge(left=score.drop_duplicates(), right=df.drop_duplicates(), on='ID', how='inner')\n",
    "\n",
    "\n",
    "xx=xx[xx['admin']!=3]\n",
    "xx=xx[xx['admin']!=4]\n",
    "\n",
    "xx = xx.drop_duplicates(subset=['ID','admin'], keep='first')\n"
   ]
  },
  {
   "cell_type": "code",
   "execution_count": 49,
   "metadata": {},
   "outputs": [
    {
     "data": {
      "text/plain": [
       "Text(0, 0.5, 'z_score')"
      ]
     },
     "execution_count": 49,
     "metadata": {},
     "output_type": "execute_result"
    },
    {
     "data": {
      "image/png": "[encoded data removed]",
      "text/plain": [
       "<Figure size 432x288 with 1 Axes>"
      ]
     },
     "metadata": {
      "needs_background": "light"
     },
     "output_type": "display_data"
    }
   ],
   "source": [
    "sns.boxplot(x='sentiment',y='sum',data=xx,hue='admin',palette='rainbow')\n",
    "plt.ylabel('z_score')"
   ]
  },
  {
   "cell_type": "code",
   "execution_count": 50,
   "metadata": {},
   "outputs": [
    {
     "data": {
      "text/plain": [
       "Text(0, 0.5, 'z_score')"
      ]
     },
     "execution_count": 50,
     "metadata": {},
     "output_type": "execute_result"
    },
    {
     "data": {
      "image/png": "[encoded data removed]",
      "text/plain": [
       "<Figure size 432x288 with 1 Axes>"
      ]
     },
     "metadata": {
      "needs_background": "light"
     },
     "output_type": "display_data"
    }
   ],
   "source": [
    "sns.swarmplot(x='sentiment',y='sum',data=df,palette='Set2')\n",
    "plt.ylabel('z_score')"
   ]
  },
  {
   "cell_type": "markdown",
   "metadata": {},
   "source": [
    "do the same with activity and risk-score"
   ]
  },
  {
   "cell_type": "code",
   "execution_count": 51,
   "metadata": {},
   "outputs": [],
   "source": [
    "activity=pd.read_csv('SET_S6b_Activities_Categorized.csv')"
   ]
  },
  {
   "cell_type": "code",
   "execution_count": 52,
   "metadata": {},
   "outputs": [],
   "source": [
    "activity=activity.drop(columns = \"Unnamed: 0\")"
   ]
  },
  {
   "cell_type": "code",
   "execution_count": 53,
   "metadata": {},
   "outputs": [],
   "source": [
    "activity=activity.rename(columns={'GRYD_ETO_ID':'gangid'})\n",
    "activity=activity.dropna()"
   ]
  },
  {
   "cell_type": "code",
   "execution_count": 54,
   "metadata": {},
   "outputs": [
    {
     "data": {
      "text/html": [
       "<div>\n",
       "<style scoped>\n",
       "    .dataframe tbody tr th:only-of-type {\n",
       "        vertical-align: middle;\n",
       "    }\n",
       "\n",
       "    .dataframe tbody tr th {\n",
       "        vertical-align: top;\n",
       "    }\n",
       "\n",
       "    .dataframe thead th {\n",
       "        text-align: right;\n",
       "    }\n",
       "</style>\n",
       "<table border=\"1\" class=\"dataframe\">\n",
       "  <thead>\n",
       "    <tr style=\"text-align: right;\">\n",
       "      <th></th>\n",
       "      <th>gangid</th>\n",
       "      <th>categorized_activity</th>\n",
       "    </tr>\n",
       "  </thead>\n",
       "  <tbody>\n",
       "    <tr>\n",
       "      <th>0</th>\n",
       "      <td>BVCB-0-144-1</td>\n",
       "      <td>sports</td>\n",
       "    </tr>\n",
       "    <tr>\n",
       "      <th>1</th>\n",
       "      <td>BVCB-0-174-1</td>\n",
       "      <td>sports</td>\n",
       "    </tr>\n",
       "    <tr>\n",
       "      <th>2</th>\n",
       "      <td>Southeast 3-10-24-1</td>\n",
       "      <td>volunteer</td>\n",
       "    </tr>\n",
       "    <tr>\n",
       "      <th>3</th>\n",
       "      <td>Southeast 3-10-18-1</td>\n",
       "      <td>art</td>\n",
       "    </tr>\n",
       "    <tr>\n",
       "      <th>4</th>\n",
       "      <td>Southeast 3-10-17-1</td>\n",
       "      <td>art</td>\n",
       "    </tr>\n",
       "  </tbody>\n",
       "</table>\n",
       "</div>"
      ],
      "text/plain": [
       "                gangid categorized_activity\n",
       "0         BVCB-0-144-1               sports\n",
       "1         BVCB-0-174-1               sports\n",
       "2  Southeast 3-10-24-1            volunteer\n",
       "3  Southeast 3-10-18-1                  art\n",
       "4  Southeast 3-10-17-1                  art"
      ]
     },
     "execution_count": 54,
     "metadata": {},
     "output_type": "execute_result"
    }
   ],
   "source": [
    "activity_new = pd.DataFrame(activity.Categorized_Activities.str.split(', ').tolist(), index=activity.gangid).stack()\n",
    "activity_new = activity_new.reset_index([0, 'gangid'])\n",
    "activity_new.columns = ['gangid', 'categorized_activity']\n",
    "activity_new.head()"
   ]
  },
  {
   "cell_type": "code",
   "execution_count": 55,
   "metadata": {},
   "outputs": [],
   "source": [
    "merged_new = pd.merge(left=activity_new, right=risk, left_on='gangid', right_on='gangid')"
   ]
  },
  {
   "cell_type": "code",
   "execution_count": null,
   "metadata": {},
   "outputs": [],
   "source": []
  },
  {
   "cell_type": "code",
   "execution_count": 56,
   "metadata": {},
   "outputs": [
    {
     "data": {
      "text/plain": [
       "Text(0, 0.5, 'z_score')"
      ]
     },
     "execution_count": 56,
     "metadata": {},
     "output_type": "execute_result"
    },
    {
     "data": {
      "image/png": "[encoded data removed]",
      "text/plain": [
       "<Figure size 432x288 with 1 Axes>"
      ]
     },
     "metadata": {
      "needs_background": "light"
     },
     "output_type": "display_data"
    }
   ],
   "source": [
    "sns.boxplot(x='categorized_activity',y='sum',data=merged_new,palette='rainbow')\n",
    "plt.ylabel('z_score')"
   ]
  },
  {
   "cell_type": "markdown",
   "metadata": {},
   "source": [
    "!!!!!!!!!!!!!!! too many actvities, re-grouping"
   ]
  },
  {
   "cell_type": "code",
   "execution_count": 57,
   "metadata": {},
   "outputs": [
    {
     "data": {
      "text/plain": [
       "FreqDist({'sports': 206, 'job': 143, 'selfimprovement': 104, 'program': 102, 'study': 83, 'church': 75, 'volunteer': 69, 'community': 52, 'art': 48, 'hygiene': 39, ...})"
      ]
     },
     "execution_count": 57,
     "metadata": {},
     "output_type": "execute_result"
    }
   ],
   "source": [
    "contents=merged_new['categorized_activity'].dropna().values\n",
    "freq = nltk.FreqDist(contents)\n",
    "freq"
   ]
  },
  {
   "cell_type": "code",
   "execution_count": 58,
   "metadata": {},
   "outputs": [
    {
     "data": {
      "text/plain": [
       "{'sports': 206,\n",
       " 'job': 143,\n",
       " 'selfimprovement': 104,\n",
       " 'program': 102,\n",
       " 'study': 83,\n",
       " 'church': 75,\n",
       " 'volunteer': 69,\n",
       " 'community': 52,\n",
       " 'art': 48,\n",
       " 'hygiene': 39,\n",
       " 'therapy': 37,\n",
       " 'other': 37,\n",
       " 'family': 26,\n",
       " 'entertainment': 20,\n",
       " 'school': 8,\n",
       " 'tutoring': 3,\n",
       " 'workout': 3,\n",
       " 'gryd': 2,\n",
       " 'voluteer': 2,\n",
       " 'Sports': 2,\n",
       " 'work': 1,\n",
       " 'class': 1,\n",
       " 'sefimprovement': 1,\n",
       " 'femily': 1,\n",
       " 'spports': 1}"
      ]
     },
     "execution_count": 58,
     "metadata": {},
     "output_type": "execute_result"
    }
   ],
   "source": [
    "from collections import Counter\n",
    "plot_dict = dict(Counter(freq).most_common(50))\n",
    "plot_dict"
   ]
  },
  {
   "cell_type": "code",
   "execution_count": 59,
   "metadata": {},
   "outputs": [],
   "source": [
    "merged_new.loc[merged_new['categorized_activity'] == 'work', 'categorized_activity'] = 'job'\n",
    "merged_new.loc[merged_new['categorized_activity'] == 'Sports', 'categorized_activity'] = 'sports'\n",
    "merged_new.loc[merged_new['categorized_activity'] == 'school', 'categorized_activity'] = 'study'\n",
    "merged_new.loc[merged_new['categorized_activity'] == 'voluteer', 'categorized_activity'] = 'volunteer'\n",
    "merged_new.loc[merged_new['categorized_activity'] == 'workout', 'categorized_activity'] = 'sports'\n",
    "merged_new.loc[merged_new['categorized_activity'] == 'tutoring', 'categorized_activity'] = 'other'\n",
    "merged_new.loc[merged_new['categorized_activity'] == 'community', 'categorized_activity'] = 'volunteer'\n",
    "merged_new.loc[merged_new['categorized_activity'] == 'sefimprovement', 'categorized_activity'] = 'selfimprovement'\n",
    "#merged_new is the final one"
   ]
  },
  {
   "cell_type": "code",
   "execution_count": 60,
   "metadata": {},
   "outputs": [],
   "source": [
    "merged_new.loc[merged_new['categorized_activity'] == 'selfimprovement', 'categorized_activity'] = 'personality_improvement'"
   ]
  },
  {
   "cell_type": "code",
   "execution_count": 61,
   "metadata": {},
   "outputs": [],
   "source": [
    "merged_new.loc[merged_new['categorized_activity'] == 'gryd', 'categorized_activity'] = 'program'\n",
    "merged_new.loc[merged_new['categorized_activity'] == 'class', 'categorized_activity'] = 'study'\n",
    "merged_new.loc[merged_new['categorized_activity'] == 'femily', 'categorized_activity'] = 'family'\n",
    "merged_new.loc[merged_new['categorized_activity'] == 'sefimprovement', 'categorized_activity'] = 'selfimprovement'\n",
    "merged_new.loc[merged_new['categorized_activity'] == 'spports', 'categorized_activity'] = 'sports'\n",
    "merged_new.loc[merged_new['categorized_activity'] == 'hygiene', 'categorized_activity'] = 'other'"
   ]
  },
  {
   "cell_type": "code",
   "execution_count": 62,
   "metadata": {},
   "outputs": [
    {
     "data": {
      "text/plain": [
       "(2765, 9)"
      ]
     },
     "execution_count": 62,
     "metadata": {},
     "output_type": "execute_result"
    }
   ],
   "source": [
    "score=pd.read_csv('full_embeddedness.csv')\n",
    "score.shape"
   ]
  },
  {
   "cell_type": "code",
   "execution_count": 63,
   "metadata": {},
   "outputs": [],
   "source": [
    "act=merged_new\n",
    "act=act.rename(columns={'gangid':'ID'})"
   ]
  },
  {
   "cell_type": "code",
   "execution_count": 64,
   "metadata": {},
   "outputs": [],
   "source": [
    "full=pd.merge(left=score,right=act,on='ID',how='inner')"
   ]
  },
  {
   "cell_type": "code",
   "execution_count": 65,
   "metadata": {},
   "outputs": [
    {
     "data": {
      "text/html": [
       "<div>\n",
       "<style scoped>\n",
       "    .dataframe tbody tr th:only-of-type {\n",
       "        vertical-align: middle;\n",
       "    }\n",
       "\n",
       "    .dataframe tbody tr th {\n",
       "        vertical-align: top;\n",
       "    }\n",
       "\n",
       "    .dataframe thead th {\n",
       "        text-align: right;\n",
       "    }\n",
       "</style>\n",
       "<table border=\"1\" class=\"dataframe\">\n",
       "  <thead>\n",
       "    <tr style=\"text-align: right;\">\n",
       "      <th></th>\n",
       "      <th>ID</th>\n",
       "      <th>admin</th>\n",
       "      <th>age</th>\n",
       "      <th>sex</th>\n",
       "      <th>zone</th>\n",
       "      <th>gang</th>\n",
       "      <th>family</th>\n",
       "      <th>other</th>\n",
       "      <th>risk</th>\n",
       "      <th>categorized_activity</th>\n",
       "      <th>sum</th>\n",
       "    </tr>\n",
       "  </thead>\n",
       "  <tbody>\n",
       "    <tr>\n",
       "      <th>0</th>\n",
       "      <td>BVCB-0-144-1</td>\n",
       "      <td>3</td>\n",
       "      <td>20.0</td>\n",
       "      <td>2</td>\n",
       "      <td>22.0</td>\n",
       "      <td>-7.812395</td>\n",
       "      <td>-3.665696</td>\n",
       "      <td>0.127677</td>\n",
       "      <td>-5.196776</td>\n",
       "      <td>sports</td>\n",
       "      <td>-7.812063</td>\n",
       "    </tr>\n",
       "    <tr>\n",
       "      <th>1</th>\n",
       "      <td>BVCB-0-174-1</td>\n",
       "      <td>2</td>\n",
       "      <td>21.0</td>\n",
       "      <td>1</td>\n",
       "      <td>22.0</td>\n",
       "      <td>2.103629</td>\n",
       "      <td>-1.267477</td>\n",
       "      <td>2.417171</td>\n",
       "      <td>9.762419</td>\n",
       "      <td>sports</td>\n",
       "      <td>2.120676</td>\n",
       "    </tr>\n",
       "    <tr>\n",
       "      <th>2</th>\n",
       "      <td>BVCB-0-174-1</td>\n",
       "      <td>2</td>\n",
       "      <td>21.0</td>\n",
       "      <td>1</td>\n",
       "      <td>22.0</td>\n",
       "      <td>2.103629</td>\n",
       "      <td>-1.267477</td>\n",
       "      <td>2.417171</td>\n",
       "      <td>9.762419</td>\n",
       "      <td>sports</td>\n",
       "      <td>2.965543</td>\n",
       "    </tr>\n",
       "    <tr>\n",
       "      <th>3</th>\n",
       "      <td>BVCB-0-174-1</td>\n",
       "      <td>1</td>\n",
       "      <td>20.0</td>\n",
       "      <td>1</td>\n",
       "      <td>22.0</td>\n",
       "      <td>2.931780</td>\n",
       "      <td>-0.597945</td>\n",
       "      <td>0.411312</td>\n",
       "      <td>NaN</td>\n",
       "      <td>sports</td>\n",
       "      <td>2.120676</td>\n",
       "    </tr>\n",
       "    <tr>\n",
       "      <th>4</th>\n",
       "      <td>BVCB-0-174-1</td>\n",
       "      <td>1</td>\n",
       "      <td>20.0</td>\n",
       "      <td>1</td>\n",
       "      <td>22.0</td>\n",
       "      <td>2.931780</td>\n",
       "      <td>-0.597945</td>\n",
       "      <td>0.411312</td>\n",
       "      <td>NaN</td>\n",
       "      <td>sports</td>\n",
       "      <td>2.965543</td>\n",
       "    </tr>\n",
       "    <tr>\n",
       "      <th>...</th>\n",
       "      <td>...</td>\n",
       "      <td>...</td>\n",
       "      <td>...</td>\n",
       "      <td>...</td>\n",
       "      <td>...</td>\n",
       "      <td>...</td>\n",
       "      <td>...</td>\n",
       "      <td>...</td>\n",
       "      <td>...</td>\n",
       "      <td>...</td>\n",
       "      <td>...</td>\n",
       "    </tr>\n",
       "    <tr>\n",
       "      <th>2105</th>\n",
       "      <td>Southeast 1-24-72-1</td>\n",
       "      <td>1</td>\n",
       "      <td>18.0</td>\n",
       "      <td>1</td>\n",
       "      <td>19.0</td>\n",
       "      <td>NaN</td>\n",
       "      <td>NaN</td>\n",
       "      <td>NaN</td>\n",
       "      <td>0.870485</td>\n",
       "      <td>sports</td>\n",
       "      <td>NaN</td>\n",
       "    </tr>\n",
       "    <tr>\n",
       "      <th>2106</th>\n",
       "      <td>Northeast-25-68-2</td>\n",
       "      <td>1</td>\n",
       "      <td>22.0</td>\n",
       "      <td>1</td>\n",
       "      <td>14.0</td>\n",
       "      <td>NaN</td>\n",
       "      <td>1.220058</td>\n",
       "      <td>NaN</td>\n",
       "      <td>3.560241</td>\n",
       "      <td>family</td>\n",
       "      <td>NaN</td>\n",
       "    </tr>\n",
       "    <tr>\n",
       "      <th>2107</th>\n",
       "      <td>Southwest 2-23-279-1</td>\n",
       "      <td>1</td>\n",
       "      <td>18.0</td>\n",
       "      <td>2</td>\n",
       "      <td>23.0</td>\n",
       "      <td>NaN</td>\n",
       "      <td>-0.818635</td>\n",
       "      <td>NaN</td>\n",
       "      <td>2.572766</td>\n",
       "      <td>other</td>\n",
       "      <td>NaN</td>\n",
       "    </tr>\n",
       "    <tr>\n",
       "      <th>2108</th>\n",
       "      <td>Northeast-25-64-1</td>\n",
       "      <td>1</td>\n",
       "      <td>16.0</td>\n",
       "      <td>1</td>\n",
       "      <td>NaN</td>\n",
       "      <td>NaN</td>\n",
       "      <td>0.584661</td>\n",
       "      <td>NaN</td>\n",
       "      <td>-4.329781</td>\n",
       "      <td>sports</td>\n",
       "      <td>NaN</td>\n",
       "    </tr>\n",
       "    <tr>\n",
       "      <th>2109</th>\n",
       "      <td>Mission-14-413-1</td>\n",
       "      <td>1</td>\n",
       "      <td>16.0</td>\n",
       "      <td>1</td>\n",
       "      <td>NaN</td>\n",
       "      <td>NaN</td>\n",
       "      <td>5.223674</td>\n",
       "      <td>NaN</td>\n",
       "      <td>2.635519</td>\n",
       "      <td>volunteer</td>\n",
       "      <td>NaN</td>\n",
       "    </tr>\n",
       "  </tbody>\n",
       "</table>\n",
       "<p>2110 rows × 11 columns</p>\n",
       "</div>"
      ],
      "text/plain": [
       "                        ID  admin   age  sex  zone      gang    family  \\\n",
       "0             BVCB-0-144-1      3  20.0    2  22.0 -7.812395 -3.665696   \n",
       "1             BVCB-0-174-1      2  21.0    1  22.0  2.103629 -1.267477   \n",
       "2             BVCB-0-174-1      2  21.0    1  22.0  2.103629 -1.267477   \n",
       "3             BVCB-0-174-1      1  20.0    1  22.0  2.931780 -0.597945   \n",
       "4             BVCB-0-174-1      1  20.0    1  22.0  2.931780 -0.597945   \n",
       "...                    ...    ...   ...  ...   ...       ...       ...   \n",
       "2105   Southeast 1-24-72-1      1  18.0    1  19.0       NaN       NaN   \n",
       "2106     Northeast-25-68-2      1  22.0    1  14.0       NaN  1.220058   \n",
       "2107  Southwest 2-23-279-1      1  18.0    2  23.0       NaN -0.818635   \n",
       "2108     Northeast-25-64-1      1  16.0    1   NaN       NaN  0.584661   \n",
       "2109      Mission-14-413-1      1  16.0    1   NaN       NaN  5.223674   \n",
       "\n",
       "         other      risk categorized_activity       sum  \n",
       "0     0.127677 -5.196776               sports -7.812063  \n",
       "1     2.417171  9.762419               sports  2.120676  \n",
       "2     2.417171  9.762419               sports  2.965543  \n",
       "3     0.411312       NaN               sports  2.120676  \n",
       "4     0.411312       NaN               sports  2.965543  \n",
       "...        ...       ...                  ...       ...  \n",
       "2105       NaN  0.870485               sports       NaN  \n",
       "2106       NaN  3.560241               family       NaN  \n",
       "2107       NaN  2.572766                other       NaN  \n",
       "2108       NaN -4.329781               sports       NaN  \n",
       "2109       NaN  2.635519            volunteer       NaN  \n",
       "\n",
       "[2110 rows x 11 columns]"
      ]
     },
     "execution_count": 65,
     "metadata": {},
     "output_type": "execute_result"
    }
   ],
   "source": [
    "full"
   ]
  },
  {
   "cell_type": "code",
   "execution_count": 66,
   "metadata": {},
   "outputs": [
    {
     "data": {
      "text/plain": [
       "(array([ 0,  1,  2,  3,  4,  5,  6,  7,  8,  9, 10, 11]),\n",
       " <a list of 12 Text xticklabel objects>)"
      ]
     },
     "execution_count": 66,
     "metadata": {},
     "output_type": "execute_result"
    },
    {
     "data": {
      "image/png": "[encoded data removed]",
      "text/plain": [
       "<Figure size 432x288 with 1 Axes>"
      ]
     },
     "metadata": {
      "needs_background": "light"
     },
     "output_type": "display_data"
    }
   ],
   "source": [
    "sns.boxplot(x='categorized_activity',y='gang',data=full,palette='rainbow')\n",
    "plt.ylabel('risk_score')\n",
    "plt.xticks(rotation=90)"
   ]
  },
  {
   "cell_type": "code",
   "execution_count": 67,
   "metadata": {},
   "outputs": [
    {
     "data": {
      "text/plain": [
       "{'sports': 212,\n",
       " 'job': 144,\n",
       " 'volunteer': 123,\n",
       " 'personality_improvement': 105,\n",
       " 'program': 104,\n",
       " 'study': 92,\n",
       " 'other': 79,\n",
       " 'church': 75,\n",
       " 'art': 48,\n",
       " 'therapy': 37,\n",
       " 'family': 27,\n",
       " 'entertainment': 20}"
      ]
     },
     "execution_count": 67,
     "metadata": {},
     "output_type": "execute_result"
    }
   ],
   "source": [
    "contents=merged_new['categorized_activity'].dropna().values\n",
    "freq = nltk.FreqDist(contents)\n",
    "from collections import Counter\n",
    "plot_dict = dict(Counter(freq).most_common(50))\n",
    "plot_dict"
   ]
  },
  {
   "cell_type": "code",
   "execution_count": 68,
   "metadata": {},
   "outputs": [
    {
     "data": {
      "image/png": "[encoded data removed]",
      "text/plain": [
       "<Figure size 432x288 with 1 Axes>"
      ]
     },
     "metadata": {},
     "output_type": "display_data"
    }
   ],
   "source": [
    "labels = plot_dict.keys()\n",
    "sizes = plot_dict.values()\n",
    "\n",
    "\n",
    "fig1, ax1 = plt.subplots()\n",
    "ax1.pie(sizes, labels=labels, autopct='%1.1f%%',\n",
    "        shadow=True, startangle=90)\n",
    "ax1.axis('equal')  # Equal aspect ratio ensures that pie is drawn as a circle.\n",
    "\n",
    "plt.show()"
   ]
  },
  {
   "cell_type": "markdown",
   "metadata": {},
   "source": [
    "do the same with gender and age "
   ]
  },
  {
   "cell_type": "code",
   "execution_count": 69,
   "metadata": {},
   "outputs": [],
   "source": [
    "ag=pd.read_csv('SET_processed_latest_version.csv')"
   ]
  },
  {
   "cell_type": "code",
   "execution_count": 70,
   "metadata": {},
   "outputs": [],
   "source": [
    "ag=ag.loc[:,['GRYD_ETO_ID','AGE_1_FB','SEX_1']]\n",
    "ag=ag.rename(columns={'GRYD_ETO_ID':'gangid','AGE_1_FB':'age','SEX_1':'sex'})"
   ]
  },
  {
   "cell_type": "code",
   "execution_count": 71,
   "metadata": {},
   "outputs": [],
   "source": [
    "ag = pd.merge(left=ag, right=risk, left_on='gangid', right_on='gangid')"
   ]
  },
  {
   "cell_type": "code",
   "execution_count": 72,
   "metadata": {},
   "outputs": [
    {
     "data": {
      "text/html": [
       "<div>\n",
       "<style scoped>\n",
       "    .dataframe tbody tr th:only-of-type {\n",
       "        vertical-align: middle;\n",
       "    }\n",
       "\n",
       "    .dataframe tbody tr th {\n",
       "        vertical-align: top;\n",
       "    }\n",
       "\n",
       "    .dataframe thead th {\n",
       "        text-align: right;\n",
       "    }\n",
       "</style>\n",
       "<table border=\"1\" class=\"dataframe\">\n",
       "  <thead>\n",
       "    <tr style=\"text-align: right;\">\n",
       "      <th></th>\n",
       "      <th>gangid</th>\n",
       "      <th>age</th>\n",
       "      <th>sex</th>\n",
       "      <th>sum</th>\n",
       "    </tr>\n",
       "  </thead>\n",
       "  <tbody>\n",
       "    <tr>\n",
       "      <th>0</th>\n",
       "      <td>BVCB-0-144-1</td>\n",
       "      <td>20.0</td>\n",
       "      <td>2</td>\n",
       "      <td>-7.812063</td>\n",
       "    </tr>\n",
       "    <tr>\n",
       "      <th>1</th>\n",
       "      <td>BVCB-0-174-1</td>\n",
       "      <td>21.0</td>\n",
       "      <td>1</td>\n",
       "      <td>2.120676</td>\n",
       "    </tr>\n",
       "    <tr>\n",
       "      <th>2</th>\n",
       "      <td>BVCB-0-174-1</td>\n",
       "      <td>21.0</td>\n",
       "      <td>1</td>\n",
       "      <td>2.965543</td>\n",
       "    </tr>\n",
       "    <tr>\n",
       "      <th>3</th>\n",
       "      <td>BVCB-0-174-1</td>\n",
       "      <td>20.0</td>\n",
       "      <td>1</td>\n",
       "      <td>2.120676</td>\n",
       "    </tr>\n",
       "    <tr>\n",
       "      <th>4</th>\n",
       "      <td>BVCB-0-174-1</td>\n",
       "      <td>20.0</td>\n",
       "      <td>1</td>\n",
       "      <td>2.965543</td>\n",
       "    </tr>\n",
       "  </tbody>\n",
       "</table>\n",
       "</div>"
      ],
      "text/plain": [
       "         gangid   age  sex       sum\n",
       "0  BVCB-0-144-1  20.0    2 -7.812063\n",
       "1  BVCB-0-174-1  21.0    1  2.120676\n",
       "2  BVCB-0-174-1  21.0    1  2.965543\n",
       "3  BVCB-0-174-1  20.0    1  2.120676\n",
       "4  BVCB-0-174-1  20.0    1  2.965543"
      ]
     },
     "execution_count": 72,
     "metadata": {},
     "output_type": "execute_result"
    }
   ],
   "source": [
    "ag.head()"
   ]
  },
  {
   "cell_type": "code",
   "execution_count": 73,
   "metadata": {},
   "outputs": [
    {
     "data": {
      "text/plain": [
       "Text(0, 0.5, 'z_score')"
      ]
     },
     "execution_count": 73,
     "metadata": {},
     "output_type": "execute_result"
    },
    {
     "data": {
      "image/png": "[encoded data removed]",
      "text/plain": [
       "<Figure size 432x288 with 1 Axes>"
      ]
     },
     "metadata": {
      "needs_background": "light"
     },
     "output_type": "display_data"
    }
   ],
   "source": [
    "sns.boxplot(x='sex',y='sum',data=ag,palette='rainbow')\n",
    "plt.ylabel('z_score')"
   ]
  },
  {
   "cell_type": "code",
   "execution_count": 74,
   "metadata": {},
   "outputs": [],
   "source": [
    "for i in range (13,18):\n",
    "    ag.loc[ag['age'] == i, 'age'] = '13-17'\n",
    "    \n",
    "for i in range (18,25):\n",
    "    ag.loc[ag['age'] == i, 'age'] = '19-24'\n",
    "    \n",
    "for i in range (25,31):\n",
    "    ag.loc[ag['age'] == i, 'age'] = '25-30'\n",
    "    \n",
    "for i in range (31,38):\n",
    "    ag.loc[ag['age'] == i, 'age'] = '31-37'    "
   ]
  },
  {
   "cell_type": "code",
   "execution_count": 75,
   "metadata": {},
   "outputs": [
    {
     "data": {
      "text/plain": [
       "(array([0, 1, 2, 3, 4, 5, 6]), <a list of 7 Text xticklabel objects>)"
      ]
     },
     "execution_count": 75,
     "metadata": {},
     "output_type": "execute_result"
    },
    {
     "data": {
      "image/png": "[encoded data removed]",
      "text/plain": [
       "<Figure size 432x288 with 1 Axes>"
      ]
     },
     "metadata": {
      "needs_background": "light"
     },
     "output_type": "display_data"
    }
   ],
   "source": [
    "sns.boxplot(x='age',y='sum',data=ag,palette='rainbow')\n",
    "plt.ylabel('z_score')\n",
    "plt.xticks(rotation=90)"
   ]
  },
  {
   "cell_type": "code",
   "execution_count": 76,
   "metadata": {
    "scrolled": false
   },
   "outputs": [
    {
     "data": {
      "text/html": [
       "<div>\n",
       "<style scoped>\n",
       "    .dataframe tbody tr th:only-of-type {\n",
       "        vertical-align: middle;\n",
       "    }\n",
       "\n",
       "    .dataframe tbody tr th {\n",
       "        vertical-align: top;\n",
       "    }\n",
       "\n",
       "    .dataframe thead th {\n",
       "        text-align: right;\n",
       "    }\n",
       "</style>\n",
       "<table border=\"1\" class=\"dataframe\">\n",
       "  <thead>\n",
       "    <tr style=\"text-align: right;\">\n",
       "      <th></th>\n",
       "      <th>gangid</th>\n",
       "      <th>age</th>\n",
       "      <th>sex</th>\n",
       "      <th>sum</th>\n",
       "    </tr>\n",
       "  </thead>\n",
       "  <tbody>\n",
       "    <tr>\n",
       "      <th>0</th>\n",
       "      <td>BVCB-0-144-1</td>\n",
       "      <td>19-24</td>\n",
       "      <td>2</td>\n",
       "      <td>-7.812063</td>\n",
       "    </tr>\n",
       "    <tr>\n",
       "      <th>1</th>\n",
       "      <td>BVCB-0-174-1</td>\n",
       "      <td>19-24</td>\n",
       "      <td>1</td>\n",
       "      <td>2.120676</td>\n",
       "    </tr>\n",
       "    <tr>\n",
       "      <th>2</th>\n",
       "      <td>BVCB-0-174-1</td>\n",
       "      <td>19-24</td>\n",
       "      <td>1</td>\n",
       "      <td>2.965543</td>\n",
       "    </tr>\n",
       "    <tr>\n",
       "      <th>3</th>\n",
       "      <td>BVCB-0-174-1</td>\n",
       "      <td>19-24</td>\n",
       "      <td>1</td>\n",
       "      <td>2.120676</td>\n",
       "    </tr>\n",
       "    <tr>\n",
       "      <th>4</th>\n",
       "      <td>BVCB-0-174-1</td>\n",
       "      <td>19-24</td>\n",
       "      <td>1</td>\n",
       "      <td>2.965543</td>\n",
       "    </tr>\n",
       "    <tr>\n",
       "      <th>...</th>\n",
       "      <td>...</td>\n",
       "      <td>...</td>\n",
       "      <td>...</td>\n",
       "      <td>...</td>\n",
       "    </tr>\n",
       "    <tr>\n",
       "      <th>2016</th>\n",
       "      <td>Northeast-25-68-2</td>\n",
       "      <td>19-24</td>\n",
       "      <td>1</td>\n",
       "      <td>NaN</td>\n",
       "    </tr>\n",
       "    <tr>\n",
       "      <th>2017</th>\n",
       "      <td>Southwest 2-23-279-1</td>\n",
       "      <td>19-24</td>\n",
       "      <td>2</td>\n",
       "      <td>NaN</td>\n",
       "    </tr>\n",
       "    <tr>\n",
       "      <th>2018</th>\n",
       "      <td>Southeast 1-24-85-1</td>\n",
       "      <td>19-24</td>\n",
       "      <td>1</td>\n",
       "      <td>NaN</td>\n",
       "    </tr>\n",
       "    <tr>\n",
       "      <th>2019</th>\n",
       "      <td>Northeast-25-64-1</td>\n",
       "      <td>13-17</td>\n",
       "      <td>1</td>\n",
       "      <td>NaN</td>\n",
       "    </tr>\n",
       "    <tr>\n",
       "      <th>2020</th>\n",
       "      <td>Mission-14-413-1</td>\n",
       "      <td>13-17</td>\n",
       "      <td>1</td>\n",
       "      <td>NaN</td>\n",
       "    </tr>\n",
       "  </tbody>\n",
       "</table>\n",
       "<p>2021 rows × 4 columns</p>\n",
       "</div>"
      ],
      "text/plain": [
       "                    gangid    age  sex       sum\n",
       "0             BVCB-0-144-1  19-24    2 -7.812063\n",
       "1             BVCB-0-174-1  19-24    1  2.120676\n",
       "2             BVCB-0-174-1  19-24    1  2.965543\n",
       "3             BVCB-0-174-1  19-24    1  2.120676\n",
       "4             BVCB-0-174-1  19-24    1  2.965543\n",
       "...                    ...    ...  ...       ...\n",
       "2016     Northeast-25-68-2  19-24    1       NaN\n",
       "2017  Southwest 2-23-279-1  19-24    2       NaN\n",
       "2018   Southeast 1-24-85-1  19-24    1       NaN\n",
       "2019     Northeast-25-64-1  13-17    1       NaN\n",
       "2020      Mission-14-413-1  13-17    1       NaN\n",
       "\n",
       "[2021 rows x 4 columns]"
      ]
     },
     "execution_count": 76,
     "metadata": {},
     "output_type": "execute_result"
    }
   ],
   "source": [
    "ag"
   ]
  },
  {
   "cell_type": "code",
   "execution_count": 107,
   "metadata": {},
   "outputs": [
    {
     "data": {
      "text/html": [
       "<div>\n",
       "<style scoped>\n",
       "    .dataframe tbody tr th:only-of-type {\n",
       "        vertical-align: middle;\n",
       "    }\n",
       "\n",
       "    .dataframe tbody tr th {\n",
       "        vertical-align: top;\n",
       "    }\n",
       "\n",
       "    .dataframe thead th {\n",
       "        text-align: right;\n",
       "    }\n",
       "</style>\n",
       "<table border=\"1\" class=\"dataframe\">\n",
       "  <thead>\n",
       "    <tr style=\"text-align: right;\">\n",
       "      <th></th>\n",
       "      <th>index</th>\n",
       "      <th>GRYD_ETO_ID</th>\n",
       "      <th>S6b_Other_Activities</th>\n",
       "      <th>S11a_Comments</th>\n",
       "      <th>A1_Description</th>\n",
       "      <th>A2_Description</th>\n",
       "      <th>A3_Description</th>\n",
       "      <th>O1_other_group_name</th>\n",
       "      <th>Group_name_part1</th>\n",
       "      <th>PUSH_1</th>\n",
       "      <th>PULL_1</th>\n",
       "      <th>text_all</th>\n",
       "      <th>sentiment</th>\n",
       "      <th>Emotion</th>\n",
       "    </tr>\n",
       "  </thead>\n",
       "  <tbody>\n",
       "    <tr>\n",
       "      <th>0</th>\n",
       "      <td>0</td>\n",
       "      <td>BVCB-0-144-1</td>\n",
       "      <td>Working out, CBT, boxing</td>\n",
       "      <td>School. Poor grades, car accident, not enough ...</td>\n",
       "      <td>School</td>\n",
       "      <td>NaN</td>\n",
       "      <td>School</td>\n",
       "      <td>Other group</td>\n",
       "      <td>Group</td>\n",
       "      <td>Somebody got out of jail that brought a lot of...</td>\n",
       "      <td>School. work. moving</td>\n",
       "      <td>BVCB-0-144-1,Working out, CBT, boxing,School. ...</td>\n",
       "      <td>fear</td>\n",
       "      <td>fear</td>\n",
       "    </tr>\n",
       "    <tr>\n",
       "      <th>1</th>\n",
       "      <td>1</td>\n",
       "      <td>BVCB-0-174-1</td>\n",
       "      <td>Basketball</td>\n",
       "      <td>Mother died</td>\n",
       "      <td>Basketball</td>\n",
       "      <td>NaN</td>\n",
       "      <td>NaN</td>\n",
       "      <td>No name</td>\n",
       "      <td>Money Gang</td>\n",
       "      <td>NaN</td>\n",
       "      <td>NaN</td>\n",
       "      <td>BVCB-0-174-1,Basketball,Mother died,Basketball...</td>\n",
       "      <td>sadness</td>\n",
       "      <td>sadness</td>\n",
       "    </tr>\n",
       "    <tr>\n",
       "      <th>2</th>\n",
       "      <td>2</td>\n",
       "      <td>Southeast 3-10-24-1</td>\n",
       "      <td>Extra activities with children</td>\n",
       "      <td>Favor cousin was murder and never found his ki...</td>\n",
       "      <td>Church, job and school</td>\n",
       "      <td>Church choir and praise team</td>\n",
       "      <td>NaN</td>\n",
       "      <td>Church group</td>\n",
       "      <td>No group</td>\n",
       "      <td>NaN</td>\n",
       "      <td>NaN</td>\n",
       "      <td>Southeast 3-10-24-1,Extra activities with chil...</td>\n",
       "      <td>fear</td>\n",
       "      <td>fear</td>\n",
       "    </tr>\n",
       "    <tr>\n",
       "      <th>3</th>\n",
       "      <td>3</td>\n",
       "      <td>Southeast 3-10-18-1</td>\n",
       "      <td>Actor/dance</td>\n",
       "      <td>Best friend brother was murder [sic] by 16 and...</td>\n",
       "      <td>Church, school and job</td>\n",
       "      <td>Church choir and praise team</td>\n",
       "      <td>NaN</td>\n",
       "      <td>No name</td>\n",
       "      <td>No name</td>\n",
       "      <td>NaN</td>\n",
       "      <td>NaN</td>\n",
       "      <td>Southeast 3-10-18-1,Actor/dance,Best friend br...</td>\n",
       "      <td>sadness</td>\n",
       "      <td>sadness</td>\n",
       "    </tr>\n",
       "    <tr>\n",
       "      <th>4</th>\n",
       "      <td>4</td>\n",
       "      <td>Southeast 3-10-17-1</td>\n",
       "      <td>Singing</td>\n",
       "      <td>Best fried brother was murder [sic] by 18yr boy</td>\n",
       "      <td>Church, job, and school</td>\n",
       "      <td>Church choir and praise team</td>\n",
       "      <td>NaN</td>\n",
       "      <td>No name</td>\n",
       "      <td>No name</td>\n",
       "      <td>NaN</td>\n",
       "      <td>NaN</td>\n",
       "      <td>Southeast 3-10-17-1,Singing,Best fried brother...</td>\n",
       "      <td>sadness</td>\n",
       "      <td>sadness</td>\n",
       "    </tr>\n",
       "    <tr>\n",
       "      <th>...</th>\n",
       "      <td>...</td>\n",
       "      <td>...</td>\n",
       "      <td>...</td>\n",
       "      <td>...</td>\n",
       "      <td>...</td>\n",
       "      <td>...</td>\n",
       "      <td>...</td>\n",
       "      <td>...</td>\n",
       "      <td>...</td>\n",
       "      <td>...</td>\n",
       "      <td>...</td>\n",
       "      <td>...</td>\n",
       "      <td>...</td>\n",
       "      <td>...</td>\n",
       "    </tr>\n",
       "    <tr>\n",
       "      <th>986</th>\n",
       "      <td>2749</td>\n",
       "      <td>Rampart 1-12-391-3</td>\n",
       "      <td>NaN</td>\n",
       "      <td>friends got shot</td>\n",
       "      <td>Friends</td>\n",
       "      <td>NaN</td>\n",
       "      <td>NaN</td>\n",
       "      <td>Friends</td>\n",
       "      <td>No group</td>\n",
       "      <td>NaN</td>\n",
       "      <td>NaN</td>\n",
       "      <td>Rampart 1-12-391-3,friends got shot,Friends,Fr...</td>\n",
       "      <td>sadness</td>\n",
       "      <td>sadness</td>\n",
       "    </tr>\n",
       "    <tr>\n",
       "      <th>987</th>\n",
       "      <td>2750</td>\n",
       "      <td>Southeast 1-24-72-1</td>\n",
       "      <td>Wroking out playing basktball</td>\n",
       "      <td>Injured</td>\n",
       "      <td>NaN</td>\n",
       "      <td>NaN</td>\n",
       "      <td>NaN</td>\n",
       "      <td>No other group</td>\n",
       "      <td>Main street</td>\n",
       "      <td>I bang before - I dont want to do it like my o...</td>\n",
       "      <td>the people around right now are putting down I...</td>\n",
       "      <td>Southeast 1-24-72-1,Wroking out playing basktb...</td>\n",
       "      <td>fear</td>\n",
       "      <td>fear</td>\n",
       "    </tr>\n",
       "    <tr>\n",
       "      <th>988</th>\n",
       "      <td>2751</td>\n",
       "      <td>Northeast-25-68-2</td>\n",
       "      <td>Spend time with family</td>\n",
       "      <td>Mom left home</td>\n",
       "      <td>NaN</td>\n",
       "      <td>NaN</td>\n",
       "      <td>NaN</td>\n",
       "      <td>No other group</td>\n",
       "      <td>Aves Plug</td>\n",
       "      <td>Not really</td>\n",
       "      <td>My son</td>\n",
       "      <td>Northeast-25-68-2,Spend time with family,Mom l...</td>\n",
       "      <td>sadness</td>\n",
       "      <td>sadness</td>\n",
       "    </tr>\n",
       "    <tr>\n",
       "      <th>989</th>\n",
       "      <td>2757</td>\n",
       "      <td>Hollenbeck 3-20-298-1</td>\n",
       "      <td>Drawing, makeup, video games</td>\n",
       "      <td>Moving back and forth</td>\n",
       "      <td>NaN</td>\n",
       "      <td>NaN</td>\n",
       "      <td>NaN</td>\n",
       "      <td>No other group</td>\n",
       "      <td>Group</td>\n",
       "      <td>No</td>\n",
       "      <td>Yes, work, school</td>\n",
       "      <td>Hollenbeck 3-20-298-1,Drawing, makeup, video g...</td>\n",
       "      <td>fear</td>\n",
       "      <td>fear</td>\n",
       "    </tr>\n",
       "    <tr>\n",
       "      <th>990</th>\n",
       "      <td>2764</td>\n",
       "      <td>Pacific-18-110-2</td>\n",
       "      <td>one on one</td>\n",
       "      <td>Police keep raiding my house</td>\n",
       "      <td>NaN</td>\n",
       "      <td>Community service</td>\n",
       "      <td>Helper</td>\n",
       "      <td>Helper</td>\n",
       "      <td>Homies</td>\n",
       "      <td>Going to jail</td>\n",
       "      <td>No</td>\n",
       "      <td>Pacific-18-110-2,one on one,Police keep raidin...</td>\n",
       "      <td>fear</td>\n",
       "      <td>fear</td>\n",
       "    </tr>\n",
       "  </tbody>\n",
       "</table>\n",
       "<p>991 rows × 14 columns</p>\n",
       "</div>"
      ],
      "text/plain": [
       "     index            GRYD_ETO_ID            S6b_Other_Activities  \\\n",
       "0        0           BVCB-0-144-1        Working out, CBT, boxing   \n",
       "1        1           BVCB-0-174-1                      Basketball   \n",
       "2        2    Southeast 3-10-24-1  Extra activities with children   \n",
       "3        3    Southeast 3-10-18-1                     Actor/dance   \n",
       "4        4    Southeast 3-10-17-1                         Singing   \n",
       "..     ...                    ...                             ...   \n",
       "986   2749     Rampart 1-12-391-3                             NaN   \n",
       "987   2750    Southeast 1-24-72-1   Wroking out playing basktball   \n",
       "988   2751      Northeast-25-68-2          Spend time with family   \n",
       "989   2757  Hollenbeck 3-20-298-1    Drawing, makeup, video games   \n",
       "990   2764       Pacific-18-110-2                      one on one   \n",
       "\n",
       "                                         S11a_Comments  \\\n",
       "0    School. Poor grades, car accident, not enough ...   \n",
       "1                                          Mother died   \n",
       "2    Favor cousin was murder and never found his ki...   \n",
       "3    Best friend brother was murder [sic] by 16 and...   \n",
       "4      Best fried brother was murder [sic] by 18yr boy   \n",
       "..                                                 ...   \n",
       "986                                   friends got shot   \n",
       "987                                            Injured   \n",
       "988                                      Mom left home   \n",
       "989                              Moving back and forth   \n",
       "990                       Police keep raiding my house   \n",
       "\n",
       "              A1_Description                A2_Description A3_Description  \\\n",
       "0                     School                           NaN         School   \n",
       "1                 Basketball                           NaN            NaN   \n",
       "2     Church, job and school  Church choir and praise team            NaN   \n",
       "3     Church, school and job  Church choir and praise team            NaN   \n",
       "4    Church, job, and school  Church choir and praise team            NaN   \n",
       "..                       ...                           ...            ...   \n",
       "986                  Friends                           NaN            NaN   \n",
       "987                      NaN                           NaN            NaN   \n",
       "988                      NaN                           NaN            NaN   \n",
       "989                      NaN                           NaN            NaN   \n",
       "990                      NaN             Community service         Helper   \n",
       "\n",
       "    O1_other_group_name Group_name_part1  \\\n",
       "0           Other group            Group   \n",
       "1               No name       Money Gang   \n",
       "2          Church group         No group   \n",
       "3               No name          No name   \n",
       "4               No name          No name   \n",
       "..                  ...              ...   \n",
       "986             Friends         No group   \n",
       "987      No other group      Main street   \n",
       "988      No other group        Aves Plug   \n",
       "989      No other group            Group   \n",
       "990              Helper           Homies   \n",
       "\n",
       "                                                PUSH_1  \\\n",
       "0    Somebody got out of jail that brought a lot of...   \n",
       "1                                                  NaN   \n",
       "2                                                  NaN   \n",
       "3                                                  NaN   \n",
       "4                                                  NaN   \n",
       "..                                                 ...   \n",
       "986                                                NaN   \n",
       "987  I bang before - I dont want to do it like my o...   \n",
       "988                                         Not really   \n",
       "989                                                 No   \n",
       "990                                      Going to jail   \n",
       "\n",
       "                                                PULL_1  \\\n",
       "0                                 School. work. moving   \n",
       "1                                                  NaN   \n",
       "2                                                  NaN   \n",
       "3                                                  NaN   \n",
       "4                                                  NaN   \n",
       "..                                                 ...   \n",
       "986                                                NaN   \n",
       "987  the people around right now are putting down I...   \n",
       "988                                             My son   \n",
       "989                                  Yes, work, school   \n",
       "990                                                 No   \n",
       "\n",
       "                                              text_all sentiment  Emotion  \n",
       "0    BVCB-0-144-1,Working out, CBT, boxing,School. ...      fear     fear  \n",
       "1    BVCB-0-174-1,Basketball,Mother died,Basketball...   sadness  sadness  \n",
       "2    Southeast 3-10-24-1,Extra activities with chil...      fear     fear  \n",
       "3    Southeast 3-10-18-1,Actor/dance,Best friend br...   sadness  sadness  \n",
       "4    Southeast 3-10-17-1,Singing,Best fried brother...   sadness  sadness  \n",
       "..                                                 ...       ...      ...  \n",
       "986  Rampart 1-12-391-3,friends got shot,Friends,Fr...   sadness  sadness  \n",
       "987  Southeast 1-24-72-1,Wroking out playing basktb...      fear     fear  \n",
       "988  Northeast-25-68-2,Spend time with family,Mom l...   sadness  sadness  \n",
       "989  Hollenbeck 3-20-298-1,Drawing, makeup, video g...      fear     fear  \n",
       "990  Pacific-18-110-2,one on one,Police keep raidin...      fear     fear  \n",
       "\n",
       "[991 rows x 14 columns]"
      ]
     },
     "execution_count": 107,
     "metadata": {},
     "output_type": "execute_result"
    }
   ],
   "source": [
    "text"
   ]
  },
  {
   "cell_type": "code",
   "execution_count": 109,
   "metadata": {},
   "outputs": [],
   "source": [
    "emotion=text.loc[:,['GRYD_ETO_ID','sentiment']]"
   ]
  },
  {
   "cell_type": "markdown",
   "metadata": {},
   "source": []
  },
  {
   "cell_type": "code",
   "execution_count": 110,
   "metadata": {},
   "outputs": [
    {
     "data": {
      "text/html": [
       "<div>\n",
       "<style scoped>\n",
       "    .dataframe tbody tr th:only-of-type {\n",
       "        vertical-align: middle;\n",
       "    }\n",
       "\n",
       "    .dataframe tbody tr th {\n",
       "        vertical-align: top;\n",
       "    }\n",
       "\n",
       "    .dataframe thead th {\n",
       "        text-align: right;\n",
       "    }\n",
       "</style>\n",
       "<table border=\"1\" class=\"dataframe\">\n",
       "  <thead>\n",
       "    <tr style=\"text-align: right;\">\n",
       "      <th></th>\n",
       "      <th>GRYD_ETO_ID</th>\n",
       "      <th>sentiment</th>\n",
       "    </tr>\n",
       "  </thead>\n",
       "  <tbody>\n",
       "    <tr>\n",
       "      <th>0</th>\n",
       "      <td>BVCB-0-144-1</td>\n",
       "      <td>fear</td>\n",
       "    </tr>\n",
       "    <tr>\n",
       "      <th>1</th>\n",
       "      <td>BVCB-0-174-1</td>\n",
       "      <td>sadness</td>\n",
       "    </tr>\n",
       "    <tr>\n",
       "      <th>2</th>\n",
       "      <td>Southeast 3-10-24-1</td>\n",
       "      <td>fear</td>\n",
       "    </tr>\n",
       "    <tr>\n",
       "      <th>3</th>\n",
       "      <td>Southeast 3-10-18-1</td>\n",
       "      <td>sadness</td>\n",
       "    </tr>\n",
       "    <tr>\n",
       "      <th>4</th>\n",
       "      <td>Southeast 3-10-17-1</td>\n",
       "      <td>sadness</td>\n",
       "    </tr>\n",
       "    <tr>\n",
       "      <th>...</th>\n",
       "      <td>...</td>\n",
       "      <td>...</td>\n",
       "    </tr>\n",
       "    <tr>\n",
       "      <th>986</th>\n",
       "      <td>Rampart 1-12-391-3</td>\n",
       "      <td>sadness</td>\n",
       "    </tr>\n",
       "    <tr>\n",
       "      <th>987</th>\n",
       "      <td>Southeast 1-24-72-1</td>\n",
       "      <td>fear</td>\n",
       "    </tr>\n",
       "    <tr>\n",
       "      <th>988</th>\n",
       "      <td>Northeast-25-68-2</td>\n",
       "      <td>sadness</td>\n",
       "    </tr>\n",
       "    <tr>\n",
       "      <th>989</th>\n",
       "      <td>Hollenbeck 3-20-298-1</td>\n",
       "      <td>fear</td>\n",
       "    </tr>\n",
       "    <tr>\n",
       "      <th>990</th>\n",
       "      <td>Pacific-18-110-2</td>\n",
       "      <td>fear</td>\n",
       "    </tr>\n",
       "  </tbody>\n",
       "</table>\n",
       "<p>991 rows × 2 columns</p>\n",
       "</div>"
      ],
      "text/plain": [
       "               GRYD_ETO_ID sentiment\n",
       "0             BVCB-0-144-1      fear\n",
       "1             BVCB-0-174-1   sadness\n",
       "2      Southeast 3-10-24-1      fear\n",
       "3      Southeast 3-10-18-1   sadness\n",
       "4      Southeast 3-10-17-1   sadness\n",
       "..                     ...       ...\n",
       "986     Rampart 1-12-391-3   sadness\n",
       "987    Southeast 1-24-72-1      fear\n",
       "988      Northeast-25-68-2   sadness\n",
       "989  Hollenbeck 3-20-298-1      fear\n",
       "990       Pacific-18-110-2      fear\n",
       "\n",
       "[991 rows x 2 columns]"
      ]
     },
     "execution_count": 110,
     "metadata": {},
     "output_type": "execute_result"
    }
   ],
   "source": [
    "emotion"
   ]
  },
  {
   "cell_type": "code",
   "execution_count": 111,
   "metadata": {},
   "outputs": [],
   "source": [
    "emotion.to_csv('emotion.csv')"
   ]
  },
  {
   "cell_type": "code",
   "execution_count": 78,
   "metadata": {},
   "outputs": [],
   "source": [
    "new=pd.read_csv('prob_stra_intake_retest.csv')"
   ]
  },
  {
   "cell_type": "code",
   "execution_count": 79,
   "metadata": {},
   "outputs": [],
   "source": [
    "intake = full[full['admin']==1]\n",
    "retest = full[full['admin']==2]"
   ]
  },
  {
   "cell_type": "code",
   "execution_count": 80,
   "metadata": {},
   "outputs": [
    {
     "data": {
      "text/plain": [
       "Southwest 1-15-269-1     24\n",
       "Southwest 1-15-290-1     24\n",
       "Southwest 1-15-298-1     24\n",
       "Southwest 1-15-338-2     12\n",
       "BVCB-0-129-2             12\n",
       "                         ..\n",
       "FGSEARE-0-52-1            1\n",
       "Hollywood-12-78-2         1\n",
       "Rampart 2-12-224-2        1\n",
       "Southeast 2-20-140-1      1\n",
       "Hollenbeck 3-20-267-1     1\n",
       "Name: ID, Length: 447, dtype: int64"
      ]
     },
     "execution_count": 80,
     "metadata": {},
     "output_type": "execute_result"
    }
   ],
   "source": [
    "intake['ID'].value_counts()"
   ]
  },
  {
   "cell_type": "code",
   "execution_count": 81,
   "metadata": {},
   "outputs": [
    {
     "data": {
      "text/plain": [
       "207"
      ]
     },
     "execution_count": 81,
     "metadata": {},
     "output_type": "execute_result"
    }
   ],
   "source": [
    "retest = retest.drop_duplicates(subset = [\"ID\"])\n",
    "len(retest)"
   ]
  },
  {
   "cell_type": "code",
   "execution_count": 82,
   "metadata": {},
   "outputs": [
    {
     "data": {
      "text/plain": [
       "447"
      ]
     },
     "execution_count": 82,
     "metadata": {},
     "output_type": "execute_result"
    }
   ],
   "source": [
    "intake = intake.drop_duplicates(subset = [\"ID\"])\n",
    "len(intake)"
   ]
  },
  {
   "cell_type": "code",
   "execution_count": 83,
   "metadata": {},
   "outputs": [
    {
     "data": {
      "text/plain": [
       "175"
      ]
     },
     "execution_count": 83,
     "metadata": {},
     "output_type": "execute_result"
    }
   ],
   "source": [
    "ids = retest['ID'].tolist()\n",
    "unique_ids = []\n",
    "for x in ids:\n",
    "    if x not in unique_ids:\n",
    "        unique_ids.append(x)\n",
    "intake = intake[intake['ID'].isin(unique_ids)]\n",
    "len(intake)"
   ]
  },
  {
   "cell_type": "code",
   "execution_count": 84,
   "metadata": {},
   "outputs": [
    {
     "data": {
      "text/plain": [
       "175"
      ]
     },
     "execution_count": 84,
     "metadata": {},
     "output_type": "execute_result"
    }
   ],
   "source": [
    "ids = intake['ID'].tolist()\n",
    "unique_ids = []\n",
    "for x in ids:\n",
    "    if x not in unique_ids:\n",
    "        unique_ids.append(x)\n",
    "len(unique_ids)\n",
    "retest = retest[retest['ID'].isin(unique_ids)]\n",
    "len(retest)"
   ]
  },
  {
   "cell_type": "code",
   "execution_count": 85,
   "metadata": {},
   "outputs": [],
   "source": [
    "new = intake.append(retest)"
   ]
  },
  {
   "cell_type": "code",
   "execution_count": 86,
   "metadata": {},
   "outputs": [
    {
     "data": {
      "text/plain": [
       "(array([ 0,  1,  2,  3,  4,  5,  6,  7,  8,  9, 10]),\n",
       " <a list of 11 Text xticklabel objects>)"
      ]
     },
     "execution_count": 86,
     "metadata": {},
     "output_type": "execute_result"
    },
    {
     "data": {
      "image/png": "[encoded data removed]",
      "text/plain": [
       "<Figure size 432x288 with 1 Axes>"
      ]
     },
     "metadata": {
      "needs_background": "light"
     },
     "output_type": "display_data"
    }
   ],
   "source": [
    "sns.boxplot(y='risk', x='categorized_activity', data=new, palette=\"colorblind\",hue='admin')\n",
    "plt.xticks(rotation=90)\n"
   ]
  },
  {
   "cell_type": "code",
   "execution_count": null,
   "metadata": {},
   "outputs": [],
   "source": []
  }
 ],
 "metadata": {
  "kernelspec": {
   "display_name": "Python 3",
   "language": "python",
   "name": "python3"
  },
  "language_info": {
   "codemirror_mode": {
    "name": "ipython",
    "version": 3
   },
   "file_extension": ".py",
   "mimetype": "text/x-python",
   "name": "python",
   "nbconvert_exporter": "python",
   "pygments_lexer": "ipython3",
   "version": "3.7.6"
  }
 },
 "nbformat": 4,
 "nbformat_minor": 2
}

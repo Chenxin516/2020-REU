{
 "cells": [
  {
   "cell_type": "code",
   "execution_count": 50,
   "metadata": {},
   "outputs": [],
   "source": [
    "import numpy as np\n",
    "import pandas as pd\n",
    "from scipy import stats"
   ]
  },
  {
   "cell_type": "code",
   "execution_count": 89,
   "metadata": {
    "scrolled": true
   },
   "outputs": [],
   "source": [
    "df = pd.read_csv('problem,strategy.csv')\n",
    "#df.rename(columns={'risk':'Gang_Embeddedness'}, inplace=True)\n",
    "#df.head()"
   ]
  },
  {
   "cell_type": "code",
   "execution_count": 117,
   "metadata": {},
   "outputs": [],
   "source": [
    "df = df[df['risk'].notna()]"
   ]
  },
  {
   "cell_type": "code",
   "execution_count": 118,
   "metadata": {},
   "outputs": [
    {
     "data": {
      "text/plain": [
       "450"
      ]
     },
     "execution_count": 118,
     "metadata": {},
     "output_type": "execute_result"
    }
   ],
   "source": [
    "len(df)"
   ]
  },
  {
   "cell_type": "code",
   "execution_count": 119,
   "metadata": {},
   "outputs": [],
   "source": [
    "intake = df[df['admin']==1]\n",
    "retest = df[df['admin']==2]"
   ]
  },
  {
   "cell_type": "code",
   "execution_count": 120,
   "metadata": {},
   "outputs": [
    {
     "data": {
      "text/plain": [
       "Hollenbeck 2-20-45-2    3\n",
       "Southwest 1-15-298-1    3\n",
       "Southwest 1-15-290-1    3\n",
       "Southwest 1-15-349-2    2\n",
       "Southwest 1-15-289-1    2\n",
       "                       ..\n",
       "Northeast-20-162-3      1\n",
       "Newton 2-23-245-1       1\n",
       "Newton 1-17-226-1       1\n",
       "Northeast-20-292-1      1\n",
       "Southwest 2-23-90-2     1\n",
       "Name: ID, Length: 166, dtype: int64"
      ]
     },
     "execution_count": 120,
     "metadata": {},
     "output_type": "execute_result"
    }
   ],
   "source": [
    "intake['ID'].value_counts()"
   ]
  },
  {
   "cell_type": "code",
   "execution_count": 121,
   "metadata": {
    "scrolled": true
   },
   "outputs": [
    {
     "data": {
      "text/plain": [
       "225"
      ]
     },
     "execution_count": 121,
     "metadata": {},
     "output_type": "execute_result"
    }
   ],
   "source": [
    "len(intake)"
   ]
  },
  {
   "cell_type": "code",
   "execution_count": 122,
   "metadata": {},
   "outputs": [
    {
     "data": {
      "text/plain": [
       "166"
      ]
     },
     "execution_count": 122,
     "metadata": {},
     "output_type": "execute_result"
    }
   ],
   "source": [
    "retest = retest.drop_duplicates(subset = [\"ID\"])\n",
    "len(retest)"
   ]
  },
  {
   "cell_type": "code",
   "execution_count": 123,
   "metadata": {},
   "outputs": [
    {
     "data": {
      "text/plain": [
       "166"
      ]
     },
     "execution_count": 123,
     "metadata": {},
     "output_type": "execute_result"
    }
   ],
   "source": [
    "intake = intake.drop_duplicates(subset = [\"ID\"])\n",
    "len(intake)"
   ]
  },
  {
   "cell_type": "code",
   "execution_count": 124,
   "metadata": {},
   "outputs": [
    {
     "data": {
      "text/plain": [
       "166"
      ]
     },
     "execution_count": 124,
     "metadata": {},
     "output_type": "execute_result"
    }
   ],
   "source": [
    "ids = retest['ID'].tolist()\n",
    "unique_ids = []\n",
    "for x in ids:\n",
    "    if x not in unique_ids:\n",
    "        unique_ids.append(x)\n",
    "len(unique_ids)"
   ]
  },
  {
   "cell_type": "code",
   "execution_count": 125,
   "metadata": {},
   "outputs": [
    {
     "data": {
      "text/plain": [
       "166"
      ]
     },
     "execution_count": 125,
     "metadata": {},
     "output_type": "execute_result"
    }
   ],
   "source": [
    "intake = intake[intake['ID'].isin(unique_ids)]\n",
    "len(intake)"
   ]
  },
  {
   "cell_type": "code",
   "execution_count": 126,
   "metadata": {},
   "outputs": [
    {
     "data": {
      "text/plain": [
       "166"
      ]
     },
     "execution_count": 126,
     "metadata": {},
     "output_type": "execute_result"
    }
   ],
   "source": [
    "ids = intake['ID'].tolist()\n",
    "unique_ids = []\n",
    "for x in ids:\n",
    "    if x not in unique_ids:\n",
    "        unique_ids.append(x)\n",
    "len(unique_ids)"
   ]
  },
  {
   "cell_type": "code",
   "execution_count": 127,
   "metadata": {
    "scrolled": true
   },
   "outputs": [
    {
     "data": {
      "text/plain": [
       "166"
      ]
     },
     "execution_count": 127,
     "metadata": {},
     "output_type": "execute_result"
    }
   ],
   "source": [
    "retest = retest[retest['ID'].isin(unique_ids)]\n",
    "len(retest)"
   ]
  },
  {
   "cell_type": "code",
   "execution_count": 128,
   "metadata": {},
   "outputs": [],
   "source": [
    "full = intake.append(retest)"
   ]
  },
  {
   "cell_type": "code",
   "execution_count": 129,
   "metadata": {
    "scrolled": true
   },
   "outputs": [
    {
     "data": {
      "text/plain": [
       "332"
      ]
     },
     "execution_count": 129,
     "metadata": {},
     "output_type": "execute_result"
    }
   ],
   "source": [
    "len(full)"
   ]
  },
  {
   "cell_type": "code",
   "execution_count": 130,
   "metadata": {
    "scrolled": true
   },
   "outputs": [],
   "source": [
    "drop1 = intake[intake['risk'].isna()]['ID'].tolist()\n",
    "drop2 = retest[retest['risk'].isna()]['ID'].tolist()\n",
    "for x in drop2:\n",
    "    drop1.append(x)"
   ]
  },
  {
   "cell_type": "code",
   "execution_count": 131,
   "metadata": {},
   "outputs": [
    {
     "data": {
      "text/plain": [
       "0"
      ]
     },
     "execution_count": 131,
     "metadata": {},
     "output_type": "execute_result"
    }
   ],
   "source": [
    "len(drop2)"
   ]
  },
  {
   "cell_type": "code",
   "execution_count": 132,
   "metadata": {},
   "outputs": [],
   "source": [
    "intake = intake[~intake['ID'].isin(drop1)]\n",
    "retest = retest[~retest['ID'].isin(drop1)]"
   ]
  },
  {
   "cell_type": "code",
   "execution_count": 133,
   "metadata": {},
   "outputs": [
    {
     "data": {
      "text/plain": [
       "166"
      ]
     },
     "execution_count": 133,
     "metadata": {},
     "output_type": "execute_result"
    }
   ],
   "source": [
    "len(retest)"
   ]
  },
  {
   "cell_type": "code",
   "execution_count": 134,
   "metadata": {},
   "outputs": [
    {
     "data": {
      "text/plain": [
       "166"
      ]
     },
     "execution_count": 134,
     "metadata": {},
     "output_type": "execute_result"
    }
   ],
   "source": [
    "len(intake)"
   ]
  },
  {
   "cell_type": "code",
   "execution_count": 135,
   "metadata": {},
   "outputs": [],
   "source": [
    "full = intake.append(retest)"
   ]
  },
  {
   "cell_type": "code",
   "execution_count": 136,
   "metadata": {},
   "outputs": [
    {
     "data": {
      "text/plain": [
       "332"
      ]
     },
     "execution_count": 136,
     "metadata": {},
     "output_type": "execute_result"
    }
   ],
   "source": [
    "len(full)"
   ]
  },
  {
   "cell_type": "code",
   "execution_count": 26,
   "metadata": {},
   "outputs": [
    {
     "data": {
      "text/plain": [
       "Ttest_relResult(statistic=8.095185971109368, pvalue=1.3048817586780185e-14)"
      ]
     },
     "execution_count": 26,
     "metadata": {},
     "output_type": "execute_result"
    }
   ],
   "source": [
    "stats.ttest_rel(intake['risk'], retest['risk'])"
   ]
  },
  {
   "cell_type": "code",
   "execution_count": 27,
   "metadata": {},
   "outputs": [
    {
     "data": {
      "text/plain": [
       "0.356256029246795"
      ]
     },
     "execution_count": 27,
     "metadata": {},
     "output_type": "execute_result"
    }
   ],
   "source": [
    "intake['risk'].mean()"
   ]
  },
  {
   "cell_type": "code",
   "execution_count": 28,
   "metadata": {},
   "outputs": [
    {
     "data": {
      "text/plain": [
       "-0.9984485071153849"
      ]
     },
     "execution_count": 28,
     "metadata": {},
     "output_type": "execute_result"
    }
   ],
   "source": [
    "retest['risk'].mean()"
   ]
  },
  {
   "cell_type": "code",
   "execution_count": 29,
   "metadata": {
    "scrolled": true
   },
   "outputs": [
    {
     "data": {
      "text/plain": [
       "Mentorship for school/job readiness                  210\n",
       "Substance abuse/Anger management/Life skill class     51\n",
       "Engage in community service                           20\n",
       "40 Developmental Assets program                       20\n",
       "Counseling service                                    11\n",
       "Name: Strategy_Label, dtype: int64"
      ]
     },
     "execution_count": 29,
     "metadata": {},
     "output_type": "execute_result"
    }
   ],
   "source": [
    "intake.Strategy_Label.value_counts()"
   ]
  },
  {
   "cell_type": "code",
   "execution_count": 30,
   "metadata": {},
   "outputs": [
    {
     "data": {
      "text/plain": [
       "312"
      ]
     },
     "execution_count": 30,
     "metadata": {},
     "output_type": "execute_result"
    }
   ],
   "source": [
    "len(retest)"
   ]
  },
  {
   "cell_type": "code",
   "execution_count": 31,
   "metadata": {
    "scrolled": false
   },
   "outputs": [
    {
     "data": {
      "text/plain": [
       "Ttest_relResult(statistic=5.564114990493025, pvalue=8.016388539193043e-08)"
      ]
     },
     "execution_count": 31,
     "metadata": {},
     "output_type": "execute_result"
    }
   ],
   "source": [
    "stats.ttest_rel(intake[intake['Strategy_Label']=='Mentorship for school/job readiness']['risk'], \n",
    "                retest[retest['Strategy_Label']=='Mentorship for school/job readiness']['risk'])"
   ]
  },
  {
   "cell_type": "code",
   "execution_count": 32,
   "metadata": {},
   "outputs": [],
   "source": [
    "import matplotlib.pyplot as plt\n",
    "import seaborn as sns\n",
    "%matplotlib inline"
   ]
  },
  {
   "cell_type": "code",
   "execution_count": 33,
   "metadata": {},
   "outputs": [],
   "source": [
    "full['admin'] = full['admin'].map({1: 'intake', 2: 'retest'})"
   ]
  },
  {
   "cell_type": "code",
   "execution_count": 34,
   "metadata": {},
   "outputs": [],
   "source": [
    "full.to_csv('prob_stra_intake_retest.csv', index=False)"
   ]
  },
  {
   "cell_type": "code",
   "execution_count": 35,
   "metadata": {
    "scrolled": true
   },
   "outputs": [
    {
     "data": {
      "text/plain": [
       "(array([0, 1, 2, 3, 4, 5]), <a list of 6 Text xticklabel objects>)"
      ]
     },
     "execution_count": 35,
     "metadata": {},
     "output_type": "execute_result"
    },
    {
     "data": {
      "image/png": "[encoded data removed]",
      "text/plain": [
       "<Figure size 432x288 with 1 Axes>"
      ]
     },
     "metadata": {
      "needs_background": "light"
     },
     "output_type": "display_data"
    }
   ],
   "source": [
    "\n",
    "\n",
    "sns.boxplot(y='risk', x='Problem_Label', data=full, palette=\"colorblind\",hue='admin')\n",
    "plt.xticks(rotation=90)"
   ]
  },
  {
   "cell_type": "code",
   "execution_count": 36,
   "metadata": {},
   "outputs": [
    {
     "data": {
      "text/plain": [
       "Emotional/behavior issues                                              211\n",
       "Need assistance with school enrollment/improving school grades          33\n",
       "Need to complete community service hours for probation requirements     24\n",
       "Need assistance with employment search                                  23\n",
       "Need mentoring from CM/CIW to navagate interpersonal relationships      14\n",
       "Need work ready documents/California id                                  7\n",
       "Name: Problem_Label, dtype: int64"
      ]
     },
     "execution_count": 36,
     "metadata": {},
     "output_type": "execute_result"
    }
   ],
   "source": [
    "intake.Problem_Label.value_counts()"
   ]
  },
  {
   "cell_type": "code",
   "execution_count": 37,
   "metadata": {},
   "outputs": [
    {
     "data": {
      "text/plain": [
       "Ttest_relResult(statistic=1.3583751628803267, pvalue=0.1974508193818163)"
      ]
     },
     "execution_count": 37,
     "metadata": {},
     "output_type": "execute_result"
    }
   ],
   "source": [
    "stats.ttest_rel(intake[intake['Problem_Label']=='Need mentoring from CM/CIW to navagate interpersonal relationships']['risk'], \n",
    "                retest[retest['Problem_Label']=='Need mentoring from CM/CIW to navagate interpersonal relationships']['risk'])"
   ]
  },
  {
   "cell_type": "code",
   "execution_count": 38,
   "metadata": {},
   "outputs": [],
   "source": [
    "#full['gang'] = full['gang'].fillna(0)\n",
    "#full['family'] = full['family'].fillna(0)"
   ]
  },
  {
   "cell_type": "code",
   "execution_count": 39,
   "metadata": {},
   "outputs": [
    {
     "data": {
      "text/plain": [
       "nan"
      ]
     },
     "execution_count": 39,
     "metadata": {},
     "output_type": "execute_result"
    }
   ],
   "source": [
    "intake[intake['Strategy_Label']=='get mentored for school/work']['risk'].mean()"
   ]
  },
  {
   "cell_type": "code",
   "execution_count": 39,
   "metadata": {},
   "outputs": [
    {
     "data": {
      "text/plain": [
       "nan"
      ]
     },
     "execution_count": 39,
     "metadata": {},
     "output_type": "execute_result"
    }
   ],
   "source": [
    "retest[retest['Strategy_Label']=='get mentored for school/work']['risk'].mean()"
   ]
  },
  {
   "cell_type": "code",
   "execution_count": 40,
   "metadata": {},
   "outputs": [
    {
     "data": {
      "text/plain": [
       "Ttest_relResult(statistic=5.1200242445039965, pvalue=4.904511146458538e-06)"
      ]
     },
     "execution_count": 40,
     "metadata": {},
     "output_type": "execute_result"
    }
   ],
   "source": [
    "stats.ttest_rel(intake[intake['Strategy_Label']=='Substance abuse/Anger management/Life skill class']['risk'], \n",
    "                retest[retest['Strategy_Label']=='Substance abuse/Anger management/Life skill class']['risk'])"
   ]
  },
  {
   "cell_type": "code",
   "execution_count": 41,
   "metadata": {},
   "outputs": [
    {
     "data": {
      "text/plain": [
       "nan"
      ]
     },
     "execution_count": 41,
     "metadata": {},
     "output_type": "execute_result"
    }
   ],
   "source": [
    "intake[intake['Strategy_Label']=='substance abuse/anger management/life skill']['risk'].mean()"
   ]
  },
  {
   "cell_type": "code",
   "execution_count": 42,
   "metadata": {},
   "outputs": [
    {
     "data": {
      "text/plain": [
       "nan"
      ]
     },
     "execution_count": 42,
     "metadata": {},
     "output_type": "execute_result"
    }
   ],
   "source": [
    "retest[retest['Strategy_Label']=='substance abuse/anger management/life skill']['risk'].mean()"
   ]
  },
  {
   "cell_type": "code",
   "execution_count": 43,
   "metadata": {},
   "outputs": [
    {
     "data": {
      "text/plain": [
       "(nan, nan)"
      ]
     },
     "execution_count": 43,
     "metadata": {},
     "output_type": "execute_result"
    }
   ],
   "source": [
    "stats.ttest_rel(intake[intake['Strategy_Label']=='developmental asset']['risk'], \n",
    "                retest[retest['Strategy_Label']=='developmental asset']['risk'])"
   ]
  },
  {
   "cell_type": "code",
   "execution_count": 44,
   "metadata": {},
   "outputs": [
    {
     "data": {
      "text/plain": [
       "nan"
      ]
     },
     "execution_count": 44,
     "metadata": {},
     "output_type": "execute_result"
    }
   ],
   "source": [
    "intake[intake['Strategy_Label']=='developmental asset']['risk'].mean()"
   ]
  },
  {
   "cell_type": "code",
   "execution_count": 45,
   "metadata": {},
   "outputs": [
    {
     "data": {
      "text/plain": [
       "nan"
      ]
     },
     "execution_count": 45,
     "metadata": {},
     "output_type": "execute_result"
    }
   ],
   "source": [
    "retest[retest['Strategy_Label']=='developmental asset']['risk'].mean()"
   ]
  },
  {
   "cell_type": "code",
   "execution_count": 46,
   "metadata": {},
   "outputs": [
    {
     "data": {
      "text/plain": [
       "(nan, nan)"
      ]
     },
     "execution_count": 46,
     "metadata": {},
     "output_type": "execute_result"
    }
   ],
   "source": [
    "stats.ttest_rel(intake[intake['Strategy_Label']=='job readiness']['risk'], \n",
    "                retest[retest['Strategy_Label']=='job readiness']['risk'])  "
   ]
  },
  {
   "cell_type": "code",
   "execution_count": 47,
   "metadata": {},
   "outputs": [
    {
     "data": {
      "text/plain": [
       "nan"
      ]
     },
     "execution_count": 47,
     "metadata": {},
     "output_type": "execute_result"
    }
   ],
   "source": [
    "intake[intake['Strategy_Label']=='job readiness']['risk'].mean()"
   ]
  },
  {
   "cell_type": "code",
   "execution_count": 48,
   "metadata": {},
   "outputs": [
    {
     "data": {
      "text/plain": [
       "nan"
      ]
     },
     "execution_count": 48,
     "metadata": {},
     "output_type": "execute_result"
    }
   ],
   "source": [
    "retest[retest['Strategy_Label']=='job readiness']['risk'].mean()"
   ]
  },
  {
   "cell_type": "code",
   "execution_count": 49,
   "metadata": {},
   "outputs": [
    {
     "data": {
      "text/plain": [
       "Ttest_relResult(statistic=2.8674917334564425, pvalue=0.00985737402657642)"
      ]
     },
     "execution_count": 49,
     "metadata": {},
     "output_type": "execute_result"
    }
   ],
   "source": [
    "stats.ttest_rel(intake[intake['Strategy_Label']=='Engage in community service']['risk'], \n",
    "                retest[retest['Strategy_Label']=='Engage in community service']['risk'])"
   ]
  },
  {
   "cell_type": "code",
   "execution_count": 50,
   "metadata": {},
   "outputs": [
    {
     "data": {
      "text/plain": [
       "nan"
      ]
     },
     "execution_count": 50,
     "metadata": {},
     "output_type": "execute_result"
    }
   ],
   "source": [
    "intake[intake['Strategy_Label']=='couseling service (employment etc)']['risk'].mean()"
   ]
  },
  {
   "cell_type": "code",
   "execution_count": 51,
   "metadata": {},
   "outputs": [
    {
     "data": {
      "text/plain": [
       "nan"
      ]
     },
     "execution_count": 51,
     "metadata": {},
     "output_type": "execute_result"
    }
   ],
   "source": [
    "retest[retest['Strategy_Label']=='couseling service (employment etc)']['risk'].mean()"
   ]
  },
  {
   "cell_type": "code",
   "execution_count": 110,
   "metadata": {},
   "outputs": [],
   "source": [
    "emo=pd.read_csv('emotion.csv')\n",
    "emo=emo.drop(columns={'Unnamed: 0'})\n",
    "emo=emo.rename(columns={'GRYD_ETO_ID':'ID'})"
   ]
  },
  {
   "cell_type": "code",
   "execution_count": 111,
   "metadata": {},
   "outputs": [
    {
     "data": {
      "text/html": [
       "<div>\n",
       "<style scoped>\n",
       "    .dataframe tbody tr th:only-of-type {\n",
       "        vertical-align: middle;\n",
       "    }\n",
       "\n",
       "    .dataframe tbody tr th {\n",
       "        vertical-align: top;\n",
       "    }\n",
       "\n",
       "    .dataframe thead th {\n",
       "        text-align: right;\n",
       "    }\n",
       "</style>\n",
       "<table border=\"1\" class=\"dataframe\">\n",
       "  <thead>\n",
       "    <tr style=\"text-align: right;\">\n",
       "      <th></th>\n",
       "      <th>ID</th>\n",
       "      <th>sentiment</th>\n",
       "    </tr>\n",
       "  </thead>\n",
       "  <tbody>\n",
       "    <tr>\n",
       "      <th>0</th>\n",
       "      <td>BVCB-0-144-1</td>\n",
       "      <td>fear</td>\n",
       "    </tr>\n",
       "    <tr>\n",
       "      <th>1</th>\n",
       "      <td>BVCB-0-174-1</td>\n",
       "      <td>sadness</td>\n",
       "    </tr>\n",
       "    <tr>\n",
       "      <th>2</th>\n",
       "      <td>Southeast 3-10-24-1</td>\n",
       "      <td>fear</td>\n",
       "    </tr>\n",
       "    <tr>\n",
       "      <th>3</th>\n",
       "      <td>Southeast 3-10-18-1</td>\n",
       "      <td>sadness</td>\n",
       "    </tr>\n",
       "    <tr>\n",
       "      <th>4</th>\n",
       "      <td>Southeast 3-10-17-1</td>\n",
       "      <td>sadness</td>\n",
       "    </tr>\n",
       "    <tr>\n",
       "      <th>...</th>\n",
       "      <td>...</td>\n",
       "      <td>...</td>\n",
       "    </tr>\n",
       "    <tr>\n",
       "      <th>986</th>\n",
       "      <td>Rampart 1-12-391-3</td>\n",
       "      <td>sadness</td>\n",
       "    </tr>\n",
       "    <tr>\n",
       "      <th>987</th>\n",
       "      <td>Southeast 1-24-72-1</td>\n",
       "      <td>fear</td>\n",
       "    </tr>\n",
       "    <tr>\n",
       "      <th>988</th>\n",
       "      <td>Northeast-25-68-2</td>\n",
       "      <td>sadness</td>\n",
       "    </tr>\n",
       "    <tr>\n",
       "      <th>989</th>\n",
       "      <td>Hollenbeck 3-20-298-1</td>\n",
       "      <td>fear</td>\n",
       "    </tr>\n",
       "    <tr>\n",
       "      <th>990</th>\n",
       "      <td>Pacific-18-110-2</td>\n",
       "      <td>fear</td>\n",
       "    </tr>\n",
       "  </tbody>\n",
       "</table>\n",
       "<p>991 rows × 2 columns</p>\n",
       "</div>"
      ],
      "text/plain": [
       "                        ID sentiment\n",
       "0             BVCB-0-144-1      fear\n",
       "1             BVCB-0-174-1   sadness\n",
       "2      Southeast 3-10-24-1      fear\n",
       "3      Southeast 3-10-18-1   sadness\n",
       "4      Southeast 3-10-17-1   sadness\n",
       "..                     ...       ...\n",
       "986     Rampart 1-12-391-3   sadness\n",
       "987    Southeast 1-24-72-1      fear\n",
       "988      Northeast-25-68-2   sadness\n",
       "989  Hollenbeck 3-20-298-1      fear\n",
       "990       Pacific-18-110-2      fear\n",
       "\n",
       "[991 rows x 2 columns]"
      ]
     },
     "execution_count": 111,
     "metadata": {},
     "output_type": "execute_result"
    }
   ],
   "source": [
    "emo"
   ]
  },
  {
   "cell_type": "code",
   "execution_count": 112,
   "metadata": {},
   "outputs": [],
   "source": [
    "df = pd.merge(left=emo.drop_duplicates(), right=full.drop_duplicates(), on='ID', how='inner')"
   ]
  },
  {
   "cell_type": "code",
   "execution_count": 113,
   "metadata": {},
   "outputs": [],
   "source": [
    "df=df[df['sentiment'].notna()]"
   ]
  },
  {
   "cell_type": "code",
   "execution_count": 114,
   "metadata": {},
   "outputs": [
    {
     "data": {
      "text/html": [
       "<div>\n",
       "<style scoped>\n",
       "    .dataframe tbody tr th:only-of-type {\n",
       "        vertical-align: middle;\n",
       "    }\n",
       "\n",
       "    .dataframe tbody tr th {\n",
       "        vertical-align: top;\n",
       "    }\n",
       "\n",
       "    .dataframe thead th {\n",
       "        text-align: right;\n",
       "    }\n",
       "</style>\n",
       "<table border=\"1\" class=\"dataframe\">\n",
       "  <thead>\n",
       "    <tr style=\"text-align: right;\">\n",
       "      <th></th>\n",
       "      <th>ID</th>\n",
       "      <th>sentiment</th>\n",
       "      <th>Problem</th>\n",
       "      <th>Problem_Label</th>\n",
       "      <th>Strategy</th>\n",
       "      <th>Strategy_Label</th>\n",
       "      <th>admin</th>\n",
       "      <th>age</th>\n",
       "      <th>sex</th>\n",
       "      <th>zone</th>\n",
       "      <th>gang</th>\n",
       "      <th>family</th>\n",
       "      <th>other</th>\n",
       "      <th>risk</th>\n",
       "    </tr>\n",
       "  </thead>\n",
       "  <tbody>\n",
       "    <tr>\n",
       "      <th>0</th>\n",
       "      <td>Hollenbeck 2-20-146-2</td>\n",
       "      <td>neutral</td>\n",
       "      <td>client shared she has a hard time controlling ...</td>\n",
       "      <td>Emotional/behavior issues</td>\n",
       "      <td>clt, will attend y.e.s, and follow all the goa...</td>\n",
       "      <td>Mentorship for school/job readiness</td>\n",
       "      <td>1</td>\n",
       "      <td>15.0</td>\n",
       "      <td>2</td>\n",
       "      <td>8.0</td>\n",
       "      <td>NaN</td>\n",
       "      <td>-2.177601</td>\n",
       "      <td>-0.498248</td>\n",
       "      <td>0.145111</td>\n",
       "    </tr>\n",
       "    <tr>\n",
       "      <th>1</th>\n",
       "      <td>Hollenbeck 2-20-146-2</td>\n",
       "      <td>neutral</td>\n",
       "      <td>client shared she has a hard time controlling ...</td>\n",
       "      <td>Emotional/behavior issues</td>\n",
       "      <td>clt, will attend y.e.s, and follow all the goa...</td>\n",
       "      <td>Mentorship for school/job readiness</td>\n",
       "      <td>2</td>\n",
       "      <td>15.0</td>\n",
       "      <td>2</td>\n",
       "      <td>8.0</td>\n",
       "      <td>NaN</td>\n",
       "      <td>-2.931104</td>\n",
       "      <td>NaN</td>\n",
       "      <td>-1.643316</td>\n",
       "    </tr>\n",
       "    <tr>\n",
       "      <th>2</th>\n",
       "      <td>Southwest 1-15-269-1</td>\n",
       "      <td>sadness</td>\n",
       "      <td>client is on probation for multiple absences a...</td>\n",
       "      <td>Emotional/behavior issues</td>\n",
       "      <td>client maintains consistent contact with cm/ci...</td>\n",
       "      <td>Mentorship for school/job readiness</td>\n",
       "      <td>1</td>\n",
       "      <td>25.0</td>\n",
       "      <td>2</td>\n",
       "      <td>22.0</td>\n",
       "      <td>2.430069</td>\n",
       "      <td>7.436289</td>\n",
       "      <td>1.429388</td>\n",
       "      <td>-1.062029</td>\n",
       "    </tr>\n",
       "    <tr>\n",
       "      <th>3</th>\n",
       "      <td>Southwest 1-15-269-1</td>\n",
       "      <td>sadness</td>\n",
       "      <td>client is on probation for multiple absences a...</td>\n",
       "      <td>Emotional/behavior issues</td>\n",
       "      <td>client maintains consistent contact with cm/ci...</td>\n",
       "      <td>Mentorship for school/job readiness</td>\n",
       "      <td>2</td>\n",
       "      <td>26.0</td>\n",
       "      <td>2</td>\n",
       "      <td>22.0</td>\n",
       "      <td>-0.022227</td>\n",
       "      <td>2.068344</td>\n",
       "      <td>1.620153</td>\n",
       "      <td>-0.464781</td>\n",
       "    </tr>\n",
       "    <tr>\n",
       "      <th>4</th>\n",
       "      <td>Southwest 1-15-269-1</td>\n",
       "      <td>joy</td>\n",
       "      <td>client is on probation for multiple absences a...</td>\n",
       "      <td>Emotional/behavior issues</td>\n",
       "      <td>client maintains consistent contact with cm/ci...</td>\n",
       "      <td>Mentorship for school/job readiness</td>\n",
       "      <td>1</td>\n",
       "      <td>25.0</td>\n",
       "      <td>2</td>\n",
       "      <td>22.0</td>\n",
       "      <td>2.430069</td>\n",
       "      <td>7.436289</td>\n",
       "      <td>1.429388</td>\n",
       "      <td>-1.062029</td>\n",
       "    </tr>\n",
       "    <tr>\n",
       "      <th>...</th>\n",
       "      <td>...</td>\n",
       "      <td>...</td>\n",
       "      <td>...</td>\n",
       "      <td>...</td>\n",
       "      <td>...</td>\n",
       "      <td>...</td>\n",
       "      <td>...</td>\n",
       "      <td>...</td>\n",
       "      <td>...</td>\n",
       "      <td>...</td>\n",
       "      <td>...</td>\n",
       "      <td>...</td>\n",
       "      <td>...</td>\n",
       "      <td>...</td>\n",
       "    </tr>\n",
       "    <tr>\n",
       "      <th>445</th>\n",
       "      <td>Hollenbeck 1-20-244-1</td>\n",
       "      <td>neutral</td>\n",
       "      <td>client is in need of support and encouragement</td>\n",
       "      <td>Emotional/behavior issues</td>\n",
       "      <td>cm will provide dmv waiver form and assist cli...</td>\n",
       "      <td>Mentorship for school/job readiness</td>\n",
       "      <td>2</td>\n",
       "      <td>19.0</td>\n",
       "      <td>2</td>\n",
       "      <td>7.0</td>\n",
       "      <td>NaN</td>\n",
       "      <td>-9.186087</td>\n",
       "      <td>NaN</td>\n",
       "      <td>-4.329781</td>\n",
       "    </tr>\n",
       "    <tr>\n",
       "      <th>446</th>\n",
       "      <td>Newton 2-23-200-2</td>\n",
       "      <td>joy</td>\n",
       "      <td>anti-social behavior. very quit. stays to her-...</td>\n",
       "      <td>Emotional/behavior issues</td>\n",
       "      <td>have client lead peer group meeting, have clie...</td>\n",
       "      <td>Mentorship for school/job readiness</td>\n",
       "      <td>1</td>\n",
       "      <td>15.0</td>\n",
       "      <td>2</td>\n",
       "      <td>13.0</td>\n",
       "      <td>NaN</td>\n",
       "      <td>5.322947</td>\n",
       "      <td>-4.045147</td>\n",
       "      <td>-1.800047</td>\n",
       "    </tr>\n",
       "    <tr>\n",
       "      <th>447</th>\n",
       "      <td>Newton 2-23-200-2</td>\n",
       "      <td>joy</td>\n",
       "      <td>anti-social behavior. very quit. stays to her-...</td>\n",
       "      <td>Emotional/behavior issues</td>\n",
       "      <td>have client lead peer group meeting, have clie...</td>\n",
       "      <td>Mentorship for school/job readiness</td>\n",
       "      <td>2</td>\n",
       "      <td>16.0</td>\n",
       "      <td>2</td>\n",
       "      <td>NaN</td>\n",
       "      <td>NaN</td>\n",
       "      <td>-1.737430</td>\n",
       "      <td>NaN</td>\n",
       "      <td>-2.089045</td>\n",
       "    </tr>\n",
       "    <tr>\n",
       "      <th>448</th>\n",
       "      <td>Newton 2-23-310-1</td>\n",
       "      <td>sadness</td>\n",
       "      <td>client needs to go back to school to obtain he...</td>\n",
       "      <td>Need assistance with school enrollment/improvi...</td>\n",
       "      <td>team will advise client to re-enroll back into...</td>\n",
       "      <td>Mentorship for school/job readiness</td>\n",
       "      <td>1</td>\n",
       "      <td>18.0</td>\n",
       "      <td>2</td>\n",
       "      <td>13.0</td>\n",
       "      <td>NaN</td>\n",
       "      <td>1.927592</td>\n",
       "      <td>-3.084862</td>\n",
       "      <td>-3.245038</td>\n",
       "    </tr>\n",
       "    <tr>\n",
       "      <th>449</th>\n",
       "      <td>Newton 2-23-310-1</td>\n",
       "      <td>sadness</td>\n",
       "      <td>client needs to go back to school to obtain he...</td>\n",
       "      <td>Need assistance with school enrollment/improvi...</td>\n",
       "      <td>team will advise client to re-enroll back into...</td>\n",
       "      <td>Mentorship for school/job readiness</td>\n",
       "      <td>2</td>\n",
       "      <td>18.0</td>\n",
       "      <td>2</td>\n",
       "      <td>13.0</td>\n",
       "      <td>NaN</td>\n",
       "      <td>4.119910</td>\n",
       "      <td>NaN</td>\n",
       "      <td>-1.511049</td>\n",
       "    </tr>\n",
       "  </tbody>\n",
       "</table>\n",
       "<p>450 rows × 14 columns</p>\n",
       "</div>"
      ],
      "text/plain": [
       "                        ID sentiment  \\\n",
       "0    Hollenbeck 2-20-146-2   neutral   \n",
       "1    Hollenbeck 2-20-146-2   neutral   \n",
       "2     Southwest 1-15-269-1   sadness   \n",
       "3     Southwest 1-15-269-1   sadness   \n",
       "4     Southwest 1-15-269-1       joy   \n",
       "..                     ...       ...   \n",
       "445  Hollenbeck 1-20-244-1   neutral   \n",
       "446      Newton 2-23-200-2       joy   \n",
       "447      Newton 2-23-200-2       joy   \n",
       "448      Newton 2-23-310-1   sadness   \n",
       "449      Newton 2-23-310-1   sadness   \n",
       "\n",
       "                                               Problem  \\\n",
       "0    client shared she has a hard time controlling ...   \n",
       "1    client shared she has a hard time controlling ...   \n",
       "2    client is on probation for multiple absences a...   \n",
       "3    client is on probation for multiple absences a...   \n",
       "4    client is on probation for multiple absences a...   \n",
       "..                                                 ...   \n",
       "445     client is in need of support and encouragement   \n",
       "446  anti-social behavior. very quit. stays to her-...   \n",
       "447  anti-social behavior. very quit. stays to her-...   \n",
       "448  client needs to go back to school to obtain he...   \n",
       "449  client needs to go back to school to obtain he...   \n",
       "\n",
       "                                         Problem_Label  \\\n",
       "0                            Emotional/behavior issues   \n",
       "1                            Emotional/behavior issues   \n",
       "2                            Emotional/behavior issues   \n",
       "3                            Emotional/behavior issues   \n",
       "4                            Emotional/behavior issues   \n",
       "..                                                 ...   \n",
       "445                          Emotional/behavior issues   \n",
       "446                          Emotional/behavior issues   \n",
       "447                          Emotional/behavior issues   \n",
       "448  Need assistance with school enrollment/improvi...   \n",
       "449  Need assistance with school enrollment/improvi...   \n",
       "\n",
       "                                              Strategy  \\\n",
       "0    clt, will attend y.e.s, and follow all the goa...   \n",
       "1    clt, will attend y.e.s, and follow all the goa...   \n",
       "2    client maintains consistent contact with cm/ci...   \n",
       "3    client maintains consistent contact with cm/ci...   \n",
       "4    client maintains consistent contact with cm/ci...   \n",
       "..                                                 ...   \n",
       "445  cm will provide dmv waiver form and assist cli...   \n",
       "446  have client lead peer group meeting, have clie...   \n",
       "447  have client lead peer group meeting, have clie...   \n",
       "448  team will advise client to re-enroll back into...   \n",
       "449  team will advise client to re-enroll back into...   \n",
       "\n",
       "                          Strategy_Label  admin   age  sex  zone      gang  \\\n",
       "0    Mentorship for school/job readiness      1  15.0    2   8.0       NaN   \n",
       "1    Mentorship for school/job readiness      2  15.0    2   8.0       NaN   \n",
       "2    Mentorship for school/job readiness      1  25.0    2  22.0  2.430069   \n",
       "3    Mentorship for school/job readiness      2  26.0    2  22.0 -0.022227   \n",
       "4    Mentorship for school/job readiness      1  25.0    2  22.0  2.430069   \n",
       "..                                   ...    ...   ...  ...   ...       ...   \n",
       "445  Mentorship for school/job readiness      2  19.0    2   7.0       NaN   \n",
       "446  Mentorship for school/job readiness      1  15.0    2  13.0       NaN   \n",
       "447  Mentorship for school/job readiness      2  16.0    2   NaN       NaN   \n",
       "448  Mentorship for school/job readiness      1  18.0    2  13.0       NaN   \n",
       "449  Mentorship for school/job readiness      2  18.0    2  13.0       NaN   \n",
       "\n",
       "       family     other      risk  \n",
       "0   -2.177601 -0.498248  0.145111  \n",
       "1   -2.931104       NaN -1.643316  \n",
       "2    7.436289  1.429388 -1.062029  \n",
       "3    2.068344  1.620153 -0.464781  \n",
       "4    7.436289  1.429388 -1.062029  \n",
       "..        ...       ...       ...  \n",
       "445 -9.186087       NaN -4.329781  \n",
       "446  5.322947 -4.045147 -1.800047  \n",
       "447 -1.737430       NaN -2.089045  \n",
       "448  1.927592 -3.084862 -3.245038  \n",
       "449  4.119910       NaN -1.511049  \n",
       "\n",
       "[450 rows x 14 columns]"
      ]
     },
     "execution_count": 114,
     "metadata": {},
     "output_type": "execute_result"
    }
   ],
   "source": [
    "df"
   ]
  },
  {
   "cell_type": "code",
   "execution_count": 145,
   "metadata": {},
   "outputs": [
    {
     "data": {
      "text/plain": [
       "Text(0, 0.5, 'z_score')"
      ]
     },
     "execution_count": 145,
     "metadata": {},
     "output_type": "execute_result"
    },
    {
     "data": {
      "image/png": "[encoded data removed]",
      "text/plain": [
       "<Figure size 432x288 with 1 Axes>"
      ]
     },
     "metadata": {
      "needs_background": "light"
     },
     "output_type": "display_data"
    }
   ],
   "source": [
    "sns.boxplot(x='sentiment',y='gang',data=df,hue='admin',palette='rainbow')\n",
    "plt.ylabel('z_score')"
   ]
  },
  {
   "cell_type": "code",
   "execution_count": 146,
   "metadata": {},
   "outputs": [
    {
     "data": {
      "text/plain": [
       "Text(0, 0.5, 'risk')"
      ]
     },
     "execution_count": 146,
     "metadata": {},
     "output_type": "execute_result"
    },
    {
     "data": {
      "image/png": "[encoded data removed]",
      "text/plain": [
       "<Figure size 432x288 with 1 Axes>"
      ]
     },
     "metadata": {
      "needs_background": "light"
     },
     "output_type": "display_data"
    }
   ],
   "source": [
    "sns.boxplot(x='sentiment',y='risk',data=df,hue='admin',palette='rainbow')\n",
    "plt.ylabel('risk')"
   ]
  },
  {
   "cell_type": "code",
   "execution_count": 75,
   "metadata": {},
   "outputs": [
    {
     "data": {
      "text/html": [
       "<div>\n",
       "<style scoped>\n",
       "    .dataframe tbody tr th:only-of-type {\n",
       "        vertical-align: middle;\n",
       "    }\n",
       "\n",
       "    .dataframe tbody tr th {\n",
       "        vertical-align: top;\n",
       "    }\n",
       "\n",
       "    .dataframe thead th {\n",
       "        text-align: right;\n",
       "    }\n",
       "</style>\n",
       "<table border=\"1\" class=\"dataframe\">\n",
       "  <thead>\n",
       "    <tr style=\"text-align: right;\">\n",
       "      <th></th>\n",
       "      <th>ID</th>\n",
       "      <th>Problem</th>\n",
       "      <th>Problem_Label</th>\n",
       "      <th>Strategy</th>\n",
       "      <th>Strategy_Label</th>\n",
       "      <th>admin</th>\n",
       "      <th>age</th>\n",
       "      <th>sex</th>\n",
       "      <th>zone</th>\n",
       "      <th>gang</th>\n",
       "      <th>family</th>\n",
       "      <th>other</th>\n",
       "      <th>risk</th>\n",
       "    </tr>\n",
       "  </thead>\n",
       "  <tbody>\n",
       "    <tr>\n",
       "      <th>0</th>\n",
       "      <td>77th 1-16-64-1</td>\n",
       "      <td>client has a lot of issues he is a foster kid ...</td>\n",
       "      <td>Emotional/behavior issues</td>\n",
       "      <td>referred him to in-house services through sea ...</td>\n",
       "      <td>Mentorship for school/job readiness</td>\n",
       "      <td>1</td>\n",
       "      <td>17.0</td>\n",
       "      <td>1</td>\n",
       "      <td>1.0</td>\n",
       "      <td>-0.014132</td>\n",
       "      <td>-1.606012</td>\n",
       "      <td>-0.178780</td>\n",
       "      <td>2.276122</td>\n",
       "    </tr>\n",
       "    <tr>\n",
       "      <th>1</th>\n",
       "      <td>77th 1-16-64-1</td>\n",
       "      <td>client has a lot of issues he is a foster kid ...</td>\n",
       "      <td>Emotional/behavior issues</td>\n",
       "      <td>referred him to in-house services through sea ...</td>\n",
       "      <td>Mentorship for school/job readiness</td>\n",
       "      <td>2</td>\n",
       "      <td>17.0</td>\n",
       "      <td>1</td>\n",
       "      <td>1.0</td>\n",
       "      <td>-1.619353</td>\n",
       "      <td>-0.649773</td>\n",
       "      <td>0.524949</td>\n",
       "      <td>-1.745610</td>\n",
       "    </tr>\n",
       "    <tr>\n",
       "      <th>2</th>\n",
       "      <td>77th 1-16-81-1</td>\n",
       "      <td>low self esteem</td>\n",
       "      <td>Emotional/behavior issues</td>\n",
       "      <td>life skills- self love</td>\n",
       "      <td>Substance abuse/Anger management/Life skill class</td>\n",
       "      <td>1</td>\n",
       "      <td>18.0</td>\n",
       "      <td>2</td>\n",
       "      <td>1.0</td>\n",
       "      <td>0.564769</td>\n",
       "      <td>1.581231</td>\n",
       "      <td>NaN</td>\n",
       "      <td>-0.432885</td>\n",
       "    </tr>\n",
       "    <tr>\n",
       "      <th>3</th>\n",
       "      <td>77th 1-16-81-1</td>\n",
       "      <td>low self esteem</td>\n",
       "      <td>Emotional/behavior issues</td>\n",
       "      <td>life skills- self love</td>\n",
       "      <td>Substance abuse/Anger management/Life skill class</td>\n",
       "      <td>2</td>\n",
       "      <td>18.0</td>\n",
       "      <td>2</td>\n",
       "      <td>1.0</td>\n",
       "      <td>-2.870912</td>\n",
       "      <td>-0.007304</td>\n",
       "      <td>-1.015941</td>\n",
       "      <td>-2.667042</td>\n",
       "    </tr>\n",
       "    <tr>\n",
       "      <th>4</th>\n",
       "      <td>77th 1-16-95-1</td>\n",
       "      <td>client has girl drama at school with gossiping...</td>\n",
       "      <td>Emotional/behavior issues</td>\n",
       "      <td>one on one anger management skills</td>\n",
       "      <td>Substance abuse/Anger management/Life skill class</td>\n",
       "      <td>1</td>\n",
       "      <td>17.0</td>\n",
       "      <td>2</td>\n",
       "      <td>1.0</td>\n",
       "      <td>1.874593</td>\n",
       "      <td>-1.282688</td>\n",
       "      <td>NaN</td>\n",
       "      <td>2.209041</td>\n",
       "    </tr>\n",
       "    <tr>\n",
       "      <th>...</th>\n",
       "      <td>...</td>\n",
       "      <td>...</td>\n",
       "      <td>...</td>\n",
       "      <td>...</td>\n",
       "      <td>...</td>\n",
       "      <td>...</td>\n",
       "      <td>...</td>\n",
       "      <td>...</td>\n",
       "      <td>...</td>\n",
       "      <td>...</td>\n",
       "      <td>...</td>\n",
       "      <td>...</td>\n",
       "      <td>...</td>\n",
       "    </tr>\n",
       "    <tr>\n",
       "      <th>3053</th>\n",
       "      <td>Southwest 2-23-277-1</td>\n",
       "      <td>client is currently on probation.</td>\n",
       "      <td>Emotional/behavior issues</td>\n",
       "      <td>cm developed a plan that client is to attend a...</td>\n",
       "      <td>Mentorship for school/job readiness</td>\n",
       "      <td>1</td>\n",
       "      <td>18.0</td>\n",
       "      <td>1</td>\n",
       "      <td>23.0</td>\n",
       "      <td>NaN</td>\n",
       "      <td>-1.701536</td>\n",
       "      <td>NaN</td>\n",
       "      <td>0.870485</td>\n",
       "    </tr>\n",
       "    <tr>\n",
       "      <th>3054</th>\n",
       "      <td>Southwest 2-23-278-1</td>\n",
       "      <td>client is currently on probation.</td>\n",
       "      <td>Emotional/behavior issues</td>\n",
       "      <td>cm has developed a plan for client to attend a...</td>\n",
       "      <td>Mentorship for school/job readiness</td>\n",
       "      <td>1</td>\n",
       "      <td>15.0</td>\n",
       "      <td>1</td>\n",
       "      <td>23.0</td>\n",
       "      <td>NaN</td>\n",
       "      <td>-3.189209</td>\n",
       "      <td>NaN</td>\n",
       "      <td>0.674581</td>\n",
       "    </tr>\n",
       "    <tr>\n",
       "      <th>3055</th>\n",
       "      <td>Southwest 2-23-279-1</td>\n",
       "      <td>client is currently on probation.</td>\n",
       "      <td>Emotional/behavior issues</td>\n",
       "      <td>cm will conducted workshops needed for client ...</td>\n",
       "      <td>Mentorship for school/job readiness</td>\n",
       "      <td>1</td>\n",
       "      <td>18.0</td>\n",
       "      <td>2</td>\n",
       "      <td>23.0</td>\n",
       "      <td>NaN</td>\n",
       "      <td>-0.818635</td>\n",
       "      <td>NaN</td>\n",
       "      <td>2.572766</td>\n",
       "    </tr>\n",
       "    <tr>\n",
       "      <th>3056</th>\n",
       "      <td>Southwest 2-23-280-1</td>\n",
       "      <td>client is currently on probation.</td>\n",
       "      <td>Emotional/behavior issues</td>\n",
       "      <td>cm will provide client with substance abuse wo...</td>\n",
       "      <td>Substance abuse/Anger management/Life skill class</td>\n",
       "      <td>1</td>\n",
       "      <td>15.0</td>\n",
       "      <td>2</td>\n",
       "      <td>23.0</td>\n",
       "      <td>NaN</td>\n",
       "      <td>-1.823371</td>\n",
       "      <td>NaN</td>\n",
       "      <td>-2.667042</td>\n",
       "    </tr>\n",
       "    <tr>\n",
       "      <th>3057</th>\n",
       "      <td>Southwest 2-23-281-1</td>\n",
       "      <td>client is currently on probation.</td>\n",
       "      <td>Emotional/behavior issues</td>\n",
       "      <td>cm will conduct substance abuse workshops that...</td>\n",
       "      <td>Substance abuse/Anger management/Life skill class</td>\n",
       "      <td>1</td>\n",
       "      <td>18.0</td>\n",
       "      <td>1</td>\n",
       "      <td>23.0</td>\n",
       "      <td>NaN</td>\n",
       "      <td>-1.442802</td>\n",
       "      <td>NaN</td>\n",
       "      <td>0.756585</td>\n",
       "    </tr>\n",
       "  </tbody>\n",
       "</table>\n",
       "<p>3042 rows × 13 columns</p>\n",
       "</div>"
      ],
      "text/plain": [
       "                        ID                                            Problem  \\\n",
       "0           77th 1-16-64-1  client has a lot of issues he is a foster kid ...   \n",
       "1           77th 1-16-64-1  client has a lot of issues he is a foster kid ...   \n",
       "2           77th 1-16-81-1                                    low self esteem   \n",
       "3           77th 1-16-81-1                                    low self esteem   \n",
       "4           77th 1-16-95-1  client has girl drama at school with gossiping...   \n",
       "...                    ...                                                ...   \n",
       "3053  Southwest 2-23-277-1                  client is currently on probation.   \n",
       "3054  Southwest 2-23-278-1                  client is currently on probation.   \n",
       "3055  Southwest 2-23-279-1                  client is currently on probation.   \n",
       "3056  Southwest 2-23-280-1                  client is currently on probation.   \n",
       "3057  Southwest 2-23-281-1                  client is currently on probation.   \n",
       "\n",
       "                  Problem_Label  \\\n",
       "0     Emotional/behavior issues   \n",
       "1     Emotional/behavior issues   \n",
       "2     Emotional/behavior issues   \n",
       "3     Emotional/behavior issues   \n",
       "4     Emotional/behavior issues   \n",
       "...                         ...   \n",
       "3053  Emotional/behavior issues   \n",
       "3054  Emotional/behavior issues   \n",
       "3055  Emotional/behavior issues   \n",
       "3056  Emotional/behavior issues   \n",
       "3057  Emotional/behavior issues   \n",
       "\n",
       "                                               Strategy  \\\n",
       "0     referred him to in-house services through sea ...   \n",
       "1     referred him to in-house services through sea ...   \n",
       "2                                life skills- self love   \n",
       "3                                life skills- self love   \n",
       "4                    one on one anger management skills   \n",
       "...                                                 ...   \n",
       "3053  cm developed a plan that client is to attend a...   \n",
       "3054  cm has developed a plan for client to attend a...   \n",
       "3055  cm will conducted workshops needed for client ...   \n",
       "3056  cm will provide client with substance abuse wo...   \n",
       "3057  cm will conduct substance abuse workshops that...   \n",
       "\n",
       "                                         Strategy_Label  admin   age  sex  \\\n",
       "0                   Mentorship for school/job readiness      1  17.0    1   \n",
       "1                   Mentorship for school/job readiness      2  17.0    1   \n",
       "2     Substance abuse/Anger management/Life skill class      1  18.0    2   \n",
       "3     Substance abuse/Anger management/Life skill class      2  18.0    2   \n",
       "4     Substance abuse/Anger management/Life skill class      1  17.0    2   \n",
       "...                                                 ...    ...   ...  ...   \n",
       "3053                Mentorship for school/job readiness      1  18.0    1   \n",
       "3054                Mentorship for school/job readiness      1  15.0    1   \n",
       "3055                Mentorship for school/job readiness      1  18.0    2   \n",
       "3056  Substance abuse/Anger management/Life skill class      1  15.0    2   \n",
       "3057  Substance abuse/Anger management/Life skill class      1  18.0    1   \n",
       "\n",
       "      zone      gang    family     other      risk  \n",
       "0      1.0 -0.014132 -1.606012 -0.178780  2.276122  \n",
       "1      1.0 -1.619353 -0.649773  0.524949 -1.745610  \n",
       "2      1.0  0.564769  1.581231       NaN -0.432885  \n",
       "3      1.0 -2.870912 -0.007304 -1.015941 -2.667042  \n",
       "4      1.0  1.874593 -1.282688       NaN  2.209041  \n",
       "...    ...       ...       ...       ...       ...  \n",
       "3053  23.0       NaN -1.701536       NaN  0.870485  \n",
       "3054  23.0       NaN -3.189209       NaN  0.674581  \n",
       "3055  23.0       NaN -0.818635       NaN  2.572766  \n",
       "3056  23.0       NaN -1.823371       NaN -2.667042  \n",
       "3057  23.0       NaN -1.442802       NaN  0.756585  \n",
       "\n",
       "[3042 rows x 13 columns]"
      ]
     },
     "execution_count": 75,
     "metadata": {},
     "output_type": "execute_result"
    }
   ],
   "source": [
    "df"
   ]
  },
  {
   "cell_type": "code",
   "execution_count": 88,
   "metadata": {},
   "outputs": [
    {
     "data": {
      "text/plain": [
       "1883"
      ]
     },
     "execution_count": 88,
     "metadata": {},
     "output_type": "execute_result"
    }
   ],
   "source": [
    "intake = df[df['admin']==1]\n",
    "retest = df[df['admin']==2]\n",
    "len(intake)"
   ]
  },
  {
   "cell_type": "code",
   "execution_count": null,
   "metadata": {},
   "outputs": [],
   "source": []
  },
  {
   "cell_type": "code",
   "execution_count": null,
   "metadata": {},
   "outputs": [],
   "source": []
  },
  {
   "cell_type": "code",
   "execution_count": null,
   "metadata": {},
   "outputs": [],
   "source": []
  },
  {
   "cell_type": "code",
   "execution_count": null,
   "metadata": {},
   "outputs": [],
   "source": []
  },
  {
   "cell_type": "code",
   "execution_count": null,
   "metadata": {},
   "outputs": [],
   "source": []
  },
  {
   "cell_type": "code",
   "execution_count": 42,
   "metadata": {},
   "outputs": [
    {
     "data": {
      "text/plain": [
       "0"
      ]
     },
     "execution_count": 42,
     "metadata": {},
     "output_type": "execute_result"
    }
   ],
   "source": [
    "intake = intake.drop_duplicates(subset = [\"ID\"])\n",
    "len(intake)"
   ]
  },
  {
   "cell_type": "code",
   "execution_count": 137,
   "metadata": {},
   "outputs": [
    {
     "data": {
      "text/plain": [
       "Ttest_relResult(statistic=4.110366533081139, pvalue=0.00012585269528210077)"
      ]
     },
     "execution_count": 137,
     "metadata": {},
     "output_type": "execute_result"
    }
   ],
   "source": [
    "stats.ttest_rel(intake[intake['sentiment']=='sadness']['risk'], \n",
    "                retest[retest['sentiment']=='sadness']['risk'])"
   ]
  },
  {
   "cell_type": "code",
   "execution_count": 138,
   "metadata": {},
   "outputs": [
    {
     "data": {
      "text/plain": [
       "Ttest_relResult(statistic=3.4451444357353656, pvalue=0.0010776421517894685)"
      ]
     },
     "execution_count": 138,
     "metadata": {},
     "output_type": "execute_result"
    }
   ],
   "source": [
    "stats.ttest_rel(intake[intake['sentiment']=='fear']['risk'], \n",
    "                retest[retest['sentiment']=='fear']['risk'])"
   ]
  },
  {
   "cell_type": "code",
   "execution_count": 139,
   "metadata": {},
   "outputs": [
    {
     "data": {
      "text/plain": [
       "Ttest_relResult(statistic=-0.7534821357125655, pvalue=0.4757344833358852)"
      ]
     },
     "execution_count": 139,
     "metadata": {},
     "output_type": "execute_result"
    }
   ],
   "source": [
    "stats.ttest_rel(intake[intake['sentiment']=='anger']['risk'], \n",
    "                retest[retest['sentiment']=='anger']['risk'])"
   ]
  },
  {
   "cell_type": "code",
   "execution_count": 140,
   "metadata": {},
   "outputs": [
    {
     "data": {
      "text/plain": [
       "(nan, nan)"
      ]
     },
     "execution_count": 140,
     "metadata": {},
     "output_type": "execute_result"
    }
   ],
   "source": [
    "stats.ttest_rel(intake[intake['sentiment']=='worry']['risk'], \n",
    "                retest[retest['sentiment']=='worry']['risk'])"
   ]
  },
  {
   "cell_type": "code",
   "execution_count": 143,
   "metadata": {},
   "outputs": [
    {
     "data": {
      "text/plain": [
       "Ttest_relResult(statistic=2.3056724421250476, pvalue=0.03582918746854227)"
      ]
     },
     "execution_count": 143,
     "metadata": {},
     "output_type": "execute_result"
    }
   ],
   "source": [
    "stats.ttest_rel(intake[intake['sentiment']=='joy']['risk'], \n",
    "                retest[retest['sentiment']=='joy']['risk'])"
   ]
  },
  {
   "cell_type": "code",
   "execution_count": 142,
   "metadata": {},
   "outputs": [
    {
     "data": {
      "text/plain": [
       "Ttest_relResult(statistic=2.465380267179928, pvalue=0.02122416256582446)"
      ]
     },
     "execution_count": 142,
     "metadata": {},
     "output_type": "execute_result"
    }
   ],
   "source": [
    "stats.ttest_rel(intake[intake['sentiment']=='neutral']['risk'], \n",
    "                retest[retest['sentiment']=='neutral']['risk'])"
   ]
  },
  {
   "cell_type": "code",
   "execution_count": null,
   "metadata": {},
   "outputs": [],
   "source": []
  }
 ],
 "metadata": {
  "kernelspec": {
   "display_name": "Python 3",
   "language": "python",
   "name": "python3"
  },
  "language_info": {
   "codemirror_mode": {
    "name": "ipython",
    "version": 3
   },
   "file_extension": ".py",
   "mimetype": "text/x-python",
   "name": "python",
   "nbconvert_exporter": "python",
   "pygments_lexer": "ipython3",
   "version": "3.7.6"
  }
 },
 "nbformat": 4,
 "nbformat_minor": 2
}
